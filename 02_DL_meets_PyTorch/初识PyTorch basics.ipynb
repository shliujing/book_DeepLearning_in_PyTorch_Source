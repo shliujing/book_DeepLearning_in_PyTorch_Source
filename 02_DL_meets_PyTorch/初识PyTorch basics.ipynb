{
 "cells": [
  {
   "cell_type": "markdown",
   "metadata": {},
   "source": [
    "# 第一课 当深度学习遇上PyTorch\n",
    "\n",
    "在这节课中，我们主要展示了PyTorch的使用方法，以及如何用PyTorch实现一个线性回归算法\n",
    "\n",
    "本文件是集智AI学园http://campus.swarma.org 出品的“火炬上的深度学习”第II课的配套源代码"
   ]
  },
  {
   "cell_type": "markdown",
   "metadata": {},
   "source": [
    "## 一、有关Tensor和Autograd变量的练习\n",
    "### 1. Tensor\n",
    "#### a. 产生Tensor"
   ]
  },
  {
   "cell_type": "code",
   "execution_count": 1,
   "metadata": {},
   "outputs": [
    {
     "output_type": "stream",
     "name": "stdout",
     "text": [
      "adad\n"
     ]
    }
   ],
   "source": [
    "import torch  #导入torch包\n",
    "torch.__version__ #显示当前PyTorch版本号，笔者用的是0.1.12_2，有些命令可能在新的版本下无法执行，请参考PyTorch文件找到最新的相应命令\n",
    "\n",
    "print(\"adad\")"
   ]
  },
  {
   "cell_type": "code",
   "execution_count": 2,
   "metadata": {},
   "outputs": [
    {
     "output_type": "execute_result",
     "data": {
      "text/plain": [
       "tensor([[0.6430, 0.0783, 0.5311],\n",
       "        [0.5821, 0.2028, 0.0960],\n",
       "        [0.5966, 0.2978, 0.1286],\n",
       "        [0.5961, 0.4076, 0.3662],\n",
       "        [0.7798, 0.5199, 0.6328]])"
      ]
     },
     "metadata": {},
     "execution_count": 2
    }
   ],
   "source": [
    "x = torch.rand(5, 3)  #产生一个5*3的tensor，随机取值\n",
    "x  #显示x的值"
   ]
  },
  {
   "cell_type": "code",
   "execution_count": 3,
   "metadata": {},
   "outputs": [
    {
     "output_type": "execute_result",
     "data": {
      "text/plain": [
       "tensor([[1., 1., 1.],\n",
       "        [1., 1., 1.],\n",
       "        [1., 1., 1.],\n",
       "        [1., 1., 1.],\n",
       "        [1., 1., 1.]])"
      ]
     },
     "metadata": {},
     "execution_count": 3
    }
   ],
   "source": [
    "y = torch.ones(5, 3) #产生一个5*3的Tensor，元素都是1\n",
    "y"
   ]
  },
  {
   "cell_type": "code",
   "execution_count": 4,
   "metadata": {},
   "outputs": [
    {
     "output_type": "execute_result",
     "data": {
      "text/plain": [
       "tensor([[[0., 0., 0.],\n",
       "         [0., 0., 0.],\n",
       "         [0., 0., 0.],\n",
       "         [0., 0., 0.],\n",
       "         [0., 0., 0.]],\n",
       "\n",
       "        [[0., 0., 0.],\n",
       "         [0., 0., 0.],\n",
       "         [0., 0., 0.],\n",
       "         [0., 0., 0.],\n",
       "         [0., 0., 0.]]])"
      ]
     },
     "metadata": {},
     "execution_count": 4
    }
   ],
   "source": [
    "z = torch.zeros(2, 5, 3) #产生一个5*3的Tensor，元素都是1\n",
    "z"
   ]
  },
  {
   "cell_type": "code",
   "execution_count": 5,
   "metadata": {},
   "outputs": [
    {
     "output_type": "execute_result",
     "data": {
      "text/plain": [
       "tensor([[0., 0., 0.],\n",
       "        [0., 0., 0.],\n",
       "        [0., 0., 0.],\n",
       "        [0., 0., 0.],\n",
       "        [0., 0., 0.]])"
      ]
     },
     "metadata": {},
     "execution_count": 5
    }
   ],
   "source": [
    "z[0]"
   ]
  },
  {
   "cell_type": "code",
   "execution_count": 6,
   "metadata": {},
   "outputs": [
    {
     "output_type": "execute_result",
     "data": {
      "text/plain": [
       "tensor(0.0960)"
      ]
     },
     "metadata": {},
     "execution_count": 6
    }
   ],
   "source": [
    "x[1,2]"
   ]
  },
  {
   "cell_type": "code",
   "execution_count": 7,
   "metadata": {},
   "outputs": [
    {
     "output_type": "execute_result",
     "data": {
      "text/plain": [
       "tensor([0.5311, 0.0960, 0.1286, 0.3662, 0.6328])"
      ]
     },
     "metadata": {},
     "execution_count": 7
    }
   ],
   "source": [
    "x[:,2]"
   ]
  },
  {
   "cell_type": "markdown",
   "metadata": {},
   "source": [
    "#### b. Tensor的运算"
   ]
  },
  {
   "cell_type": "code",
   "execution_count": 8,
   "metadata": {},
   "outputs": [
    {
     "output_type": "execute_result",
     "data": {
      "text/plain": [
       "tensor([[1.6430, 1.0783, 1.5311],\n",
       "        [1.5821, 1.2028, 1.0960],\n",
       "        [1.5966, 1.2978, 1.1286],\n",
       "        [1.5961, 1.4076, 1.3662],\n",
       "        [1.7798, 1.5199, 1.6328]])"
      ]
     },
     "metadata": {},
     "execution_count": 8
    }
   ],
   "source": [
    "#x = torch.FloatTensor([[0.3297,0.7021,0.1119],[0.6668,0.6904,0.1953],[0.6683,0.4260,0.2950],[0.0899,0.4099,0.0882],[0.4675,0.8369,0.1926]])\n",
    "z = x + y #两个tensor可以直接相加\n",
    "z"
   ]
  },
  {
   "cell_type": "markdown",
   "metadata": {},
   "source": [
    "下面的语句展示了两个tensor按照矩阵的方式相乘，注意x的尺寸是5*3，y的尺寸也是5*3无法进行矩阵乘法，所以先将y进行转置。\n",
    "转置操作可以用.t来完成，也可以用<!-- lang:python-->.transpose(0, 1)来完成"
   ]
  },
  {
   "cell_type": "code",
   "execution_count": 9,
   "metadata": {},
   "outputs": [
    {
     "output_type": "execute_result",
     "data": {
      "text/plain": [
       "tensor([[1.2524, 1.2524, 1.2524, 1.2524, 1.2524],\n",
       "        [0.8809, 0.8809, 0.8809, 0.8809, 0.8809],\n",
       "        [1.0230, 1.0230, 1.0230, 1.0230, 1.0230],\n",
       "        [1.3699, 1.3699, 1.3699, 1.3699, 1.3699],\n",
       "        [1.9326, 1.9326, 1.9326, 1.9326, 1.9326]])"
      ]
     },
     "metadata": {},
     "execution_count": 9
    }
   ],
   "source": [
    "q = x.mm(y.t()) #x乘以y的转置\n",
    "q"
   ]
  },
  {
   "cell_type": "markdown",
   "metadata": {},
   "source": [
    "#### c. Tensor与numpy.ndarray之间的转换"
   ]
  },
  {
   "cell_type": "code",
   "execution_count": 10,
   "metadata": {},
   "outputs": [
    {
     "output_type": "execute_result",
     "data": {
      "text/plain": [
       "tensor([[1., 1., 1.],\n",
       "        [1., 1., 1.],\n",
       "        [1., 1., 1.],\n",
       "        [1., 1., 1.],\n",
       "        [1., 1., 1.]], dtype=torch.float64)"
      ]
     },
     "metadata": {},
     "execution_count": 10
    }
   ],
   "source": [
    "import numpy as np #导入numpy包\n",
    "a = np.ones([5, 3]) #建立一个5*3全是1的二维数组（矩阵）\n",
    "b = torch.from_numpy(a) #利用from_numpy将其转换为tensor\n",
    "b"
   ]
  },
  {
   "cell_type": "code",
   "execution_count": 11,
   "metadata": {},
   "outputs": [
    {
     "output_type": "execute_result",
     "data": {
      "text/plain": [
       "tensor([[1., 1., 1.],\n",
       "        [1., 1., 1.],\n",
       "        [1., 1., 1.],\n",
       "        [1., 1., 1.],\n",
       "        [1., 1., 1.]])"
      ]
     },
     "metadata": {},
     "execution_count": 11
    }
   ],
   "source": [
    "c = torch.FloatTensor(a) #另外一种转换为tensor的方法，类型为FloatTensor，还可以使LongTensor，整型数据类型\n",
    "c"
   ]
  },
  {
   "cell_type": "code",
   "execution_count": 12,
   "metadata": {},
   "outputs": [
    {
     "output_type": "execute_result",
     "data": {
      "text/plain": [
       "array([[1., 1., 1.],\n",
       "       [1., 1., 1.],\n",
       "       [1., 1., 1.],\n",
       "       [1., 1., 1.],\n",
       "       [1., 1., 1.]])"
      ]
     },
     "metadata": {},
     "execution_count": 12
    }
   ],
   "source": [
    "b.numpy()  #从一个tensor转化为numpy的多维数组"
   ]
  },
  {
   "cell_type": "markdown",
   "metadata": {},
   "source": [
    "tensor和numpy的最大区别在于tensor可以在GPU上运算"
   ]
  },
  {
   "cell_type": "code",
   "execution_count": 13,
   "metadata": {},
   "outputs": [
    {
     "output_type": "stream",
     "name": "stdout",
     "text": [
      "tensor([[1.6430, 1.0783, 1.5311],\n        [1.5821, 1.2028, 1.0960],\n        [1.5966, 1.2978, 1.1286],\n        [1.5961, 1.4076, 1.3662],\n        [1.7798, 1.5199, 1.6328]], device='cuda:0')\n"
     ]
    }
   ],
   "source": [
    "if torch.cuda.is_available():  #检测本机器上有无GPU可用\n",
    "    x = x.cuda() #返回x的GPU上运算的版本\n",
    "    y = y.cuda()\n",
    "    print(x + y) #tensor可以在GPU上正常运算"
   ]
  },
  {
   "cell_type": "code",
   "execution_count": 14,
   "metadata": {},
   "outputs": [
    {
     "output_type": "stream",
     "name": "stdout",
     "text": [
      "tensor([[1.6430, 1.0783, 1.5311],\n        [1.5821, 1.2028, 1.0960],\n        [1.5966, 1.2978, 1.1286],\n        [1.5961, 1.4076, 1.3662],\n        [1.7798, 1.5199, 1.6328]], device='cuda:0')\ntensor([[1.6430, 1.0783, 1.5311],\n        [1.5821, 1.2028, 1.0960],\n        [1.5966, 1.2978, 1.1286],\n        [1.5961, 1.4076, 1.3662],\n        [1.7798, 1.5199, 1.6328]], dtype=torch.float64)\n"
     ]
    }
   ],
   "source": [
    "if torch.cuda.is_available():  #检测本机器上有无GPU可用\n",
    "    device = torch.device(\"cuda\")          # 选择一个CUDA设备\n",
    "    y = torch.ones_like(x, device=device)  # 在GPU上直接创建张量\n",
    "    x = x.to(device)                       # 也可以直接加载``.to(\"cuda\")``\n",
    "    z = x + y\n",
    "    print(z)\n",
    "    print(z.to(\"cpu\", torch.double))       # 转回到CPU上``.to``"
   ]
  },
  {
   "cell_type": "markdown",
   "metadata": {},
   "source": [
    "### 2. 有关自动微分变量"
   ]
  },
  {
   "cell_type": "code",
   "execution_count": 15,
   "metadata": {},
   "outputs": [
    {
     "output_type": "execute_result",
     "data": {
      "text/plain": [
       "tensor([[1., 1.],\n",
       "        [1., 1.]], requires_grad=True)"
      ]
     },
     "metadata": {},
     "execution_count": 15
    }
   ],
   "source": [
    "x = torch.ones((2, 2), requires_grad=True)  #创建一个Variable，包裹了一个2*2张量，将需要计算梯度属性置为True\n",
    "x"
   ]
  },
  {
   "cell_type": "code",
   "execution_count": 16,
   "metadata": {},
   "outputs": [
    {
     "output_type": "execute_result",
     "data": {
      "text/plain": [
       "<AddBackward0 at 0x7fe5f329ad90>"
      ]
     },
     "metadata": {},
     "execution_count": 16
    }
   ],
   "source": [
    "y = x + 2  #可以按照Tensor的方式进行计算\n",
    "y.grad_fn  #每个Variable都有一个creator（创造者节点）\n",
    "#注：在新版本PyTorch中，可以用.grad_fn"
   ]
  },
  {
   "cell_type": "code",
   "execution_count": 17,
   "metadata": {},
   "outputs": [
    {
     "output_type": "execute_result",
     "data": {
      "text/plain": [
       "<MulBackward0 at 0x7fe5f32a3350>"
      ]
     },
     "metadata": {},
     "execution_count": 17
    }
   ],
   "source": [
    "z = y * y  #可以进行各种符合运算\n",
    "z.grad_fn"
   ]
  },
  {
   "cell_type": "markdown",
   "metadata": {},
   "source": [
    "**注意，.data可以反回一个Variable所包裹的Tensor**"
   ]
  },
  {
   "cell_type": "code",
   "execution_count": 18,
   "metadata": {},
   "outputs": [
    {
     "output_type": "execute_result",
     "data": {
      "text/plain": [
       "tensor(9.)"
      ]
     },
     "metadata": {},
     "execution_count": 18
    }
   ],
   "source": [
    "z = torch.mean(y * y)  #也可以进行复合运算\n",
    "z.data #.data属性可以返回z所包裹的tensor"
   ]
  },
  {
   "cell_type": "markdown",
   "metadata": {},
   "source": [
    "** backward可以实施反向传播算法，并计算所有计算图上叶子节点的导数（梯度）信息。注意，由于z和y都不是叶子节点，所以都没有梯度信息）**"
   ]
  },
  {
   "cell_type": "code",
   "execution_count": 19,
   "metadata": {},
   "outputs": [
    {
     "output_type": "stream",
     "name": "stdout",
     "text": [
      "None\nNone\ntensor([[1.5000, 1.5000],\n        [1.5000, 1.5000]])\n"
     ]
    }
   ],
   "source": [
    "z.backward() #梯度反向传播\n",
    "print(z.grad)\n",
    "print(y.grad)\n",
    "print(x.grad)"
   ]
  },
  {
   "cell_type": "markdown",
   "metadata": {},
   "source": [
    "在下面的例子中，我们让矩阵x反复作用在向量x上，系统会自动记录中间的依赖关系和长路径"
   ]
  },
  {
   "cell_type": "code",
   "execution_count": 20,
   "metadata": {},
   "outputs": [],
   "source": [
    "s = torch.tensor([[0.01, 0.02]], requires_grad = True) #创建一个1*2的Variable（1维向量）\n",
    "x = torch.ones(2, 2, requires_grad = True) #创建一个2*2的矩阵型Variable\n",
    "for i in range(10):\n",
    "    s = s.mm(x)  #反复用s乘以x（矩阵乘法），注意s始终是1*2的Variable\n",
    "z = torch.mean(s) #对s中的各个元素求均值，得到一个1*1的scalar（标量，即1*1张量）"
   ]
  },
  {
   "cell_type": "code",
   "execution_count": 21,
   "metadata": {},
   "outputs": [
    {
     "output_type": "stream",
     "name": "stdout",
     "text": [
      "tensor([[37.1200, 37.1200],\n        [39.6800, 39.6800]])\nNone\n"
     ]
    }
   ],
   "source": [
    "z.backward() #在具有很长的依赖路径的计算图上用反向传播算法计算叶节点的梯度\n",
    "print(x.grad)  #x作为叶节点可以获得这部分梯度信息\n",
    "print(s.grad)  #s不是叶节点，没有梯度信息"
   ]
  },
  {
   "cell_type": "markdown",
   "metadata": {},
   "source": [
    "## 二、利用PyTorch实现简单的线性回归算法"
   ]
  },
  {
   "cell_type": "markdown",
   "metadata": {},
   "source": [
    "### 1. 准备数据\n",
    "\n",
    "在这里，我们人为生成一些样本点作为我们的原始数据\n",
    "\n",
    "本文件是集智AI学园http://campus.swarma.org 出品的“火炬上的深度学习”第II课的配套源代码"
   ]
  },
  {
   "cell_type": "code",
   "execution_count": 22,
   "metadata": {},
   "outputs": [],
   "source": [
    "x = torch.linspace(0, 100).type(torch.FloatTensor) #linspace可以生成0-100之间的均匀的100个数字\n",
    "rand = torch.randn(100) * 10 #随机生成100个满足标准正态分布的随机数，均值为0，方差为1.将这个数字乘以10，标准方差变为10\n",
    "y = x + rand #将x和rand相加，得到伪造的标签数据y。所以(x,y)应能近似地落在y=x这条直线上"
   ]
  },
  {
   "cell_type": "markdown",
   "metadata": {},
   "source": [
    "划分数据集"
   ]
  },
  {
   "cell_type": "code",
   "execution_count": 23,
   "metadata": {},
   "outputs": [],
   "source": [
    "x_train = x[: -10]\n",
    "x_test = x[-10 :]\n",
    "y_train = y[: -10]\n",
    "y_test = y[-10 :]"
   ]
  },
  {
   "cell_type": "markdown",
   "metadata": {},
   "source": [
    "将生成的训练数据点画在图上"
   ]
  },
  {
   "cell_type": "code",
   "execution_count": 24,
   "metadata": {},
   "outputs": [
    {
     "output_type": "display_data",
     "data": {
      "text/plain": "<Figure size 720x576 with 1 Axes>",
      "image/svg+xml": "<?xml version=\"1.0\" encoding=\"utf-8\" standalone=\"no\"?>\n<!DOCTYPE svg PUBLIC \"-//W3C//DTD SVG 1.1//EN\"\n  \"http://www.w3.org/Graphics/SVG/1.1/DTD/svg11.dtd\">\n<!-- Created with matplotlib (https://matplotlib.org/) -->\n<svg height=\"479.63625pt\" version=\"1.1\" viewBox=\"0 0 614.182812 479.63625\" width=\"614.182812pt\" xmlns=\"http://www.w3.org/2000/svg\" xmlns:xlink=\"http://www.w3.org/1999/xlink\">\n <metadata>\n  <rdf:RDF xmlns:cc=\"http://creativecommons.org/ns#\" xmlns:dc=\"http://purl.org/dc/elements/1.1/\" xmlns:rdf=\"http://www.w3.org/1999/02/22-rdf-syntax-ns#\">\n   <cc:Work>\n    <dc:type rdf:resource=\"http://purl.org/dc/dcmitype/StillImage\"/>\n    <dc:date>2020-11-24T23:26:27.221519</dc:date>\n    <dc:format>image/svg+xml</dc:format>\n    <dc:creator>\n     <cc:Agent>\n      <dc:title>Matplotlib v3.3.0, https://matplotlib.org/</dc:title>\n     </cc:Agent>\n    </dc:creator>\n   </cc:Work>\n  </rdf:RDF>\n </metadata>\n <defs>\n  <style type=\"text/css\">*{stroke-linecap:butt;stroke-linejoin:round;}</style>\n </defs>\n <g id=\"figure_1\">\n  <g id=\"patch_1\">\n   <path d=\"M 0 479.63625 \nL 614.182812 479.63625 \nL 614.182812 0 \nL 0 0 \nz\n\" style=\"fill:none;\"/>\n  </g>\n  <g id=\"axes_1\">\n   <g id=\"patch_2\">\n    <path d=\"M 48.982812 442.08 \nL 606.982813 442.08 \nL 606.982813 7.2 \nL 48.982812 7.2 \nz\n\" style=\"fill:#ffffff;\"/>\n   </g>\n   <g id=\"matplotlib.axis_1\">\n    <g id=\"xtick_1\">\n     <g id=\"line2d_1\">\n      <defs>\n       <path d=\"M 0 0 \nL 0 3.5 \n\" id=\"mf36c2cc4f7\" style=\"stroke:#000000;stroke-width:0.8;\"/>\n      </defs>\n      <g>\n       <use style=\"stroke:#000000;stroke-width:0.8;\" x=\"74.346449\" xlink:href=\"#mf36c2cc4f7\" y=\"442.08\"/>\n      </g>\n     </g>\n     <g id=\"text_1\">\n      <!-- 0 -->\n      <g transform=\"translate(71.165199 456.678437)scale(0.1 -0.1)\">\n       <defs>\n        <path d=\"M 31.78125 66.40625 \nQ 24.171875 66.40625 20.328125 58.90625 \nQ 16.5 51.421875 16.5 36.375 \nQ 16.5 21.390625 20.328125 13.890625 \nQ 24.171875 6.390625 31.78125 6.390625 \nQ 39.453125 6.390625 43.28125 13.890625 \nQ 47.125 21.390625 47.125 36.375 \nQ 47.125 51.421875 43.28125 58.90625 \nQ 39.453125 66.40625 31.78125 66.40625 \nz\nM 31.78125 74.21875 \nQ 44.046875 74.21875 50.515625 64.515625 \nQ 56.984375 54.828125 56.984375 36.375 \nQ 56.984375 17.96875 50.515625 8.265625 \nQ 44.046875 -1.421875 31.78125 -1.421875 \nQ 19.53125 -1.421875 13.0625 8.265625 \nQ 6.59375 17.96875 6.59375 36.375 \nQ 6.59375 54.828125 13.0625 64.515625 \nQ 19.53125 74.21875 31.78125 74.21875 \nz\n\" id=\"DejaVuSans-48\"/>\n       </defs>\n       <use xlink:href=\"#DejaVuSans-48\"/>\n      </g>\n     </g>\n    </g>\n    <g id=\"xtick_2\">\n     <g id=\"line2d_2\">\n      <g>\n       <use style=\"stroke:#000000;stroke-width:0.8;\" x=\"187.200385\" xlink:href=\"#mf36c2cc4f7\" y=\"442.08\"/>\n      </g>\n     </g>\n     <g id=\"text_2\">\n      <!-- 20 -->\n      <g transform=\"translate(180.837885 456.678437)scale(0.1 -0.1)\">\n       <defs>\n        <path d=\"M 19.1875 8.296875 \nL 53.609375 8.296875 \nL 53.609375 0 \nL 7.328125 0 \nL 7.328125 8.296875 \nQ 12.9375 14.109375 22.625 23.890625 \nQ 32.328125 33.6875 34.8125 36.53125 \nQ 39.546875 41.84375 41.421875 45.53125 \nQ 43.3125 49.21875 43.3125 52.78125 \nQ 43.3125 58.59375 39.234375 62.25 \nQ 35.15625 65.921875 28.609375 65.921875 \nQ 23.96875 65.921875 18.8125 64.3125 \nQ 13.671875 62.703125 7.8125 59.421875 \nL 7.8125 69.390625 \nQ 13.765625 71.78125 18.9375 73 \nQ 24.125 74.21875 28.421875 74.21875 \nQ 39.75 74.21875 46.484375 68.546875 \nQ 53.21875 62.890625 53.21875 53.421875 \nQ 53.21875 48.921875 51.53125 44.890625 \nQ 49.859375 40.875 45.40625 35.40625 \nQ 44.1875 33.984375 37.640625 27.21875 \nQ 31.109375 20.453125 19.1875 8.296875 \nz\n\" id=\"DejaVuSans-50\"/>\n       </defs>\n       <use xlink:href=\"#DejaVuSans-50\"/>\n       <use x=\"63.623047\" xlink:href=\"#DejaVuSans-48\"/>\n      </g>\n     </g>\n    </g>\n    <g id=\"xtick_3\">\n     <g id=\"line2d_3\">\n      <g>\n       <use style=\"stroke:#000000;stroke-width:0.8;\" x=\"300.054322\" xlink:href=\"#mf36c2cc4f7\" y=\"442.08\"/>\n      </g>\n     </g>\n     <g id=\"text_3\">\n      <!-- 40 -->\n      <g transform=\"translate(293.691822 456.678437)scale(0.1 -0.1)\">\n       <defs>\n        <path d=\"M 37.796875 64.3125 \nL 12.890625 25.390625 \nL 37.796875 25.390625 \nz\nM 35.203125 72.90625 \nL 47.609375 72.90625 \nL 47.609375 25.390625 \nL 58.015625 25.390625 \nL 58.015625 17.1875 \nL 47.609375 17.1875 \nL 47.609375 0 \nL 37.796875 0 \nL 37.796875 17.1875 \nL 4.890625 17.1875 \nL 4.890625 26.703125 \nz\n\" id=\"DejaVuSans-52\"/>\n       </defs>\n       <use xlink:href=\"#DejaVuSans-52\"/>\n       <use x=\"63.623047\" xlink:href=\"#DejaVuSans-48\"/>\n      </g>\n     </g>\n    </g>\n    <g id=\"xtick_4\">\n     <g id=\"line2d_4\">\n      <g>\n       <use style=\"stroke:#000000;stroke-width:0.8;\" x=\"412.908258\" xlink:href=\"#mf36c2cc4f7\" y=\"442.08\"/>\n      </g>\n     </g>\n     <g id=\"text_4\">\n      <!-- 60 -->\n      <g transform=\"translate(406.545758 456.678437)scale(0.1 -0.1)\">\n       <defs>\n        <path d=\"M 33.015625 40.375 \nQ 26.375 40.375 22.484375 35.828125 \nQ 18.609375 31.296875 18.609375 23.390625 \nQ 18.609375 15.53125 22.484375 10.953125 \nQ 26.375 6.390625 33.015625 6.390625 \nQ 39.65625 6.390625 43.53125 10.953125 \nQ 47.40625 15.53125 47.40625 23.390625 \nQ 47.40625 31.296875 43.53125 35.828125 \nQ 39.65625 40.375 33.015625 40.375 \nz\nM 52.59375 71.296875 \nL 52.59375 62.3125 \nQ 48.875 64.0625 45.09375 64.984375 \nQ 41.3125 65.921875 37.59375 65.921875 \nQ 27.828125 65.921875 22.671875 59.328125 \nQ 17.53125 52.734375 16.796875 39.40625 \nQ 19.671875 43.65625 24.015625 45.921875 \nQ 28.375 48.1875 33.59375 48.1875 \nQ 44.578125 48.1875 50.953125 41.515625 \nQ 57.328125 34.859375 57.328125 23.390625 \nQ 57.328125 12.15625 50.6875 5.359375 \nQ 44.046875 -1.421875 33.015625 -1.421875 \nQ 20.359375 -1.421875 13.671875 8.265625 \nQ 6.984375 17.96875 6.984375 36.375 \nQ 6.984375 53.65625 15.1875 63.9375 \nQ 23.390625 74.21875 37.203125 74.21875 \nQ 40.921875 74.21875 44.703125 73.484375 \nQ 48.484375 72.75 52.59375 71.296875 \nz\n\" id=\"DejaVuSans-54\"/>\n       </defs>\n       <use xlink:href=\"#DejaVuSans-54\"/>\n       <use x=\"63.623047\" xlink:href=\"#DejaVuSans-48\"/>\n      </g>\n     </g>\n    </g>\n    <g id=\"xtick_5\">\n     <g id=\"line2d_5\">\n      <g>\n       <use style=\"stroke:#000000;stroke-width:0.8;\" x=\"525.762195\" xlink:href=\"#mf36c2cc4f7\" y=\"442.08\"/>\n      </g>\n     </g>\n     <g id=\"text_5\">\n      <!-- 80 -->\n      <g transform=\"translate(519.399695 456.678437)scale(0.1 -0.1)\">\n       <defs>\n        <path d=\"M 31.78125 34.625 \nQ 24.75 34.625 20.71875 30.859375 \nQ 16.703125 27.09375 16.703125 20.515625 \nQ 16.703125 13.921875 20.71875 10.15625 \nQ 24.75 6.390625 31.78125 6.390625 \nQ 38.8125 6.390625 42.859375 10.171875 \nQ 46.921875 13.96875 46.921875 20.515625 \nQ 46.921875 27.09375 42.890625 30.859375 \nQ 38.875 34.625 31.78125 34.625 \nz\nM 21.921875 38.8125 \nQ 15.578125 40.375 12.03125 44.71875 \nQ 8.5 49.078125 8.5 55.328125 \nQ 8.5 64.0625 14.71875 69.140625 \nQ 20.953125 74.21875 31.78125 74.21875 \nQ 42.671875 74.21875 48.875 69.140625 \nQ 55.078125 64.0625 55.078125 55.328125 \nQ 55.078125 49.078125 51.53125 44.71875 \nQ 48 40.375 41.703125 38.8125 \nQ 48.828125 37.15625 52.796875 32.3125 \nQ 56.78125 27.484375 56.78125 20.515625 \nQ 56.78125 9.90625 50.3125 4.234375 \nQ 43.84375 -1.421875 31.78125 -1.421875 \nQ 19.734375 -1.421875 13.25 4.234375 \nQ 6.78125 9.90625 6.78125 20.515625 \nQ 6.78125 27.484375 10.78125 32.3125 \nQ 14.796875 37.15625 21.921875 38.8125 \nz\nM 18.3125 54.390625 \nQ 18.3125 48.734375 21.84375 45.5625 \nQ 25.390625 42.390625 31.78125 42.390625 \nQ 38.140625 42.390625 41.71875 45.5625 \nQ 45.3125 48.734375 45.3125 54.390625 \nQ 45.3125 60.0625 41.71875 63.234375 \nQ 38.140625 66.40625 31.78125 66.40625 \nQ 25.390625 66.40625 21.84375 63.234375 \nQ 18.3125 60.0625 18.3125 54.390625 \nz\n\" id=\"DejaVuSans-56\"/>\n       </defs>\n       <use xlink:href=\"#DejaVuSans-56\"/>\n       <use x=\"63.623047\" xlink:href=\"#DejaVuSans-48\"/>\n      </g>\n     </g>\n    </g>\n    <g id=\"text_6\">\n     <!-- X -->\n     <g transform=\"translate(324.557813 470.356562)scale(0.1 -0.1)\">\n      <defs>\n       <path d=\"M 6.296875 72.90625 \nL 16.890625 72.90625 \nL 35.015625 45.796875 \nL 53.21875 72.90625 \nL 63.8125 72.90625 \nL 40.375 37.890625 \nL 65.375 0 \nL 54.78125 0 \nL 34.28125 31 \nL 13.625 0 \nL 2.984375 0 \nL 29 38.921875 \nz\n\" id=\"DejaVuSans-88\"/>\n      </defs>\n      <use xlink:href=\"#DejaVuSans-88\"/>\n     </g>\n    </g>\n   </g>\n   <g id=\"matplotlib.axis_2\">\n    <g id=\"ytick_1\">\n     <g id=\"line2d_6\">\n      <defs>\n       <path d=\"M 0 0 \nL -3.5 0 \n\" id=\"m873ba6bc21\" style=\"stroke:#000000;stroke-width:0.8;\"/>\n      </defs>\n      <g>\n       <use style=\"stroke:#000000;stroke-width:0.8;\" x=\"48.982812\" xlink:href=\"#m873ba6bc21\" y=\"424.063659\"/>\n      </g>\n     </g>\n     <g id=\"text_7\">\n      <!-- −20 -->\n      <g transform=\"translate(20.878125 427.862877)scale(0.1 -0.1)\">\n       <defs>\n        <path d=\"M 10.59375 35.5 \nL 73.1875 35.5 \nL 73.1875 27.203125 \nL 10.59375 27.203125 \nz\n\" id=\"DejaVuSans-8722\"/>\n       </defs>\n       <use xlink:href=\"#DejaVuSans-8722\"/>\n       <use x=\"83.789062\" xlink:href=\"#DejaVuSans-50\"/>\n       <use x=\"147.412109\" xlink:href=\"#DejaVuSans-48\"/>\n      </g>\n     </g>\n    </g>\n    <g id=\"ytick_2\">\n     <g id=\"line2d_7\">\n      <g>\n       <use style=\"stroke:#000000;stroke-width:0.8;\" x=\"48.982812\" xlink:href=\"#m873ba6bc21\" y=\"360.183105\"/>\n      </g>\n     </g>\n     <g id=\"text_8\">\n      <!-- 0 -->\n      <g transform=\"translate(35.620312 363.982324)scale(0.1 -0.1)\">\n       <use xlink:href=\"#DejaVuSans-48\"/>\n      </g>\n     </g>\n    </g>\n    <g id=\"ytick_3\">\n     <g id=\"line2d_8\">\n      <g>\n       <use style=\"stroke:#000000;stroke-width:0.8;\" x=\"48.982812\" xlink:href=\"#m873ba6bc21\" y=\"296.302551\"/>\n      </g>\n     </g>\n     <g id=\"text_9\">\n      <!-- 20 -->\n      <g transform=\"translate(29.257812 300.10177)scale(0.1 -0.1)\">\n       <use xlink:href=\"#DejaVuSans-50\"/>\n       <use x=\"63.623047\" xlink:href=\"#DejaVuSans-48\"/>\n      </g>\n     </g>\n    </g>\n    <g id=\"ytick_4\">\n     <g id=\"line2d_9\">\n      <g>\n       <use style=\"stroke:#000000;stroke-width:0.8;\" x=\"48.982812\" xlink:href=\"#m873ba6bc21\" y=\"232.421997\"/>\n      </g>\n     </g>\n     <g id=\"text_10\">\n      <!-- 40 -->\n      <g transform=\"translate(29.257812 236.221216)scale(0.1 -0.1)\">\n       <use xlink:href=\"#DejaVuSans-52\"/>\n       <use x=\"63.623047\" xlink:href=\"#DejaVuSans-48\"/>\n      </g>\n     </g>\n    </g>\n    <g id=\"ytick_5\">\n     <g id=\"line2d_10\">\n      <g>\n       <use style=\"stroke:#000000;stroke-width:0.8;\" x=\"48.982812\" xlink:href=\"#m873ba6bc21\" y=\"168.541444\"/>\n      </g>\n     </g>\n     <g id=\"text_11\">\n      <!-- 60 -->\n      <g transform=\"translate(29.257812 172.340662)scale(0.1 -0.1)\">\n       <use xlink:href=\"#DejaVuSans-54\"/>\n       <use x=\"63.623047\" xlink:href=\"#DejaVuSans-48\"/>\n      </g>\n     </g>\n    </g>\n    <g id=\"ytick_6\">\n     <g id=\"line2d_11\">\n      <g>\n       <use style=\"stroke:#000000;stroke-width:0.8;\" x=\"48.982812\" xlink:href=\"#m873ba6bc21\" y=\"104.66089\"/>\n      </g>\n     </g>\n     <g id=\"text_12\">\n      <!-- 80 -->\n      <g transform=\"translate(29.257812 108.460109)scale(0.1 -0.1)\">\n       <use xlink:href=\"#DejaVuSans-56\"/>\n       <use x=\"63.623047\" xlink:href=\"#DejaVuSans-48\"/>\n      </g>\n     </g>\n    </g>\n    <g id=\"ytick_7\">\n     <g id=\"line2d_12\">\n      <g>\n       <use style=\"stroke:#000000;stroke-width:0.8;\" x=\"48.982812\" xlink:href=\"#m873ba6bc21\" y=\"40.780336\"/>\n      </g>\n     </g>\n     <g id=\"text_13\">\n      <!-- 100 -->\n      <g transform=\"translate(22.895312 44.579555)scale(0.1 -0.1)\">\n       <defs>\n        <path d=\"M 12.40625 8.296875 \nL 28.515625 8.296875 \nL 28.515625 63.921875 \nL 10.984375 60.40625 \nL 10.984375 69.390625 \nL 28.421875 72.90625 \nL 38.28125 72.90625 \nL 38.28125 8.296875 \nL 54.390625 8.296875 \nL 54.390625 0 \nL 12.40625 0 \nz\n\" id=\"DejaVuSans-49\"/>\n       </defs>\n       <use xlink:href=\"#DejaVuSans-49\"/>\n       <use x=\"63.623047\" xlink:href=\"#DejaVuSans-48\"/>\n       <use x=\"127.246094\" xlink:href=\"#DejaVuSans-48\"/>\n      </g>\n     </g>\n    </g>\n    <g id=\"text_14\">\n     <!-- Y -->\n     <g transform=\"translate(14.798437 227.693906)rotate(-90)scale(0.1 -0.1)\">\n      <defs>\n       <path d=\"M -0.203125 72.90625 \nL 10.40625 72.90625 \nL 30.609375 42.921875 \nL 50.6875 72.90625 \nL 61.28125 72.90625 \nL 35.5 34.71875 \nL 35.5 0 \nL 25.59375 0 \nL 25.59375 34.71875 \nz\n\" id=\"DejaVuSans-89\"/>\n      </defs>\n      <use xlink:href=\"#DejaVuSans-89\"/>\n     </g>\n    </g>\n   </g>\n   <g id=\"line2d_13\">\n    <defs>\n     <path d=\"M 0 3 \nC 0.795609 3 1.55874 2.683901 2.12132 2.12132 \nC 2.683901 1.55874 3 0.795609 3 0 \nC 3 -0.795609 2.683901 -1.55874 2.12132 -2.12132 \nC 1.55874 -2.683901 0.795609 -3 0 -3 \nC -0.795609 -3 -1.55874 -2.683901 -2.12132 -2.12132 \nC -2.683901 -1.55874 -3 -0.795609 -3 0 \nC -3 0.795609 -2.683901 1.55874 -2.12132 2.12132 \nC -1.55874 2.683901 -0.795609 3 0 3 \nz\n\" id=\"m90e5f6e4bc\" style=\"stroke:#1f77b4;\"/>\n    </defs>\n    <g clip-path=\"url(#p485495df99)\">\n     <use style=\"fill:#1f77b4;stroke:#1f77b4;\" x=\"74.346449\" xlink:href=\"#m90e5f6e4bc\" y=\"338.779087\"/>\n     <use style=\"fill:#1f77b4;stroke:#1f77b4;\" x=\"80.046142\" xlink:href=\"#m90e5f6e4bc\" y=\"369.167252\"/>\n     <use style=\"fill:#1f77b4;stroke:#1f77b4;\" x=\"85.745836\" xlink:href=\"#m90e5f6e4bc\" y=\"422.312727\"/>\n     <use style=\"fill:#1f77b4;stroke:#1f77b4;\" x=\"91.44553\" xlink:href=\"#m90e5f6e4bc\" y=\"352.960112\"/>\n     <use style=\"fill:#1f77b4;stroke:#1f77b4;\" x=\"97.145223\" xlink:href=\"#m90e5f6e4bc\" y=\"321.671723\"/>\n     <use style=\"fill:#1f77b4;stroke:#1f77b4;\" x=\"102.844918\" xlink:href=\"#m90e5f6e4bc\" y=\"372.564496\"/>\n     <use style=\"fill:#1f77b4;stroke:#1f77b4;\" x=\"108.544611\" xlink:href=\"#m90e5f6e4bc\" y=\"238.557498\"/>\n     <use style=\"fill:#1f77b4;stroke:#1f77b4;\" x=\"114.244304\" xlink:href=\"#m90e5f6e4bc\" y=\"337.742817\"/>\n     <use style=\"fill:#1f77b4;stroke:#1f77b4;\" x=\"119.943997\" xlink:href=\"#m90e5f6e4bc\" y=\"299.817902\"/>\n     <use style=\"fill:#1f77b4;stroke:#1f77b4;\" x=\"125.643692\" xlink:href=\"#m90e5f6e4bc\" y=\"346.694641\"/>\n     <use style=\"fill:#1f77b4;stroke:#1f77b4;\" x=\"131.343388\" xlink:href=\"#m90e5f6e4bc\" y=\"265.205534\"/>\n     <use style=\"fill:#1f77b4;stroke:#1f77b4;\" x=\"137.043078\" xlink:href=\"#m90e5f6e4bc\" y=\"246.582019\"/>\n     <use style=\"fill:#1f77b4;stroke:#1f77b4;\" x=\"142.742773\" xlink:href=\"#m90e5f6e4bc\" y=\"273.233674\"/>\n     <use style=\"fill:#1f77b4;stroke:#1f77b4;\" x=\"148.442469\" xlink:href=\"#m90e5f6e4bc\" y=\"284.668007\"/>\n     <use style=\"fill:#1f77b4;stroke:#1f77b4;\" x=\"154.142159\" xlink:href=\"#m90e5f6e4bc\" y=\"313.51353\"/>\n     <use style=\"fill:#1f77b4;stroke:#1f77b4;\" x=\"159.841854\" xlink:href=\"#m90e5f6e4bc\" y=\"304.699046\"/>\n     <use style=\"fill:#1f77b4;stroke:#1f77b4;\" x=\"165.541545\" xlink:href=\"#m90e5f6e4bc\" y=\"310.727434\"/>\n     <use style=\"fill:#1f77b4;stroke:#1f77b4;\" x=\"171.24124\" xlink:href=\"#m90e5f6e4bc\" y=\"320.258173\"/>\n     <use style=\"fill:#1f77b4;stroke:#1f77b4;\" x=\"176.940936\" xlink:href=\"#m90e5f6e4bc\" y=\"322.210285\"/>\n     <use style=\"fill:#1f77b4;stroke:#1f77b4;\" x=\"182.640631\" xlink:href=\"#m90e5f6e4bc\" y=\"239.28597\"/>\n     <use style=\"fill:#1f77b4;stroke:#1f77b4;\" x=\"188.340327\" xlink:href=\"#m90e5f6e4bc\" y=\"363.315913\"/>\n     <use style=\"fill:#1f77b4;stroke:#1f77b4;\" x=\"194.040022\" xlink:href=\"#m90e5f6e4bc\" y=\"284.660782\"/>\n     <use style=\"fill:#1f77b4;stroke:#1f77b4;\" x=\"199.739707\" xlink:href=\"#m90e5f6e4bc\" y=\"302.191113\"/>\n     <use style=\"fill:#1f77b4;stroke:#1f77b4;\" x=\"205.439402\" xlink:href=\"#m90e5f6e4bc\" y=\"262.846676\"/>\n     <use style=\"fill:#1f77b4;stroke:#1f77b4;\" x=\"211.139098\" xlink:href=\"#m90e5f6e4bc\" y=\"338.871459\"/>\n     <use style=\"fill:#1f77b4;stroke:#1f77b4;\" x=\"216.838793\" xlink:href=\"#m90e5f6e4bc\" y=\"314.315982\"/>\n     <use style=\"fill:#1f77b4;stroke:#1f77b4;\" x=\"222.538489\" xlink:href=\"#m90e5f6e4bc\" y=\"314.927086\"/>\n     <use style=\"fill:#1f77b4;stroke:#1f77b4;\" x=\"228.238184\" xlink:href=\"#m90e5f6e4bc\" y=\"265.864848\"/>\n     <use style=\"fill:#1f77b4;stroke:#1f77b4;\" x=\"233.937869\" xlink:href=\"#m90e5f6e4bc\" y=\"252.549036\"/>\n     <use style=\"fill:#1f77b4;stroke:#1f77b4;\" x=\"239.637565\" xlink:href=\"#m90e5f6e4bc\" y=\"291.013881\"/>\n     <use style=\"fill:#1f77b4;stroke:#1f77b4;\" x=\"245.33726\" xlink:href=\"#m90e5f6e4bc\" y=\"274.277737\"/>\n     <use style=\"fill:#1f77b4;stroke:#1f77b4;\" x=\"251.036956\" xlink:href=\"#m90e5f6e4bc\" y=\"249.753287\"/>\n     <use style=\"fill:#1f77b4;stroke:#1f77b4;\" x=\"256.73664\" xlink:href=\"#m90e5f6e4bc\" y=\"282.280016\"/>\n     <use style=\"fill:#1f77b4;stroke:#1f77b4;\" x=\"262.436336\" xlink:href=\"#m90e5f6e4bc\" y=\"270.903644\"/>\n     <use style=\"fill:#1f77b4;stroke:#1f77b4;\" x=\"268.136031\" xlink:href=\"#m90e5f6e4bc\" y=\"226.224772\"/>\n     <use style=\"fill:#1f77b4;stroke:#1f77b4;\" x=\"273.835727\" xlink:href=\"#m90e5f6e4bc\" y=\"229.531991\"/>\n     <use style=\"fill:#1f77b4;stroke:#1f77b4;\" x=\"279.535422\" xlink:href=\"#m90e5f6e4bc\" y=\"284.234918\"/>\n     <use style=\"fill:#1f77b4;stroke:#1f77b4;\" x=\"285.235118\" xlink:href=\"#m90e5f6e4bc\" y=\"199.747668\"/>\n     <use style=\"fill:#1f77b4;stroke:#1f77b4;\" x=\"290.934813\" xlink:href=\"#m90e5f6e4bc\" y=\"214.105465\"/>\n     <use style=\"fill:#1f77b4;stroke:#1f77b4;\" x=\"296.634509\" xlink:href=\"#m90e5f6e4bc\" y=\"144.196681\"/>\n     <use style=\"fill:#1f77b4;stroke:#1f77b4;\" x=\"302.334204\" xlink:href=\"#m90e5f6e4bc\" y=\"217.999746\"/>\n     <use style=\"fill:#1f77b4;stroke:#1f77b4;\" x=\"308.0339\" xlink:href=\"#m90e5f6e4bc\" y=\"255.333575\"/>\n     <use style=\"fill:#1f77b4;stroke:#1f77b4;\" x=\"313.733595\" xlink:href=\"#m90e5f6e4bc\" y=\"290.633074\"/>\n     <use style=\"fill:#1f77b4;stroke:#1f77b4;\" x=\"319.433291\" xlink:href=\"#m90e5f6e4bc\" y=\"157.091942\"/>\n     <use style=\"fill:#1f77b4;stroke:#1f77b4;\" x=\"325.132965\" xlink:href=\"#m90e5f6e4bc\" y=\"216.067726\"/>\n     <use style=\"fill:#1f77b4;stroke:#1f77b4;\" x=\"330.83266\" xlink:href=\"#m90e5f6e4bc\" y=\"212.625664\"/>\n     <use style=\"fill:#1f77b4;stroke:#1f77b4;\" x=\"336.532356\" xlink:href=\"#m90e5f6e4bc\" y=\"157.614256\"/>\n     <use style=\"fill:#1f77b4;stroke:#1f77b4;\" x=\"342.232051\" xlink:href=\"#m90e5f6e4bc\" y=\"207.031826\"/>\n     <use style=\"fill:#1f77b4;stroke:#1f77b4;\" x=\"347.931747\" xlink:href=\"#m90e5f6e4bc\" y=\"208.1572\"/>\n     <use style=\"fill:#1f77b4;stroke:#1f77b4;\" x=\"353.631442\" xlink:href=\"#m90e5f6e4bc\" y=\"136.861837\"/>\n     <use style=\"fill:#1f77b4;stroke:#1f77b4;\" x=\"359.331138\" xlink:href=\"#m90e5f6e4bc\" y=\"204.958104\"/>\n     <use style=\"fill:#1f77b4;stroke:#1f77b4;\" x=\"365.030833\" xlink:href=\"#m90e5f6e4bc\" y=\"170.006709\"/>\n     <use style=\"fill:#1f77b4;stroke:#1f77b4;\" x=\"370.730529\" xlink:href=\"#m90e5f6e4bc\" y=\"198.093096\"/>\n     <use style=\"fill:#1f77b4;stroke:#1f77b4;\" x=\"376.430224\" xlink:href=\"#m90e5f6e4bc\" y=\"170.802548\"/>\n     <use style=\"fill:#1f77b4;stroke:#1f77b4;\" x=\"382.12992\" xlink:href=\"#m90e5f6e4bc\" y=\"236.637358\"/>\n     <use style=\"fill:#1f77b4;stroke:#1f77b4;\" x=\"387.829615\" xlink:href=\"#m90e5f6e4bc\" y=\"129.803331\"/>\n     <use style=\"fill:#1f77b4;stroke:#1f77b4;\" x=\"393.529289\" xlink:href=\"#m90e5f6e4bc\" y=\"191.998486\"/>\n     <use style=\"fill:#1f77b4;stroke:#1f77b4;\" x=\"399.228985\" xlink:href=\"#m90e5f6e4bc\" y=\"247.331765\"/>\n     <use style=\"fill:#1f77b4;stroke:#1f77b4;\" x=\"404.92868\" xlink:href=\"#m90e5f6e4bc\" y=\"180.628133\"/>\n     <use style=\"fill:#1f77b4;stroke:#1f77b4;\" x=\"410.628376\" xlink:href=\"#m90e5f6e4bc\" y=\"98.533261\"/>\n     <use style=\"fill:#1f77b4;stroke:#1f77b4;\" x=\"416.328071\" xlink:href=\"#m90e5f6e4bc\" y=\"194.750031\"/>\n     <use style=\"fill:#1f77b4;stroke:#1f77b4;\" x=\"422.027767\" xlink:href=\"#m90e5f6e4bc\" y=\"186.369924\"/>\n     <use style=\"fill:#1f77b4;stroke:#1f77b4;\" x=\"427.727462\" xlink:href=\"#m90e5f6e4bc\" y=\"159.128356\"/>\n     <use style=\"fill:#1f77b4;stroke:#1f77b4;\" x=\"433.427158\" xlink:href=\"#m90e5f6e4bc\" y=\"161.820563\"/>\n     <use style=\"fill:#1f77b4;stroke:#1f77b4;\" x=\"439.126832\" xlink:href=\"#m90e5f6e4bc\" y=\"125.543766\"/>\n     <use style=\"fill:#1f77b4;stroke:#1f77b4;\" x=\"444.826527\" xlink:href=\"#m90e5f6e4bc\" y=\"173.179134\"/>\n     <use style=\"fill:#1f77b4;stroke:#1f77b4;\" x=\"450.526223\" xlink:href=\"#m90e5f6e4bc\" y=\"196.086545\"/>\n     <use style=\"fill:#1f77b4;stroke:#1f77b4;\" x=\"456.225918\" xlink:href=\"#m90e5f6e4bc\" y=\"105.165172\"/>\n     <use style=\"fill:#1f77b4;stroke:#1f77b4;\" x=\"461.925614\" xlink:href=\"#m90e5f6e4bc\" y=\"182.134131\"/>\n     <use style=\"fill:#1f77b4;stroke:#1f77b4;\" x=\"467.625309\" xlink:href=\"#m90e5f6e4bc\" y=\"143.297021\"/>\n     <use style=\"fill:#1f77b4;stroke:#1f77b4;\" x=\"473.325005\" xlink:href=\"#m90e5f6e4bc\" y=\"86.812842\"/>\n     <use style=\"fill:#1f77b4;stroke:#1f77b4;\" x=\"479.0247\" xlink:href=\"#m90e5f6e4bc\" y=\"106.402287\"/>\n     <use style=\"fill:#1f77b4;stroke:#1f77b4;\" x=\"484.724396\" xlink:href=\"#m90e5f6e4bc\" y=\"84.074603\"/>\n     <use style=\"fill:#1f77b4;stroke:#1f77b4;\" x=\"490.424091\" xlink:href=\"#m90e5f6e4bc\" y=\"132.528435\"/>\n     <use style=\"fill:#1f77b4;stroke:#1f77b4;\" x=\"496.123787\" xlink:href=\"#m90e5f6e4bc\" y=\"107.487343\"/>\n     <use style=\"fill:#1f77b4;stroke:#1f77b4;\" x=\"501.823482\" xlink:href=\"#m90e5f6e4bc\" y=\"154.827073\"/>\n     <use style=\"fill:#1f77b4;stroke:#1f77b4;\" x=\"507.523178\" xlink:href=\"#m90e5f6e4bc\" y=\"186.547448\"/>\n     <use style=\"fill:#1f77b4;stroke:#1f77b4;\" x=\"513.222873\" xlink:href=\"#m90e5f6e4bc\" y=\"97.768285\"/>\n     <use style=\"fill:#1f77b4;stroke:#1f77b4;\" x=\"518.922569\" xlink:href=\"#m90e5f6e4bc\" y=\"117.335847\"/>\n     <use style=\"fill:#1f77b4;stroke:#1f77b4;\" x=\"524.622264\" xlink:href=\"#m90e5f6e4bc\" y=\"80.291296\"/>\n     <use style=\"fill:#1f77b4;stroke:#1f77b4;\" x=\"530.32196\" xlink:href=\"#m90e5f6e4bc\" y=\"58.271654\"/>\n     <use style=\"fill:#1f77b4;stroke:#1f77b4;\" x=\"536.021655\" xlink:href=\"#m90e5f6e4bc\" y=\"57.393632\"/>\n     <use style=\"fill:#1f77b4;stroke:#1f77b4;\" x=\"541.721351\" xlink:href=\"#m90e5f6e4bc\" y=\"114.00248\"/>\n     <use style=\"fill:#1f77b4;stroke:#1f77b4;\" x=\"547.421046\" xlink:href=\"#m90e5f6e4bc\" y=\"38.741424\"/>\n     <use style=\"fill:#1f77b4;stroke:#1f77b4;\" x=\"553.120742\" xlink:href=\"#m90e5f6e4bc\" y=\"118.504073\"/>\n     <use style=\"fill:#1f77b4;stroke:#1f77b4;\" x=\"558.820437\" xlink:href=\"#m90e5f6e4bc\" y=\"55.818818\"/>\n     <use style=\"fill:#1f77b4;stroke:#1f77b4;\" x=\"564.520133\" xlink:href=\"#m90e5f6e4bc\" y=\"26.967273\"/>\n     <use style=\"fill:#1f77b4;stroke:#1f77b4;\" x=\"570.219785\" xlink:href=\"#m90e5f6e4bc\" y=\"65.603964\"/>\n     <use style=\"fill:#1f77b4;stroke:#1f77b4;\" x=\"575.919481\" xlink:href=\"#m90e5f6e4bc\" y=\"62.251541\"/>\n     <use style=\"fill:#1f77b4;stroke:#1f77b4;\" x=\"581.619176\" xlink:href=\"#m90e5f6e4bc\" y=\"79.270134\"/>\n    </g>\n   </g>\n   <g id=\"patch_3\">\n    <path d=\"M 48.982812 442.08 \nL 48.982812 7.2 \n\" style=\"fill:none;stroke:#000000;stroke-linecap:square;stroke-linejoin:miter;stroke-width:0.8;\"/>\n   </g>\n   <g id=\"patch_4\">\n    <path d=\"M 606.982813 442.08 \nL 606.982813 7.2 \n\" style=\"fill:none;stroke:#000000;stroke-linecap:square;stroke-linejoin:miter;stroke-width:0.8;\"/>\n   </g>\n   <g id=\"patch_5\">\n    <path d=\"M 48.982812 442.08 \nL 606.982813 442.08 \n\" style=\"fill:none;stroke:#000000;stroke-linecap:square;stroke-linejoin:miter;stroke-width:0.8;\"/>\n   </g>\n   <g id=\"patch_6\">\n    <path d=\"M 48.982812 7.2 \nL 606.982813 7.2 \n\" style=\"fill:none;stroke:#000000;stroke-linecap:square;stroke-linejoin:miter;stroke-width:0.8;\"/>\n   </g>\n  </g>\n </g>\n <defs>\n  <clipPath id=\"p485495df99\">\n   <rect height=\"434.88\" width=\"558\" x=\"48.982812\" y=\"7.2\"/>\n  </clipPath>\n </defs>\n</svg>\n",
      "image/png": "[encoded data removed]"
     },
     "metadata": {
      "needs_background": "light"
     }
    }
   ],
   "source": [
    "import matplotlib.pyplot as plt #导入画图的程序包\n",
    "plt.figure(figsize=(10,8)) #设定绘制窗口大小为10*8 inch\n",
    "plt.plot(x_train.numpy(), y_train.numpy(), 'o') #绘制数据，考虑到x和y都是Variable，需要用data获取它们包裹的Tensor，并专成numpy\n",
    "plt.xlabel('X') #添加X轴的标注\n",
    "plt.ylabel('Y') #添加Y周的标注\n",
    "plt.show() #将图形画在下面"
   ]
  },
  {
   "cell_type": "markdown",
   "metadata": {},
   "source": [
    "### 2. 构造模型，计算损失函数"
   ]
  },
  {
   "cell_type": "markdown",
   "metadata": {},
   "source": [
    "在下面的代码中，需要注意expand_as和mul的使用。首先，a的维度为1，x的维度为100*1的Tensor，这两者不能直接相乘，因为维度不同。\n",
    "\n",
    "所以，先要将a升维成1*1的Tensor。这就好比将原本在直线上的点被升维到了二维平面上，同时直线仍然在二维平面中。\n",
    "\n",
    "```expand_as(x)```可以将张量升维成与x同维度的张量。所以如果a = 1, x为尺寸为100，那么，\n",
    "\n",
    "a.expand_as(x)$ = (1, 1, \\cdot\\cdot\\cdot, 1)^T$\n",
    "\n",
    "```x * y```为两个1维张量的乘积，计算结果：\n",
    "\n",
    "$(x * y)_i = x_i \\cdot y_i$"
   ]
  },
  {
   "cell_type": "code",
   "execution_count": 25,
   "metadata": {},
   "outputs": [
    {
     "output_type": "execute_result",
     "data": {
      "text/plain": [
       "tensor([ 0.7612,  1.6305,  2.4997,  3.3690,  4.2383,  5.1075,  5.9768,  6.8460,\n",
       "         7.7153,  8.5846,  9.4538, 10.3231, 11.1924, 12.0616, 12.9309, 13.8001,\n",
       "        14.6694, 15.5387, 16.4079, 17.2772, 18.1464, 19.0157, 19.8850, 20.7542,\n",
       "        21.6235, 22.4928, 23.3620, 24.2313, 25.1005, 25.9698, 26.8391, 27.7083,\n",
       "        28.5776, 29.4468, 30.3161, 31.1854, 32.0546, 32.9239, 33.7932, 34.6624,\n",
       "        35.5317, 36.4009, 37.2702, 38.1395, 39.0087, 39.8780, 40.7472, 41.6165,\n",
       "        42.4858, 43.3550, 44.2243, 45.0935, 45.9628, 46.8321, 47.7013, 48.5706,\n",
       "        49.4399, 50.3091, 51.1784, 52.0476, 52.9169, 53.7862, 54.6554, 55.5247,\n",
       "        56.3939, 57.2632, 58.1325, 59.0017, 59.8710, 60.7403, 61.6095, 62.4788,\n",
       "        63.3480, 64.2173, 65.0866, 65.9558, 66.8251, 67.6943, 68.5636, 69.4329,\n",
       "        70.3021, 71.1714, 72.0406, 72.9099, 73.7792, 74.6484, 75.5177, 76.3870,\n",
       "        77.2562, 78.1255], grad_fn=<AddBackward0>)"
      ]
     },
     "metadata": {},
     "execution_count": 25
    }
   ],
   "source": [
    "a = torch.rand(1, requires_grad = True)\n",
    "b = torch.rand(1, requires_grad = True)\n",
    "predictions = a.expand_as(x_train) * x_train + b.expand_as(x_train)\n",
    "predictions"
   ]
  },
  {
   "cell_type": "code",
   "execution_count": 26,
   "metadata": {},
   "outputs": [],
   "source": [
    "loss = torch.mean((predictions - y_train) ** 2)  #计算损失函数\n",
    "loss.backward() #开始反向传播梯度\n"
   ]
  },
  {
   "cell_type": "code",
   "execution_count": 27,
   "metadata": {},
   "outputs": [
    {
     "output_type": "execute_result",
     "data": {
      "text/plain": [
       "tensor([0.7757])"
      ]
     },
     "metadata": {},
     "execution_count": 27
    }
   ],
   "source": [
    "#开始梯度下降，其中0.001为学习率\n",
    "a.data.add_(- 0.001 * a.grad.data) \n",
    "b.data.add_(- 0.001 * b.grad.data)\n",
    "\n",
    "#注意我们无法改变一个Variable，而只能对Variable的data属性做更改\n",
    "#所有函数加“_”都意味着需要更新调用者的数值。"
   ]
  },
  {
   "cell_type": "markdown",
   "metadata": {},
   "source": [
    "### 3. 训练模型的代码"
   ]
  },
  {
   "cell_type": "markdown",
   "metadata": {},
   "source": [
    "#### a. 错误版本\n",
    "\n",
    "错误在于，每一步迭代周期没有将a和b的梯度（grad）数值设置为0，导致每一步backward候梯度就会不断累加"
   ]
  },
  {
   "cell_type": "code",
   "execution_count": 28,
   "metadata": {
    "tags": [
     "outputPrepend"
    ]
   },
   "outputs": [
    {
     "output_type": "stream",
     "name": "stdout",
     "text": [
      "eanBackward0>)\n",
      "loss: tensor(651.7669, grad_fn=<MeanBackward0>)\n",
      "loss: tensor(1186.6089, grad_fn=<MeanBackward0>)\n",
      "loss: tensor(739.9927, grad_fn=<MeanBackward0>)\n",
      "loss: tensor(148.9323, grad_fn=<MeanBackward0>)\n",
      "loss: tensor(521.1497, grad_fn=<MeanBackward0>)\n",
      "loss: tensor(1159.0562, grad_fn=<MeanBackward0>)\n",
      "loss: tensor(867.1262, grad_fn=<MeanBackward0>)\n",
      "loss: tensor(192.4717, grad_fn=<MeanBackward0>)\n",
      "loss: tensor(399.4808, grad_fn=<MeanBackward0>)\n",
      "loss: tensor(1100.1870, grad_fn=<MeanBackward0>)\n",
      "loss: tensor(981.3702, grad_fn=<MeanBackward0>)\n",
      "loss: tensor(265.7050, grad_fn=<MeanBackward0>)\n",
      "loss: tensor(294.4396, grad_fn=<MeanBackward0>)\n",
      "loss: tensor(1013.7182, grad_fn=<MeanBackward0>)\n",
      "loss: tensor(1075.5137, grad_fn=<MeanBackward0>)\n",
      "loss: tensor(364.0096, grad_fn=<MeanBackward0>)\n",
      "loss: tensor(212.6559, grad_fn=<MeanBackward0>)\n",
      "loss: tensor(905.1060, grad_fn=<MeanBackward0>)\n",
      "loss: tensor(1143.6132, grad_fn=<MeanBackward0>)\n",
      "loss: tensor(481.1797, grad_fn=<MeanBackward0>)\n",
      "loss: tensor(159.2908, grad_fn=<MeanBackward0>)\n",
      "loss: tensor(781.2058, grad_fn=<MeanBackward0>)\n",
      "loss: tensor(1181.3699, grad_fn=<MeanBackward0>)\n",
      "loss: tensor(609.8196, grad_fn=<MeanBackward0>)\n",
      "loss: tensor(137.7127, grad_fn=<MeanBackward0>)\n",
      "loss: tensor(649.8374, grad_fn=<MeanBackward0>)\n",
      "loss: tensor(1186.4010, grad_fn=<MeanBackward0>)\n",
      "loss: tensor(741.8090, grad_fn=<MeanBackward0>)\n",
      "loss: tensor(149.2830, grad_fn=<MeanBackward0>)\n",
      "loss: tensor(519.2927, grad_fn=<MeanBackward0>)\n",
      "loss: tensor(1158.3877, grad_fn=<MeanBackward0>)\n",
      "loss: tensor(868.8162, grad_fn=<MeanBackward0>)\n",
      "loss: tensor(193.2710, grad_fn=<MeanBackward0>)\n",
      "loss: tensor(397.8112, grad_fn=<MeanBackward0>)\n",
      "loss: tensor(1099.0983, grad_fn=<MeanBackward0>)\n",
      "loss: tensor(982.8248, grad_fn=<MeanBackward0>)\n",
      "loss: tensor(266.9001, grad_fn=<MeanBackward0>)\n",
      "loss: tensor(293.0596, grad_fn=<MeanBackward0>)\n",
      "loss: tensor(1012.2745, grad_fn=<MeanBackward0>)\n",
      "loss: tensor(1076.6381, grad_fn=<MeanBackward0>)\n",
      "loss: tensor(365.5223, grad_fn=<MeanBackward0>)\n",
      "loss: tensor(211.6503, grad_fn=<MeanBackward0>)\n",
      "loss: tensor(903.3964, grad_fn=<MeanBackward0>)\n",
      "loss: tensor(1144.3346, grad_fn=<MeanBackward0>)\n",
      "loss: tensor(482.9122, grad_fn=<MeanBackward0>)\n",
      "loss: tensor(158.7213, grad_fn=<MeanBackward0>)\n",
      "loss: tensor(779.3366, grad_fn=<MeanBackward0>)\n",
      "loss: tensor(1181.6406, grad_fn=<MeanBackward0>)\n",
      "loss: tensor(611.6605, grad_fn=<MeanBackward0>)\n",
      "loss: tensor(137.6129, grad_fn=<MeanBackward0>)\n",
      "loss: tensor(647.9242, grad_fn=<MeanBackward0>)\n",
      "loss: tensor(1186.2015, grad_fn=<MeanBackward0>)\n",
      "loss: tensor(743.6402, grad_fn=<MeanBackward0>)\n",
      "loss: tensor(149.6573, grad_fn=<MeanBackward0>)\n",
      "loss: tensor(517.4546, grad_fn=<MeanBackward0>)\n",
      "loss: tensor(1157.7297, grad_fn=<MeanBackward0>)\n",
      "loss: tensor(870.5206, grad_fn=<MeanBackward0>)\n",
      "loss: tensor(194.0942, grad_fn=<MeanBackward0>)\n",
      "loss: tensor(396.1622, grad_fn=<MeanBackward0>)\n",
      "loss: tensor(1098.0211, grad_fn=<MeanBackward0>)\n",
      "loss: tensor(984.2930, grad_fn=<MeanBackward0>)\n",
      "loss: tensor(268.1185, grad_fn=<MeanBackward0>)\n",
      "loss: tensor(291.7029, grad_fn=<MeanBackward0>)\n",
      "loss: tensor(1010.8452, grad_fn=<MeanBackward0>)\n",
      "loss: tensor(1077.7764, grad_fn=<MeanBackward0>)\n",
      "loss: tensor(367.0577, grad_fn=<MeanBackward0>)\n",
      "loss: tensor(210.6699, grad_fn=<MeanBackward0>)\n",
      "loss: tensor(901.7039, grad_fn=<MeanBackward0>)\n",
      "loss: tensor(1145.0698, grad_fn=<MeanBackward0>)\n",
      "loss: tensor(484.6672, grad_fn=<MeanBackward0>)\n",
      "loss: tensor(158.1778, grad_fn=<MeanBackward0>)\n",
      "loss: tensor(777.4860, grad_fn=<MeanBackward0>)\n",
      "loss: tensor(1181.9254, grad_fn=<MeanBackward0>)\n",
      "loss: tensor(613.5227, grad_fn=<MeanBackward0>)\n",
      "loss: tensor(137.5399, grad_fn=<MeanBackward0>)\n",
      "loss: tensor(646.0315, grad_fn=<MeanBackward0>)\n",
      "loss: tensor(1186.0167, grad_fn=<MeanBackward0>)\n",
      "loss: tensor(745.4920, grad_fn=<MeanBackward0>)\n",
      "loss: tensor(150.0589, grad_fn=<MeanBackward0>)\n",
      "loss: tensor(515.6386, grad_fn=<MeanBackward0>)\n",
      "loss: tensor(1157.0864, grad_fn=<MeanBackward0>)\n",
      "loss: tensor(872.2442, grad_fn=<MeanBackward0>)\n",
      "loss: tensor(194.9444, grad_fn=<MeanBackward0>)\n",
      "loss: tensor(394.5375, grad_fn=<MeanBackward0>)\n",
      "loss: tensor(1096.9596, grad_fn=<MeanBackward0>)\n",
      "loss: tensor(985.7792, grad_fn=<MeanBackward0>)\n",
      "loss: tensor(269.3636, grad_fn=<MeanBackward0>)\n",
      "loss: tensor(290.3716, grad_fn=<MeanBackward0>)\n",
      "loss: tensor(1009.4318, grad_fn=<MeanBackward0>)\n",
      "loss: tensor(1078.9304, grad_fn=<MeanBackward0>)\n",
      "loss: tensor(368.6189, grad_fn=<MeanBackward0>)\n",
      "loss: tensor(209.7163, grad_fn=<MeanBackward0>)\n",
      "loss: tensor(900.0280, grad_fn=<MeanBackward0>)\n",
      "loss: tensor(1145.8196, grad_fn=<MeanBackward0>)\n",
      "loss: tensor(486.4459, grad_fn=<MeanBackward0>)\n",
      "loss: tensor(157.6621, grad_fn=<MeanBackward0>)\n",
      "loss: tensor(775.6542, grad_fn=<MeanBackward0>)\n",
      "loss: tensor(1182.2242, grad_fn=<MeanBackward0>)\n",
      "loss: tensor(615.4073, grad_fn=<MeanBackward0>)\n",
      "loss: tensor(137.4952, grad_fn=<MeanBackward0>)\n",
      "loss: tensor(644.1602, grad_fn=<MeanBackward0>)\n",
      "loss: tensor(1185.8467, grad_fn=<MeanBackward0>)\n",
      "loss: tensor(747.3636, grad_fn=<MeanBackward0>)\n",
      "loss: tensor(150.4885, grad_fn=<MeanBackward0>)\n",
      "loss: tensor(513.8465, grad_fn=<MeanBackward0>)\n",
      "loss: tensor(1156.4580, grad_fn=<MeanBackward0>)\n",
      "loss: tensor(873.9858, grad_fn=<MeanBackward0>)\n",
      "loss: tensor(195.8221, grad_fn=<MeanBackward0>)\n",
      "loss: tensor(392.9378, grad_fn=<MeanBackward0>)\n",
      "loss: tensor(1095.9142, grad_fn=<MeanBackward0>)\n",
      "loss: tensor(987.2823, grad_fn=<MeanBackward0>)\n",
      "loss: tensor(270.6348, grad_fn=<MeanBackward0>)\n",
      "loss: tensor(289.0670, grad_fn=<MeanBackward0>)\n",
      "loss: tensor(1008.0364, grad_fn=<MeanBackward0>)\n",
      "loss: tensor(1080.1014, grad_fn=<MeanBackward0>)\n",
      "loss: tensor(370.2048, grad_fn=<MeanBackward0>)\n",
      "loss: tensor(208.7898, grad_fn=<MeanBackward0>)\n",
      "loss: tensor(898.3721, grad_fn=<MeanBackward0>)\n",
      "loss: tensor(1146.5857, grad_fn=<MeanBackward0>)\n",
      "loss: tensor(488.2480, grad_fn=<MeanBackward0>)\n",
      "loss: tensor(157.1739, grad_fn=<MeanBackward0>)\n",
      "loss: tensor(773.8431, grad_fn=<MeanBackward0>)\n",
      "loss: tensor(1182.5385, grad_fn=<MeanBackward0>)\n",
      "loss: tensor(617.3134, grad_fn=<MeanBackward0>)\n",
      "loss: tensor(137.4776, grad_fn=<MeanBackward0>)\n",
      "loss: tensor(642.3101, grad_fn=<MeanBackward0>)\n",
      "loss: tensor(1185.6908, grad_fn=<MeanBackward0>)\n",
      "loss: tensor(749.2550, grad_fn=<MeanBackward0>)\n",
      "loss: tensor(150.9447, grad_fn=<MeanBackward0>)\n",
      "loss: tensor(512.0760, grad_fn=<MeanBackward0>)\n",
      "loss: tensor(1155.8444, grad_fn=<MeanBackward0>)\n",
      "loss: tensor(875.7454, grad_fn=<MeanBackward0>)\n",
      "loss: tensor(196.7252, grad_fn=<MeanBackward0>)\n",
      "loss: tensor(391.3612, grad_fn=<MeanBackward0>)\n",
      "loss: tensor(1094.8832, grad_fn=<MeanBackward0>)\n",
      "loss: tensor(988.8005, grad_fn=<MeanBackward0>)\n",
      "loss: tensor(271.9298, grad_fn=<MeanBackward0>)\n",
      "loss: tensor(287.7856, grad_fn=<MeanBackward0>)\n",
      "loss: tensor(1006.6556, grad_fn=<MeanBackward0>)\n",
      "loss: tensor(1081.2854, grad_fn=<MeanBackward0>)\n",
      "loss: tensor(371.8126, grad_fn=<MeanBackward0>)\n",
      "loss: tensor(207.8870, grad_fn=<MeanBackward0>)\n",
      "loss: tensor(896.7305, grad_fn=<MeanBackward0>)\n",
      "loss: tensor(1147.3628, grad_fn=<MeanBackward0>)\n",
      "loss: tensor(490.0692, grad_fn=<MeanBackward0>)\n",
      "loss: tensor(156.7093, grad_fn=<MeanBackward0>)\n",
      "loss: tensor(772.0475, grad_fn=<MeanBackward0>)\n",
      "loss: tensor(1182.8623, grad_fn=<MeanBackward0>)\n",
      "loss: tensor(619.2361, grad_fn=<MeanBackward0>)\n",
      "loss: tensor(137.4832, grad_fn=<MeanBackward0>)\n",
      "loss: tensor(640.4767, grad_fn=<MeanBackward0>)\n",
      "loss: tensor(1185.5448, grad_fn=<MeanBackward0>)\n",
      "loss: tensor(751.1609, grad_fn=<MeanBackward0>)\n",
      "loss: tensor(151.4229, grad_fn=<MeanBackward0>)\n",
      "loss: tensor(510.3232, grad_fn=<MeanBackward0>)\n",
      "loss: tensor(1155.2394, grad_fn=<MeanBackward0>)\n",
      "loss: tensor(877.5167, grad_fn=<MeanBackward0>)\n",
      "loss: tensor(197.6487, grad_fn=<MeanBackward0>)\n",
      "loss: tensor(389.8024, grad_fn=<MeanBackward0>)\n",
      "loss: tensor(1093.8611, grad_fn=<MeanBackward0>)\n",
      "loss: tensor(990.3291, grad_fn=<MeanBackward0>)\n",
      "loss: tensor(273.2440, grad_fn=<MeanBackward0>)\n",
      "loss: tensor(286.5225, grad_fn=<MeanBackward0>)\n",
      "loss: tensor(1005.2836, grad_fn=<MeanBackward0>)\n",
      "loss: tensor(1082.4777, grad_fn=<MeanBackward0>)\n",
      "loss: tensor(373.4373, grad_fn=<MeanBackward0>)\n",
      "loss: tensor(207.0026, grad_fn=<MeanBackward0>)\n",
      "loss: tensor(895.0989, grad_fn=<MeanBackward0>)\n",
      "loss: tensor(1148.1465, grad_fn=<MeanBackward0>)\n",
      "loss: tensor(491.9054, grad_fn=<MeanBackward0>)\n",
      "loss: tensor(156.2627, grad_fn=<MeanBackward0>)\n",
      "loss: tensor(770.2620, grad_fn=<MeanBackward0>)\n",
      "loss: tensor(1183.1915, grad_fn=<MeanBackward0>)\n",
      "loss: tensor(621.1707, grad_fn=<MeanBackward0>)\n",
      "loss: tensor(137.5060, grad_fn=<MeanBackward0>)\n",
      "loss: tensor(638.6537, grad_fn=<MeanBackward0>)\n",
      "loss: tensor(1185.4010, grad_fn=<MeanBackward0>)\n",
      "loss: tensor(753.0752, grad_fn=<MeanBackward0>)\n",
      "loss: tensor(151.9171, grad_fn=<MeanBackward0>)\n",
      "loss: tensor(508.5810, grad_fn=<MeanBackward0>)\n",
      "loss: tensor(1154.6362, grad_fn=<MeanBackward0>)\n",
      "loss: tensor(879.2939, grad_fn=<MeanBackward0>)\n",
      "loss: tensor(198.5868, grad_fn=<MeanBackward0>)\n",
      "loss: tensor(388.2553, grad_fn=<MeanBackward0>)\n",
      "loss: tensor(1092.8400, grad_fn=<MeanBackward0>)\n",
      "loss: tensor(991.8602, grad_fn=<MeanBackward0>)\n",
      "loss: tensor(274.5700, grad_fn=<MeanBackward0>)\n",
      "loss: tensor(285.2711, grad_fn=<MeanBackward0>)\n",
      "loss: tensor(1003.9130, grad_fn=<MeanBackward0>)\n",
      "loss: tensor(1083.6698, grad_fn=<MeanBackward0>)\n",
      "loss: tensor(375.0713, grad_fn=<MeanBackward0>)\n",
      "loss: tensor(206.1298, grad_fn=<MeanBackward0>)\n",
      "loss: tensor(893.4688, grad_fn=<MeanBackward0>)\n",
      "loss: tensor(1148.9279, grad_fn=<MeanBackward0>)\n",
      "loss: tensor(493.7477, grad_fn=<MeanBackward0>)\n",
      "loss: tensor(155.8271, grad_fn=<MeanBackward0>)\n",
      "loss: tensor(768.4788, grad_fn=<MeanBackward0>)\n",
      "loss: tensor(1183.5168, grad_fn=<MeanBackward0>)\n",
      "loss: tensor(623.1092, grad_fn=<MeanBackward0>)\n",
      "loss: tensor(137.5389, grad_fn=<MeanBackward0>)\n",
      "loss: tensor(636.8338, grad_fn=<MeanBackward0>)\n",
      "loss: tensor(1185.2532, grad_fn=<MeanBackward0>)\n",
      "loss: tensor(754.9907, grad_fn=<MeanBackward0>)\n",
      "loss: tensor(152.4198, grad_fn=<MeanBackward0>)\n",
      "loss: tensor(506.8434, grad_fn=<MeanBackward0>)\n",
      "loss: tensor(1154.0287, grad_fn=<MeanBackward0>)\n",
      "loss: tensor(881.0688, grad_fn=<MeanBackward0>)\n",
      "loss: tensor(199.5312, grad_fn=<MeanBackward0>)\n",
      "loss: tensor(386.7123, grad_fn=<MeanBackward0>)\n",
      "loss: tensor(1091.8140, grad_fn=<MeanBackward0>)\n",
      "loss: tensor(993.3869, grad_fn=<MeanBackward0>)\n",
      "loss: tensor(275.9002, grad_fn=<MeanBackward0>)\n",
      "loss: tensor(284.0241, grad_fn=<MeanBackward0>)\n",
      "loss: tensor(1002.5374, grad_fn=<MeanBackward0>)\n",
      "loss: tensor(1084.8550, grad_fn=<MeanBackward0>)\n",
      "loss: tensor(376.7069, grad_fn=<MeanBackward0>)\n",
      "loss: tensor(205.2610, grad_fn=<MeanBackward0>)\n",
      "loss: tensor(891.8337, grad_fn=<MeanBackward0>)\n",
      "loss: tensor(1149.7006, grad_fn=<MeanBackward0>)\n",
      "loss: tensor(495.5891, grad_fn=<MeanBackward0>)\n",
      "loss: tensor(155.3950, grad_fn=<MeanBackward0>)\n",
      "loss: tensor(766.6912, grad_fn=<MeanBackward0>)\n",
      "loss: tensor(1183.8311, grad_fn=<MeanBackward0>)\n",
      "loss: tensor(625.0433, grad_fn=<MeanBackward0>)\n",
      "loss: tensor(137.5741, grad_fn=<MeanBackward0>)\n",
      "loss: tensor(635.0095, grad_fn=<MeanBackward0>)\n",
      "loss: tensor(1185.0929, grad_fn=<MeanBackward0>)\n",
      "loss: tensor(756.8990, grad_fn=<MeanBackward0>)\n",
      "loss: tensor(152.9236, grad_fn=<MeanBackward0>)\n",
      "loss: tensor(505.1010, grad_fn=<MeanBackward0>)\n",
      "loss: tensor(1153.4075, grad_fn=<MeanBackward0>)\n",
      "loss: tensor(882.8340, grad_fn=<MeanBackward0>)\n",
      "loss: tensor(200.4751, grad_fn=<MeanBackward0>)\n",
      "loss: tensor(385.1654, grad_fn=<MeanBackward0>)\n",
      "loss: tensor(1090.7745, grad_fn=<MeanBackward0>)\n",
      "loss: tensor(994.9009, grad_fn=<MeanBackward0>)\n",
      "loss: tensor(277.2278, grad_fn=<MeanBackward0>)\n",
      "loss: tensor(282.7734, grad_fn=<MeanBackward0>)\n",
      "loss: tensor(1001.1480, grad_fn=<MeanBackward0>)\n",
      "loss: tensor(1086.0254, grad_fn=<MeanBackward0>)\n",
      "loss: tensor(378.3374, grad_fn=<MeanBackward0>)\n",
      "loss: tensor(204.3887, grad_fn=<MeanBackward0>)\n",
      "loss: tensor(890.1855, grad_fn=<MeanBackward0>)\n",
      "loss: tensor(1150.4569, grad_fn=<MeanBackward0>)\n",
      "loss: tensor(497.4227, grad_fn=<MeanBackward0>)\n",
      "loss: tensor(154.9589, grad_fn=<MeanBackward0>)\n",
      "loss: tensor(764.8913, grad_fn=<MeanBackward0>)\n",
      "loss: tensor(1184.1285, grad_fn=<MeanBackward0>)\n",
      "loss: tensor(626.9673, grad_fn=<MeanBackward0>)\n",
      "loss: tensor(137.6046, grad_fn=<MeanBackward0>)\n",
      "loss: tensor(633.1740, grad_fn=<MeanBackward0>)\n",
      "loss: tensor(1184.9150, grad_fn=<MeanBackward0>)\n",
      "loss: tensor(758.7944, grad_fn=<MeanBackward0>)\n",
      "loss: tensor(153.4214, grad_fn=<MeanBackward0>)\n",
      "loss: tensor(503.3479, grad_fn=<MeanBackward0>)\n",
      "loss: tensor(1152.7677, grad_fn=<MeanBackward0>)\n",
      "loss: tensor(884.5843, grad_fn=<MeanBackward0>)\n",
      "loss: tensor(201.4115, grad_fn=<MeanBackward0>)\n",
      "loss: tensor(383.6082, grad_fn=<MeanBackward0>)\n",
      "loss: tensor(1089.7163, grad_fn=<MeanBackward0>)\n",
      "loss: tensor(996.3978, grad_fn=<MeanBackward0>)\n",
      "loss: tensor(278.5462, grad_fn=<MeanBackward0>)\n",
      "loss: tensor(281.5130, grad_fn=<MeanBackward0>)\n",
      "loss: tensor(999.7404, grad_fn=<MeanBackward0>)\n",
      "loss: tensor(1087.1771, grad_fn=<MeanBackward0>)\n",
      "loss: tensor(379.9569, grad_fn=<MeanBackward0>)\n",
      "loss: tensor(203.5066, grad_fn=<MeanBackward0>)\n",
      "loss: tensor(888.5193, grad_fn=<MeanBackward0>)\n",
      "loss: tensor(1151.1917, grad_fn=<MeanBackward0>)\n",
      "loss: tensor(499.2426, grad_fn=<MeanBackward0>)\n",
      "loss: tensor(154.5130, grad_fn=<MeanBackward0>)\n",
      "loss: tensor(763.0734, grad_fn=<MeanBackward0>)\n",
      "loss: tensor(1184.4028, grad_fn=<MeanBackward0>)\n",
      "loss: tensor(628.8752, grad_fn=<MeanBackward0>)\n",
      "loss: tensor(137.6247, grad_fn=<MeanBackward0>)\n",
      "loss: tensor(631.3214, grad_fn=<MeanBackward0>)\n",
      "loss: tensor(1184.7134, grad_fn=<MeanBackward0>)\n",
      "loss: tensor(760.6719, grad_fn=<MeanBackward0>)\n",
      "loss: tensor(153.9081, grad_fn=<MeanBackward0>)\n",
      "loss: tensor(501.5794, grad_fn=<MeanBackward0>)\n",
      "loss: tensor(1152.1047, grad_fn=<MeanBackward0>)\n",
      "loss: tensor(886.3142, grad_fn=<MeanBackward0>)\n",
      "loss: tensor(202.3355, grad_fn=<MeanBackward0>)\n",
      "loss: tensor(382.0366, grad_fn=<MeanBackward0>)\n",
      "loss: tensor(1088.6349, grad_fn=<MeanBackward0>)\n",
      "loss: tensor(997.8718, grad_fn=<MeanBackward0>)\n",
      "loss: tensor(279.8502, grad_fn=<MeanBackward0>)\n",
      "loss: tensor(280.2386, grad_fn=<MeanBackward0>)\n",
      "loss: tensor(998.3094, grad_fn=<MeanBackward0>)\n",
      "loss: tensor(1088.3032, grad_fn=<MeanBackward0>)\n",
      "loss: tensor(381.5597, grad_fn=<MeanBackward0>)\n",
      "loss: tensor(202.6109, grad_fn=<MeanBackward0>)\n",
      "loss: tensor(886.8306, grad_fn=<MeanBackward0>)\n",
      "loss: tensor(1151.9008, grad_fn=<MeanBackward0>)\n",
      "loss: tensor(501.0444, grad_fn=<MeanBackward0>)\n",
      "loss: tensor(154.0533, grad_fn=<MeanBackward0>)\n",
      "loss: tensor(761.2349, grad_fn=<MeanBackward0>)\n",
      "loss: tensor(1184.6498, grad_fn=<MeanBackward0>)\n",
      "loss: tensor(630.7625, grad_fn=<MeanBackward0>)\n",
      "loss: tensor(137.6309, grad_fn=<MeanBackward0>)\n",
      "loss: tensor(629.4489, grad_fn=<MeanBackward0>)\n",
      "loss: tensor(1184.4839, grad_fn=<MeanBackward0>)\n",
      "loss: tensor(762.5267, grad_fn=<MeanBackward0>)\n",
      "loss: tensor(154.3802, grad_fn=<MeanBackward0>)\n",
      "loss: tensor(499.7914, grad_fn=<MeanBackward0>)\n",
      "loss: tensor(1151.4131, grad_fn=<MeanBackward0>)\n",
      "loss: tensor(888.0189, grad_fn=<MeanBackward0>)\n",
      "loss: tensor(203.2439, grad_fn=<MeanBackward0>)\n",
      "loss: tensor(380.4468, grad_fn=<MeanBackward0>)\n",
      "loss: tensor(1087.5247, grad_fn=<MeanBackward0>)\n",
      "loss: tensor(999.3188, grad_fn=<MeanBackward0>)\n",
      "loss: tensor(281.1378, grad_fn=<MeanBackward0>)\n",
      "loss: tensor(278.9471, grad_fn=<MeanBackward0>)\n",
      "loss: tensor(996.8516, grad_fn=<MeanBackward0>)\n",
      "loss: tensor(1089.4016, grad_fn=<MeanBackward0>)\n",
      "loss: tensor(383.1451, grad_fn=<MeanBackward0>)\n",
      "loss: tensor(201.6991, grad_fn=<MeanBackward0>)\n",
      "loss: tensor(885.1165, grad_fn=<MeanBackward0>)\n",
      "loss: tensor(1152.5807, grad_fn=<MeanBackward0>)\n",
      "loss: tensor(502.8270, grad_fn=<MeanBackward0>)\n",
      "loss: tensor(153.5785, grad_fn=<MeanBackward0>)\n",
      "loss: tensor(759.3719, grad_fn=<MeanBackward0>)\n",
      "loss: tensor(1184.8678, grad_fn=<MeanBackward0>)\n",
      "loss: tensor(632.6290, grad_fn=<MeanBackward0>)\n",
      "loss: tensor(137.6223, grad_fn=<MeanBackward0>)\n",
      "loss: tensor(627.5542, grad_fn=<MeanBackward0>)\n",
      "loss: tensor(1184.2252, grad_fn=<MeanBackward0>)\n",
      "loss: tensor(764.3577, grad_fn=<MeanBackward0>)\n",
      "loss: tensor(154.8375, grad_fn=<MeanBackward0>)\n",
      "loss: tensor(497.9841, grad_fn=<MeanBackward0>)\n",
      "loss: tensor(1150.6934, grad_fn=<MeanBackward0>)\n",
      "loss: tensor(889.6990, grad_fn=<MeanBackward0>)\n",
      "loss: tensor(204.1371, grad_fn=<MeanBackward0>)\n",
      "loss: tensor(378.8392, grad_fn=<MeanBackward0>)\n",
      "loss: tensor(1086.3883, grad_fn=<MeanBackward0>)\n",
      "loss: tensor(1000.7408, grad_fn=<MeanBackward0>)\n",
      "loss: tensor(282.4091, grad_fn=<MeanBackward0>)\n",
      "loss: tensor(277.6398, grad_fn=<MeanBackward0>)\n",
      "loss: tensor(995.3686, grad_fn=<MeanBackward0>)\n",
      "loss: tensor(1090.4740, grad_fn=<MeanBackward0>)\n",
      "loss: tensor(384.7130, grad_fn=<MeanBackward0>)\n",
      "loss: tensor(200.7730, grad_fn=<MeanBackward0>)\n",
      "loss: tensor(883.3793, grad_fn=<MeanBackward0>)\n",
      "loss: tensor(1153.2344, grad_fn=<MeanBackward0>)\n",
      "loss: tensor(504.5910, grad_fn=<MeanBackward0>)\n",
      "loss: tensor(153.0901, grad_fn=<MeanBackward0>)\n",
      "loss: tensor(757.4879, grad_fn=<MeanBackward0>)\n",
      "loss: tensor(1185.0596, grad_fn=<MeanBackward0>)\n",
      "loss: tensor(634.4760, grad_fn=<MeanBackward0>)\n",
      "loss: tensor(137.6007, grad_fn=<MeanBackward0>)\n",
      "loss: tensor(625.6410, grad_fn=<MeanBackward0>)\n",
      "loss: tensor(1183.9407, grad_fn=<MeanBackward0>)\n",
      "loss: tensor(766.1692, grad_fn=<MeanBackward0>)\n",
      "loss: tensor(155.2820, grad_fn=<MeanBackward0>)\n",
      "loss: tensor(496.1598, grad_fn=<MeanBackward0>)\n",
      "loss: tensor(1149.9485, grad_fn=<MeanBackward0>)\n",
      "loss: tensor(891.3580, grad_fn=<MeanBackward0>)\n",
      "loss: tensor(205.0175, grad_fn=<MeanBackward0>)\n",
      "loss: tensor(377.2170, grad_fn=<MeanBackward0>)\n",
      "loss: tensor(1085.2279, grad_fn=<MeanBackward0>)\n",
      "loss: tensor(1002.1402, grad_fn=<MeanBackward0>)\n",
      "loss: tensor(283.6674, grad_fn=<MeanBackward0>)\n",
      "loss: tensor(276.3197, grad_fn=<MeanBackward0>)\n",
      "loss: tensor(993.8638, grad_fn=<MeanBackward0>)\n",
      "loss: tensor(1091.5229, grad_fn=<MeanBackward0>)\n",
      "loss: tensor(386.2670, grad_fn=<MeanBackward0>)\n",
      "loss: tensor(199.8355, grad_fn=<MeanBackward0>)\n",
      "loss: tensor(881.6215, grad_fn=<MeanBackward0>)\n",
      "loss: tensor(1153.8639, grad_fn=<MeanBackward0>)\n",
      "loss: tensor(506.3399, grad_fn=<MeanBackward0>)\n",
      "loss: tensor(152.5920, grad_fn=<MeanBackward0>)\n",
      "loss: tensor(755.5864, grad_fn=<MeanBackward0>)\n",
      "loss: tensor(1185.2275, grad_fn=<MeanBackward0>)\n",
      "loss: tensor(636.3067, grad_fn=<MeanBackward0>)\n",
      "loss: tensor(137.5704, grad_fn=<MeanBackward0>)\n",
      "loss: tensor(623.7124, grad_fn=<MeanBackward0>)\n",
      "loss: tensor(1183.6338, grad_fn=<MeanBackward0>)\n",
      "loss: tensor(767.9633, grad_fn=<MeanBackward0>)\n",
      "loss: tensor(155.7184, grad_fn=<MeanBackward0>)\n",
      "loss: tensor(494.3232, grad_fn=<MeanBackward0>)\n",
      "loss: tensor(1149.1827, grad_fn=<MeanBackward0>)\n",
      "loss: tensor(892.9990, grad_fn=<MeanBackward0>)\n",
      "loss: tensor(205.8900, grad_fn=<MeanBackward0>)\n",
      "loss: tensor(375.5848, grad_fn=<MeanBackward0>)\n",
      "loss: tensor(1084.0482, grad_fn=<MeanBackward0>)\n",
      "loss: tensor(1003.5216, grad_fn=<MeanBackward0>)\n",
      "loss: tensor(284.9178, grad_fn=<MeanBackward0>)\n",
      "loss: tensor(274.9918, grad_fn=<MeanBackward0>)\n",
      "loss: tensor(992.3417, grad_fn=<MeanBackward0>)\n",
      "loss: tensor(1092.5546, grad_fn=<MeanBackward0>)\n",
      "loss: tensor(387.8134, grad_fn=<MeanBackward0>)\n",
      "loss: tensor(198.8925, grad_fn=<MeanBackward0>)\n",
      "loss: tensor(879.8505, grad_fn=<MeanBackward0>)\n",
      "loss: tensor(1154.4768, grad_fn=<MeanBackward0>)\n",
      "loss: tensor(508.0812, grad_fn=<MeanBackward0>)\n",
      "loss: tensor(152.0900, grad_fn=<MeanBackward0>)\n",
      "loss: tensor(753.6737, grad_fn=<MeanBackward0>)\n",
      "loss: tensor(1185.3800, grad_fn=<MeanBackward0>)\n",
      "loss: tensor(638.1295, grad_fn=<MeanBackward0>)\n",
      "loss: tensor(137.5377, grad_fn=<MeanBackward0>)\n",
      "loss: tensor(621.7756, grad_fn=<MeanBackward0>)\n",
      "loss: tensor(1183.3124, grad_fn=<MeanBackward0>)\n",
      "loss: tensor(769.7486, grad_fn=<MeanBackward0>)\n",
      "loss: tensor(156.1534, grad_fn=<MeanBackward0>)\n",
      "loss: tensor(492.4808, grad_fn=<MeanBackward0>)\n",
      "loss: tensor(1148.4042, grad_fn=<MeanBackward0>)\n",
      "loss: tensor(894.6310, grad_fn=<MeanBackward0>)\n",
      "loss: tensor(206.7617, grad_fn=<MeanBackward0>)\n",
      "loss: tensor(373.9499, grad_fn=<MeanBackward0>)\n",
      "loss: tensor(1082.8580, grad_fn=<MeanBackward0>)\n",
      "loss: tensor(1004.8937, grad_fn=<MeanBackward0>)\n",
      "loss: tensor(286.1678, grad_fn=<MeanBackward0>)\n",
      "loss: tensor(273.6637, grad_fn=<MeanBackward0>)\n",
      "loss: tensor(990.8113, grad_fn=<MeanBackward0>)\n"
     ]
    }
   ],
   "source": [
    "a = torch.rand(1, requires_grad = True)\n",
    "b = torch.rand(1, requires_grad = True)\n",
    "print('Initial parameters:', a, b)\n",
    "learning_rate = 0.0001\n",
    "for i in range(1000):\n",
    "    predictions = a.expand_as(x_train) * x_train + b.expand_as(x_train)\n",
    "    loss = torch.mean((predictions - y_train) ** 2)\n",
    "    print('loss:', loss)\n",
    "    loss.backward()\n",
    "    a.data.add_(- learning_rate * a.grad.data)\n",
    "    b.data.add_(- learning_rate * b.grad.data)"
   ]
  },
  {
   "cell_type": "markdown",
   "metadata": {},
   "source": [
    "通过打印输出的loss结果来看，存在着非常大的震荡，从而导致无法正确估计参数a和b的值"
   ]
  },
  {
   "cell_type": "markdown",
   "metadata": {},
   "source": [
    "#### b. 正确版本"
   ]
  },
  {
   "cell_type": "code",
   "execution_count": 29,
   "metadata": {
    "tags": [
     "outputPrepend"
    ]
   },
   "outputs": [
    {
     "output_type": "stream",
     "name": "stdout",
     "text": [
      ".7493, grad_fn=<MeanBackward0>)\n",
      "loss: tensor(137.7493, grad_fn=<MeanBackward0>)\n",
      "loss: tensor(137.7493, grad_fn=<MeanBackward0>)\n",
      "loss: tensor(137.7492, grad_fn=<MeanBackward0>)\n",
      "loss: tensor(137.7491, grad_fn=<MeanBackward0>)\n",
      "loss: tensor(137.7491, grad_fn=<MeanBackward0>)\n",
      "loss: tensor(137.7491, grad_fn=<MeanBackward0>)\n",
      "loss: tensor(137.7490, grad_fn=<MeanBackward0>)\n",
      "loss: tensor(137.7490, grad_fn=<MeanBackward0>)\n",
      "loss: tensor(137.7489, grad_fn=<MeanBackward0>)\n",
      "loss: tensor(137.7489, grad_fn=<MeanBackward0>)\n",
      "loss: tensor(137.7489, grad_fn=<MeanBackward0>)\n",
      "loss: tensor(137.7488, grad_fn=<MeanBackward0>)\n",
      "loss: tensor(137.7487, grad_fn=<MeanBackward0>)\n",
      "loss: tensor(137.7487, grad_fn=<MeanBackward0>)\n",
      "loss: tensor(137.7486, grad_fn=<MeanBackward0>)\n",
      "loss: tensor(137.7486, grad_fn=<MeanBackward0>)\n",
      "loss: tensor(137.7485, grad_fn=<MeanBackward0>)\n",
      "loss: tensor(137.7485, grad_fn=<MeanBackward0>)\n",
      "loss: tensor(137.7485, grad_fn=<MeanBackward0>)\n",
      "loss: tensor(137.7484, grad_fn=<MeanBackward0>)\n",
      "loss: tensor(137.7484, grad_fn=<MeanBackward0>)\n",
      "loss: tensor(137.7483, grad_fn=<MeanBackward0>)\n",
      "loss: tensor(137.7483, grad_fn=<MeanBackward0>)\n",
      "loss: tensor(137.7482, grad_fn=<MeanBackward0>)\n",
      "loss: tensor(137.7482, grad_fn=<MeanBackward0>)\n",
      "loss: tensor(137.7482, grad_fn=<MeanBackward0>)\n",
      "loss: tensor(137.7481, grad_fn=<MeanBackward0>)\n",
      "loss: tensor(137.7480, grad_fn=<MeanBackward0>)\n",
      "loss: tensor(137.7480, grad_fn=<MeanBackward0>)\n",
      "loss: tensor(137.7479, grad_fn=<MeanBackward0>)\n",
      "loss: tensor(137.7479, grad_fn=<MeanBackward0>)\n",
      "loss: tensor(137.7479, grad_fn=<MeanBackward0>)\n",
      "loss: tensor(137.7478, grad_fn=<MeanBackward0>)\n",
      "loss: tensor(137.7477, grad_fn=<MeanBackward0>)\n",
      "loss: tensor(137.7478, grad_fn=<MeanBackward0>)\n",
      "loss: tensor(137.7477, grad_fn=<MeanBackward0>)\n",
      "loss: tensor(137.7476, grad_fn=<MeanBackward0>)\n",
      "loss: tensor(137.7476, grad_fn=<MeanBackward0>)\n",
      "loss: tensor(137.7475, grad_fn=<MeanBackward0>)\n",
      "loss: tensor(137.7475, grad_fn=<MeanBackward0>)\n",
      "loss: tensor(137.7474, grad_fn=<MeanBackward0>)\n",
      "loss: tensor(137.7474, grad_fn=<MeanBackward0>)\n",
      "loss: tensor(137.7473, grad_fn=<MeanBackward0>)\n",
      "loss: tensor(137.7473, grad_fn=<MeanBackward0>)\n",
      "loss: tensor(137.7472, grad_fn=<MeanBackward0>)\n",
      "loss: tensor(137.7472, grad_fn=<MeanBackward0>)\n",
      "loss: tensor(137.7472, grad_fn=<MeanBackward0>)\n",
      "loss: tensor(137.7471, grad_fn=<MeanBackward0>)\n",
      "loss: tensor(137.7471, grad_fn=<MeanBackward0>)\n",
      "loss: tensor(137.7470, grad_fn=<MeanBackward0>)\n",
      "loss: tensor(137.7470, grad_fn=<MeanBackward0>)\n",
      "loss: tensor(137.7469, grad_fn=<MeanBackward0>)\n",
      "loss: tensor(137.7469, grad_fn=<MeanBackward0>)\n",
      "loss: tensor(137.7468, grad_fn=<MeanBackward0>)\n",
      "loss: tensor(137.7467, grad_fn=<MeanBackward0>)\n",
      "loss: tensor(137.7467, grad_fn=<MeanBackward0>)\n",
      "loss: tensor(137.7467, grad_fn=<MeanBackward0>)\n",
      "loss: tensor(137.7466, grad_fn=<MeanBackward0>)\n",
      "loss: tensor(137.7466, grad_fn=<MeanBackward0>)\n",
      "loss: tensor(137.7466, grad_fn=<MeanBackward0>)\n",
      "loss: tensor(137.7465, grad_fn=<MeanBackward0>)\n",
      "loss: tensor(137.7464, grad_fn=<MeanBackward0>)\n",
      "loss: tensor(137.7464, grad_fn=<MeanBackward0>)\n",
      "loss: tensor(137.7464, grad_fn=<MeanBackward0>)\n",
      "loss: tensor(137.7463, grad_fn=<MeanBackward0>)\n",
      "loss: tensor(137.7463, grad_fn=<MeanBackward0>)\n",
      "loss: tensor(137.7462, grad_fn=<MeanBackward0>)\n",
      "loss: tensor(137.7462, grad_fn=<MeanBackward0>)\n",
      "loss: tensor(137.7461, grad_fn=<MeanBackward0>)\n",
      "loss: tensor(137.7460, grad_fn=<MeanBackward0>)\n",
      "loss: tensor(137.7460, grad_fn=<MeanBackward0>)\n",
      "loss: tensor(137.7460, grad_fn=<MeanBackward0>)\n",
      "loss: tensor(137.7459, grad_fn=<MeanBackward0>)\n",
      "loss: tensor(137.7459, grad_fn=<MeanBackward0>)\n",
      "loss: tensor(137.7458, grad_fn=<MeanBackward0>)\n",
      "loss: tensor(137.7458, grad_fn=<MeanBackward0>)\n",
      "loss: tensor(137.7458, grad_fn=<MeanBackward0>)\n",
      "loss: tensor(137.7457, grad_fn=<MeanBackward0>)\n",
      "loss: tensor(137.7456, grad_fn=<MeanBackward0>)\n",
      "loss: tensor(137.7456, grad_fn=<MeanBackward0>)\n",
      "loss: tensor(137.7455, grad_fn=<MeanBackward0>)\n",
      "loss: tensor(137.7455, grad_fn=<MeanBackward0>)\n",
      "loss: tensor(137.7454, grad_fn=<MeanBackward0>)\n",
      "loss: tensor(137.7454, grad_fn=<MeanBackward0>)\n",
      "loss: tensor(137.7454, grad_fn=<MeanBackward0>)\n",
      "loss: tensor(137.7453, grad_fn=<MeanBackward0>)\n",
      "loss: tensor(137.7453, grad_fn=<MeanBackward0>)\n",
      "loss: tensor(137.7452, grad_fn=<MeanBackward0>)\n",
      "loss: tensor(137.7452, grad_fn=<MeanBackward0>)\n",
      "loss: tensor(137.7451, grad_fn=<MeanBackward0>)\n",
      "loss: tensor(137.7451, grad_fn=<MeanBackward0>)\n",
      "loss: tensor(137.7451, grad_fn=<MeanBackward0>)\n",
      "loss: tensor(137.7450, grad_fn=<MeanBackward0>)\n",
      "loss: tensor(137.7449, grad_fn=<MeanBackward0>)\n",
      "loss: tensor(137.7449, grad_fn=<MeanBackward0>)\n",
      "loss: tensor(137.7448, grad_fn=<MeanBackward0>)\n",
      "loss: tensor(137.7449, grad_fn=<MeanBackward0>)\n",
      "loss: tensor(137.7448, grad_fn=<MeanBackward0>)\n",
      "loss: tensor(137.7447, grad_fn=<MeanBackward0>)\n",
      "loss: tensor(137.7447, grad_fn=<MeanBackward0>)\n",
      "loss: tensor(137.7446, grad_fn=<MeanBackward0>)\n",
      "loss: tensor(137.7446, grad_fn=<MeanBackward0>)\n",
      "loss: tensor(137.7445, grad_fn=<MeanBackward0>)\n",
      "loss: tensor(137.7445, grad_fn=<MeanBackward0>)\n",
      "loss: tensor(137.7445, grad_fn=<MeanBackward0>)\n",
      "loss: tensor(137.7444, grad_fn=<MeanBackward0>)\n",
      "loss: tensor(137.7443, grad_fn=<MeanBackward0>)\n",
      "loss: tensor(137.7443, grad_fn=<MeanBackward0>)\n",
      "loss: tensor(137.7443, grad_fn=<MeanBackward0>)\n",
      "loss: tensor(137.7442, grad_fn=<MeanBackward0>)\n",
      "loss: tensor(137.7442, grad_fn=<MeanBackward0>)\n",
      "loss: tensor(137.7441, grad_fn=<MeanBackward0>)\n",
      "loss: tensor(137.7440, grad_fn=<MeanBackward0>)\n",
      "loss: tensor(137.7440, grad_fn=<MeanBackward0>)\n",
      "loss: tensor(137.7440, grad_fn=<MeanBackward0>)\n",
      "loss: tensor(137.7439, grad_fn=<MeanBackward0>)\n",
      "loss: tensor(137.7439, grad_fn=<MeanBackward0>)\n",
      "loss: tensor(137.7439, grad_fn=<MeanBackward0>)\n",
      "loss: tensor(137.7438, grad_fn=<MeanBackward0>)\n",
      "loss: tensor(137.7438, grad_fn=<MeanBackward0>)\n",
      "loss: tensor(137.7437, grad_fn=<MeanBackward0>)\n",
      "loss: tensor(137.7437, grad_fn=<MeanBackward0>)\n",
      "loss: tensor(137.7437, grad_fn=<MeanBackward0>)\n",
      "loss: tensor(137.7436, grad_fn=<MeanBackward0>)\n",
      "loss: tensor(137.7435, grad_fn=<MeanBackward0>)\n",
      "loss: tensor(137.7435, grad_fn=<MeanBackward0>)\n",
      "loss: tensor(137.7434, grad_fn=<MeanBackward0>)\n",
      "loss: tensor(137.7434, grad_fn=<MeanBackward0>)\n",
      "loss: tensor(137.7433, grad_fn=<MeanBackward0>)\n",
      "loss: tensor(137.7433, grad_fn=<MeanBackward0>)\n",
      "loss: tensor(137.7433, grad_fn=<MeanBackward0>)\n",
      "loss: tensor(137.7432, grad_fn=<MeanBackward0>)\n",
      "loss: tensor(137.7432, grad_fn=<MeanBackward0>)\n",
      "loss: tensor(137.7431, grad_fn=<MeanBackward0>)\n",
      "loss: tensor(137.7431, grad_fn=<MeanBackward0>)\n",
      "loss: tensor(137.7430, grad_fn=<MeanBackward0>)\n",
      "loss: tensor(137.7429, grad_fn=<MeanBackward0>)\n",
      "loss: tensor(137.7429, grad_fn=<MeanBackward0>)\n",
      "loss: tensor(137.7429, grad_fn=<MeanBackward0>)\n",
      "loss: tensor(137.7428, grad_fn=<MeanBackward0>)\n",
      "loss: tensor(137.7428, grad_fn=<MeanBackward0>)\n",
      "loss: tensor(137.7427, grad_fn=<MeanBackward0>)\n",
      "loss: tensor(137.7427, grad_fn=<MeanBackward0>)\n",
      "loss: tensor(137.7427, grad_fn=<MeanBackward0>)\n",
      "loss: tensor(137.7426, grad_fn=<MeanBackward0>)\n",
      "loss: tensor(137.7426, grad_fn=<MeanBackward0>)\n",
      "loss: tensor(137.7425, grad_fn=<MeanBackward0>)\n",
      "loss: tensor(137.7424, grad_fn=<MeanBackward0>)\n",
      "loss: tensor(137.7424, grad_fn=<MeanBackward0>)\n",
      "loss: tensor(137.7423, grad_fn=<MeanBackward0>)\n",
      "loss: tensor(137.7423, grad_fn=<MeanBackward0>)\n",
      "loss: tensor(137.7423, grad_fn=<MeanBackward0>)\n",
      "loss: tensor(137.7422, grad_fn=<MeanBackward0>)\n",
      "loss: tensor(137.7422, grad_fn=<MeanBackward0>)\n",
      "loss: tensor(137.7422, grad_fn=<MeanBackward0>)\n",
      "loss: tensor(137.7421, grad_fn=<MeanBackward0>)\n",
      "loss: tensor(137.7420, grad_fn=<MeanBackward0>)\n",
      "loss: tensor(137.7420, grad_fn=<MeanBackward0>)\n",
      "loss: tensor(137.7419, grad_fn=<MeanBackward0>)\n",
      "loss: tensor(137.7419, grad_fn=<MeanBackward0>)\n",
      "loss: tensor(137.7419, grad_fn=<MeanBackward0>)\n",
      "loss: tensor(137.7418, grad_fn=<MeanBackward0>)\n",
      "loss: tensor(137.7417, grad_fn=<MeanBackward0>)\n",
      "loss: tensor(137.7417, grad_fn=<MeanBackward0>)\n",
      "loss: tensor(137.7417, grad_fn=<MeanBackward0>)\n",
      "loss: tensor(137.7417, grad_fn=<MeanBackward0>)\n",
      "loss: tensor(137.7416, grad_fn=<MeanBackward0>)\n",
      "loss: tensor(137.7415, grad_fn=<MeanBackward0>)\n",
      "loss: tensor(137.7415, grad_fn=<MeanBackward0>)\n",
      "loss: tensor(137.7414, grad_fn=<MeanBackward0>)\n",
      "loss: tensor(137.7414, grad_fn=<MeanBackward0>)\n",
      "loss: tensor(137.7413, grad_fn=<MeanBackward0>)\n",
      "loss: tensor(137.7413, grad_fn=<MeanBackward0>)\n",
      "loss: tensor(137.7413, grad_fn=<MeanBackward0>)\n",
      "loss: tensor(137.7412, grad_fn=<MeanBackward0>)\n",
      "loss: tensor(137.7412, grad_fn=<MeanBackward0>)\n",
      "loss: tensor(137.7411, grad_fn=<MeanBackward0>)\n",
      "loss: tensor(137.7411, grad_fn=<MeanBackward0>)\n",
      "loss: tensor(137.7410, grad_fn=<MeanBackward0>)\n",
      "loss: tensor(137.7410, grad_fn=<MeanBackward0>)\n",
      "loss: tensor(137.7409, grad_fn=<MeanBackward0>)\n",
      "loss: tensor(137.7409, grad_fn=<MeanBackward0>)\n",
      "loss: tensor(137.7408, grad_fn=<MeanBackward0>)\n",
      "loss: tensor(137.7408, grad_fn=<MeanBackward0>)\n",
      "loss: tensor(137.7408, grad_fn=<MeanBackward0>)\n",
      "loss: tensor(137.7407, grad_fn=<MeanBackward0>)\n",
      "loss: tensor(137.7407, grad_fn=<MeanBackward0>)\n",
      "loss: tensor(137.7406, grad_fn=<MeanBackward0>)\n",
      "loss: tensor(137.7406, grad_fn=<MeanBackward0>)\n",
      "loss: tensor(137.7405, grad_fn=<MeanBackward0>)\n",
      "loss: tensor(137.7405, grad_fn=<MeanBackward0>)\n",
      "loss: tensor(137.7404, grad_fn=<MeanBackward0>)\n",
      "loss: tensor(137.7404, grad_fn=<MeanBackward0>)\n",
      "loss: tensor(137.7403, grad_fn=<MeanBackward0>)\n",
      "loss: tensor(137.7402, grad_fn=<MeanBackward0>)\n",
      "loss: tensor(137.7402, grad_fn=<MeanBackward0>)\n",
      "loss: tensor(137.7402, grad_fn=<MeanBackward0>)\n",
      "loss: tensor(137.7401, grad_fn=<MeanBackward0>)\n",
      "loss: tensor(137.7401, grad_fn=<MeanBackward0>)\n",
      "loss: tensor(137.7401, grad_fn=<MeanBackward0>)\n",
      "loss: tensor(137.7400, grad_fn=<MeanBackward0>)\n",
      "loss: tensor(137.7400, grad_fn=<MeanBackward0>)\n",
      "loss: tensor(137.7399, grad_fn=<MeanBackward0>)\n",
      "loss: tensor(137.7399, grad_fn=<MeanBackward0>)\n",
      "loss: tensor(137.7398, grad_fn=<MeanBackward0>)\n",
      "loss: tensor(137.7398, grad_fn=<MeanBackward0>)\n",
      "loss: tensor(137.7397, grad_fn=<MeanBackward0>)\n",
      "loss: tensor(137.7397, grad_fn=<MeanBackward0>)\n",
      "loss: tensor(137.7396, grad_fn=<MeanBackward0>)\n",
      "loss: tensor(137.7396, grad_fn=<MeanBackward0>)\n",
      "loss: tensor(137.7396, grad_fn=<MeanBackward0>)\n",
      "loss: tensor(137.7395, grad_fn=<MeanBackward0>)\n",
      "loss: tensor(137.7394, grad_fn=<MeanBackward0>)\n",
      "loss: tensor(137.7394, grad_fn=<MeanBackward0>)\n",
      "loss: tensor(137.7394, grad_fn=<MeanBackward0>)\n",
      "loss: tensor(137.7393, grad_fn=<MeanBackward0>)\n",
      "loss: tensor(137.7393, grad_fn=<MeanBackward0>)\n",
      "loss: tensor(137.7392, grad_fn=<MeanBackward0>)\n",
      "loss: tensor(137.7392, grad_fn=<MeanBackward0>)\n",
      "loss: tensor(137.7391, grad_fn=<MeanBackward0>)\n",
      "loss: tensor(137.7391, grad_fn=<MeanBackward0>)\n",
      "loss: tensor(137.7390, grad_fn=<MeanBackward0>)\n",
      "loss: tensor(137.7390, grad_fn=<MeanBackward0>)\n",
      "loss: tensor(137.7389, grad_fn=<MeanBackward0>)\n",
      "loss: tensor(137.7389, grad_fn=<MeanBackward0>)\n",
      "loss: tensor(137.7389, grad_fn=<MeanBackward0>)\n",
      "loss: tensor(137.7388, grad_fn=<MeanBackward0>)\n",
      "loss: tensor(137.7388, grad_fn=<MeanBackward0>)\n",
      "loss: tensor(137.7387, grad_fn=<MeanBackward0>)\n",
      "loss: tensor(137.7386, grad_fn=<MeanBackward0>)\n",
      "loss: tensor(137.7387, grad_fn=<MeanBackward0>)\n",
      "loss: tensor(137.7386, grad_fn=<MeanBackward0>)\n",
      "loss: tensor(137.7386, grad_fn=<MeanBackward0>)\n",
      "loss: tensor(137.7385, grad_fn=<MeanBackward0>)\n",
      "loss: tensor(137.7384, grad_fn=<MeanBackward0>)\n",
      "loss: tensor(137.7384, grad_fn=<MeanBackward0>)\n",
      "loss: tensor(137.7384, grad_fn=<MeanBackward0>)\n",
      "loss: tensor(137.7383, grad_fn=<MeanBackward0>)\n",
      "loss: tensor(137.7383, grad_fn=<MeanBackward0>)\n",
      "loss: tensor(137.7382, grad_fn=<MeanBackward0>)\n",
      "loss: tensor(137.7381, grad_fn=<MeanBackward0>)\n",
      "loss: tensor(137.7381, grad_fn=<MeanBackward0>)\n",
      "loss: tensor(137.7380, grad_fn=<MeanBackward0>)\n",
      "loss: tensor(137.7381, grad_fn=<MeanBackward0>)\n",
      "loss: tensor(137.7380, grad_fn=<MeanBackward0>)\n",
      "loss: tensor(137.7380, grad_fn=<MeanBackward0>)\n",
      "loss: tensor(137.7379, grad_fn=<MeanBackward0>)\n",
      "loss: tensor(137.7379, grad_fn=<MeanBackward0>)\n",
      "loss: tensor(137.7378, grad_fn=<MeanBackward0>)\n",
      "loss: tensor(137.7378, grad_fn=<MeanBackward0>)\n",
      "loss: tensor(137.7377, grad_fn=<MeanBackward0>)\n",
      "loss: tensor(137.7377, grad_fn=<MeanBackward0>)\n",
      "loss: tensor(137.7376, grad_fn=<MeanBackward0>)\n",
      "loss: tensor(137.7376, grad_fn=<MeanBackward0>)\n",
      "loss: tensor(137.7375, grad_fn=<MeanBackward0>)\n",
      "loss: tensor(137.7375, grad_fn=<MeanBackward0>)\n",
      "loss: tensor(137.7374, grad_fn=<MeanBackward0>)\n",
      "loss: tensor(137.7374, grad_fn=<MeanBackward0>)\n",
      "loss: tensor(137.7374, grad_fn=<MeanBackward0>)\n",
      "loss: tensor(137.7373, grad_fn=<MeanBackward0>)\n",
      "loss: tensor(137.7373, grad_fn=<MeanBackward0>)\n",
      "loss: tensor(137.7372, grad_fn=<MeanBackward0>)\n",
      "loss: tensor(137.7372, grad_fn=<MeanBackward0>)\n",
      "loss: tensor(137.7371, grad_fn=<MeanBackward0>)\n",
      "loss: tensor(137.7371, grad_fn=<MeanBackward0>)\n",
      "loss: tensor(137.7370, grad_fn=<MeanBackward0>)\n",
      "loss: tensor(137.7370, grad_fn=<MeanBackward0>)\n",
      "loss: tensor(137.7370, grad_fn=<MeanBackward0>)\n",
      "loss: tensor(137.7368, grad_fn=<MeanBackward0>)\n",
      "loss: tensor(137.7368, grad_fn=<MeanBackward0>)\n",
      "loss: tensor(137.7368, grad_fn=<MeanBackward0>)\n",
      "loss: tensor(137.7368, grad_fn=<MeanBackward0>)\n",
      "loss: tensor(137.7367, grad_fn=<MeanBackward0>)\n",
      "loss: tensor(137.7367, grad_fn=<MeanBackward0>)\n",
      "loss: tensor(137.7366, grad_fn=<MeanBackward0>)\n",
      "loss: tensor(137.7366, grad_fn=<MeanBackward0>)\n",
      "loss: tensor(137.7365, grad_fn=<MeanBackward0>)\n",
      "loss: tensor(137.7365, grad_fn=<MeanBackward0>)\n",
      "loss: tensor(137.7365, grad_fn=<MeanBackward0>)\n",
      "loss: tensor(137.7364, grad_fn=<MeanBackward0>)\n",
      "loss: tensor(137.7363, grad_fn=<MeanBackward0>)\n",
      "loss: tensor(137.7363, grad_fn=<MeanBackward0>)\n",
      "loss: tensor(137.7363, grad_fn=<MeanBackward0>)\n",
      "loss: tensor(137.7362, grad_fn=<MeanBackward0>)\n",
      "loss: tensor(137.7362, grad_fn=<MeanBackward0>)\n",
      "loss: tensor(137.7361, grad_fn=<MeanBackward0>)\n",
      "loss: tensor(137.7361, grad_fn=<MeanBackward0>)\n",
      "loss: tensor(137.7360, grad_fn=<MeanBackward0>)\n",
      "loss: tensor(137.7360, grad_fn=<MeanBackward0>)\n",
      "loss: tensor(137.7359, grad_fn=<MeanBackward0>)\n",
      "loss: tensor(137.7359, grad_fn=<MeanBackward0>)\n",
      "loss: tensor(137.7359, grad_fn=<MeanBackward0>)\n",
      "loss: tensor(137.7358, grad_fn=<MeanBackward0>)\n",
      "loss: tensor(137.7357, grad_fn=<MeanBackward0>)\n",
      "loss: tensor(137.7357, grad_fn=<MeanBackward0>)\n",
      "loss: tensor(137.7357, grad_fn=<MeanBackward0>)\n",
      "loss: tensor(137.7356, grad_fn=<MeanBackward0>)\n",
      "loss: tensor(137.7356, grad_fn=<MeanBackward0>)\n",
      "loss: tensor(137.7355, grad_fn=<MeanBackward0>)\n",
      "loss: tensor(137.7355, grad_fn=<MeanBackward0>)\n",
      "loss: tensor(137.7354, grad_fn=<MeanBackward0>)\n",
      "loss: tensor(137.7354, grad_fn=<MeanBackward0>)\n",
      "loss: tensor(137.7354, grad_fn=<MeanBackward0>)\n",
      "loss: tensor(137.7353, grad_fn=<MeanBackward0>)\n",
      "loss: tensor(137.7353, grad_fn=<MeanBackward0>)\n",
      "loss: tensor(137.7352, grad_fn=<MeanBackward0>)\n",
      "loss: tensor(137.7352, grad_fn=<MeanBackward0>)\n",
      "loss: tensor(137.7351, grad_fn=<MeanBackward0>)\n",
      "loss: tensor(137.7350, grad_fn=<MeanBackward0>)\n",
      "loss: tensor(137.7350, grad_fn=<MeanBackward0>)\n",
      "loss: tensor(137.7350, grad_fn=<MeanBackward0>)\n",
      "loss: tensor(137.7350, grad_fn=<MeanBackward0>)\n",
      "loss: tensor(137.7349, grad_fn=<MeanBackward0>)\n",
      "loss: tensor(137.7348, grad_fn=<MeanBackward0>)\n",
      "loss: tensor(137.7348, grad_fn=<MeanBackward0>)\n",
      "loss: tensor(137.7347, grad_fn=<MeanBackward0>)\n",
      "loss: tensor(137.7347, grad_fn=<MeanBackward0>)\n",
      "loss: tensor(137.7346, grad_fn=<MeanBackward0>)\n",
      "loss: tensor(137.7346, grad_fn=<MeanBackward0>)\n",
      "loss: tensor(137.7345, grad_fn=<MeanBackward0>)\n",
      "loss: tensor(137.7345, grad_fn=<MeanBackward0>)\n",
      "loss: tensor(137.7345, grad_fn=<MeanBackward0>)\n",
      "loss: tensor(137.7344, grad_fn=<MeanBackward0>)\n",
      "loss: tensor(137.7344, grad_fn=<MeanBackward0>)\n",
      "loss: tensor(137.7344, grad_fn=<MeanBackward0>)\n",
      "loss: tensor(137.7343, grad_fn=<MeanBackward0>)\n",
      "loss: tensor(137.7342, grad_fn=<MeanBackward0>)\n",
      "loss: tensor(137.7342, grad_fn=<MeanBackward0>)\n",
      "loss: tensor(137.7342, grad_fn=<MeanBackward0>)\n",
      "loss: tensor(137.7341, grad_fn=<MeanBackward0>)\n",
      "loss: tensor(137.7341, grad_fn=<MeanBackward0>)\n",
      "loss: tensor(137.7340, grad_fn=<MeanBackward0>)\n",
      "loss: tensor(137.7340, grad_fn=<MeanBackward0>)\n",
      "loss: tensor(137.7339, grad_fn=<MeanBackward0>)\n",
      "loss: tensor(137.7339, grad_fn=<MeanBackward0>)\n",
      "loss: tensor(137.7339, grad_fn=<MeanBackward0>)\n",
      "loss: tensor(137.7338, grad_fn=<MeanBackward0>)\n",
      "loss: tensor(137.7337, grad_fn=<MeanBackward0>)\n",
      "loss: tensor(137.7337, grad_fn=<MeanBackward0>)\n",
      "loss: tensor(137.7337, grad_fn=<MeanBackward0>)\n",
      "loss: tensor(137.7336, grad_fn=<MeanBackward0>)\n",
      "loss: tensor(137.7336, grad_fn=<MeanBackward0>)\n",
      "loss: tensor(137.7335, grad_fn=<MeanBackward0>)\n",
      "loss: tensor(137.7335, grad_fn=<MeanBackward0>)\n",
      "loss: tensor(137.7334, grad_fn=<MeanBackward0>)\n",
      "loss: tensor(137.7334, grad_fn=<MeanBackward0>)\n",
      "loss: tensor(137.7334, grad_fn=<MeanBackward0>)\n",
      "loss: tensor(137.7333, grad_fn=<MeanBackward0>)\n",
      "loss: tensor(137.7333, grad_fn=<MeanBackward0>)\n",
      "loss: tensor(137.7332, grad_fn=<MeanBackward0>)\n",
      "loss: tensor(137.7332, grad_fn=<MeanBackward0>)\n",
      "loss: tensor(137.7332, grad_fn=<MeanBackward0>)\n",
      "loss: tensor(137.7331, grad_fn=<MeanBackward0>)\n",
      "loss: tensor(137.7330, grad_fn=<MeanBackward0>)\n",
      "loss: tensor(137.7330, grad_fn=<MeanBackward0>)\n",
      "loss: tensor(137.7329, grad_fn=<MeanBackward0>)\n",
      "loss: tensor(137.7329, grad_fn=<MeanBackward0>)\n",
      "loss: tensor(137.7328, grad_fn=<MeanBackward0>)\n",
      "loss: tensor(137.7328, grad_fn=<MeanBackward0>)\n",
      "loss: tensor(137.7328, grad_fn=<MeanBackward0>)\n",
      "loss: tensor(137.7327, grad_fn=<MeanBackward0>)\n",
      "loss: tensor(137.7327, grad_fn=<MeanBackward0>)\n",
      "loss: tensor(137.7326, grad_fn=<MeanBackward0>)\n",
      "loss: tensor(137.7326, grad_fn=<MeanBackward0>)\n",
      "loss: tensor(137.7326, grad_fn=<MeanBackward0>)\n",
      "loss: tensor(137.7325, grad_fn=<MeanBackward0>)\n",
      "loss: tensor(137.7325, grad_fn=<MeanBackward0>)\n",
      "loss: tensor(137.7324, grad_fn=<MeanBackward0>)\n",
      "loss: tensor(137.7323, grad_fn=<MeanBackward0>)\n",
      "loss: tensor(137.7323, grad_fn=<MeanBackward0>)\n",
      "loss: tensor(137.7323, grad_fn=<MeanBackward0>)\n",
      "loss: tensor(137.7322, grad_fn=<MeanBackward0>)\n",
      "loss: tensor(137.7321, grad_fn=<MeanBackward0>)\n",
      "loss: tensor(137.7321, grad_fn=<MeanBackward0>)\n",
      "loss: tensor(137.7321, grad_fn=<MeanBackward0>)\n",
      "loss: tensor(137.7321, grad_fn=<MeanBackward0>)\n",
      "loss: tensor(137.7320, grad_fn=<MeanBackward0>)\n",
      "loss: tensor(137.7319, grad_fn=<MeanBackward0>)\n",
      "loss: tensor(137.7319, grad_fn=<MeanBackward0>)\n",
      "loss: tensor(137.7319, grad_fn=<MeanBackward0>)\n",
      "loss: tensor(137.7318, grad_fn=<MeanBackward0>)\n",
      "loss: tensor(137.7318, grad_fn=<MeanBackward0>)\n",
      "loss: tensor(137.7317, grad_fn=<MeanBackward0>)\n",
      "loss: tensor(137.7317, grad_fn=<MeanBackward0>)\n",
      "loss: tensor(137.7316, grad_fn=<MeanBackward0>)\n",
      "loss: tensor(137.7316, grad_fn=<MeanBackward0>)\n",
      "loss: tensor(137.7315, grad_fn=<MeanBackward0>)\n",
      "loss: tensor(137.7315, grad_fn=<MeanBackward0>)\n",
      "loss: tensor(137.7314, grad_fn=<MeanBackward0>)\n",
      "loss: tensor(137.7314, grad_fn=<MeanBackward0>)\n",
      "loss: tensor(137.7314, grad_fn=<MeanBackward0>)\n",
      "loss: tensor(137.7313, grad_fn=<MeanBackward0>)\n",
      "loss: tensor(137.7313, grad_fn=<MeanBackward0>)\n",
      "loss: tensor(137.7312, grad_fn=<MeanBackward0>)\n",
      "loss: tensor(137.7312, grad_fn=<MeanBackward0>)\n",
      "loss: tensor(137.7311, grad_fn=<MeanBackward0>)\n",
      "loss: tensor(137.7311, grad_fn=<MeanBackward0>)\n",
      "loss: tensor(137.7310, grad_fn=<MeanBackward0>)\n",
      "loss: tensor(137.7310, grad_fn=<MeanBackward0>)\n",
      "loss: tensor(137.7309, grad_fn=<MeanBackward0>)\n",
      "loss: tensor(137.7309, grad_fn=<MeanBackward0>)\n",
      "loss: tensor(137.7308, grad_fn=<MeanBackward0>)\n",
      "loss: tensor(137.7308, grad_fn=<MeanBackward0>)\n",
      "loss: tensor(137.7307, grad_fn=<MeanBackward0>)\n",
      "loss: tensor(137.7307, grad_fn=<MeanBackward0>)\n",
      "loss: tensor(137.7307, grad_fn=<MeanBackward0>)\n",
      "loss: tensor(137.7307, grad_fn=<MeanBackward0>)\n",
      "loss: tensor(137.7306, grad_fn=<MeanBackward0>)\n",
      "loss: tensor(137.7305, grad_fn=<MeanBackward0>)\n",
      "loss: tensor(137.7305, grad_fn=<MeanBackward0>)\n",
      "loss: tensor(137.7305, grad_fn=<MeanBackward0>)\n",
      "loss: tensor(137.7304, grad_fn=<MeanBackward0>)\n",
      "loss: tensor(137.7304, grad_fn=<MeanBackward0>)\n",
      "loss: tensor(137.7303, grad_fn=<MeanBackward0>)\n",
      "loss: tensor(137.7303, grad_fn=<MeanBackward0>)\n",
      "loss: tensor(137.7303, grad_fn=<MeanBackward0>)\n"
     ]
    }
   ],
   "source": [
    "a = torch.rand(1, requires_grad = True) #创建a变量，并随机赋值初始化\n",
    "b = torch.rand(1, requires_grad = True) #创建b变量，并随机赋值初始化\n",
    "print('Initial parameters:', [a, b])\n",
    "learning_rate = 0.0001 #设置学习率\n",
    "for i in range(1000):\n",
    "    predictions = a.expand_as(x_train) * x_train + b.expand_as(x_train)  #计算在当前a、b条件下的模型预测数值\n",
    "    loss = torch.mean((predictions - y_train) ** 2) #通过与标签数据y比较，计算误差\n",
    "    print('loss:', loss)\n",
    "    loss.backward() #对损失函数进行梯度反传\n",
    "    a.data.add_(- learning_rate * a.grad.data)  #利用上一步计算中得到的a的梯度信息更新a中的data数值\n",
    "    b.data.add_(- learning_rate * b.grad.data)  #利用上一步计算中得到的b的梯度信息更新b中的data数值\n",
    "    ### 增加了这部分代码，清空存储在变量a，b中的梯度信息，以免在backward的过程中会反复不停地累加\n",
    "    a.grad.data.zero_() #清空a的梯度数值\n",
    "    b.grad.data.zero_() #清空b的梯度数值"
   ]
  },
  {
   "cell_type": "code",
   "execution_count": 30,
   "metadata": {},
   "outputs": [
    {
     "output_type": "display_data",
     "data": {
      "text/plain": "<Figure size 720x504 with 1 Axes>",
      "image/svg+xml": "<?xml version=\"1.0\" encoding=\"utf-8\" standalone=\"no\"?>\n<!DOCTYPE svg PUBLIC \"-//W3C//DTD SVG 1.1//EN\"\n  \"http://www.w3.org/Graphics/SVG/1.1/DTD/svg11.dtd\">\n<!-- Created with matplotlib (https://matplotlib.org/) -->\n<svg height=\"425.27625pt\" version=\"1.1\" viewBox=\"0 0 614.182812 425.27625\" width=\"614.182812pt\" xmlns=\"http://www.w3.org/2000/svg\" xmlns:xlink=\"http://www.w3.org/1999/xlink\">\n <metadata>\n  <rdf:RDF xmlns:cc=\"http://creativecommons.org/ns#\" xmlns:dc=\"http://purl.org/dc/elements/1.1/\" xmlns:rdf=\"http://www.w3.org/1999/02/22-rdf-syntax-ns#\">\n   <cc:Work>\n    <dc:type rdf:resource=\"http://purl.org/dc/dcmitype/StillImage\"/>\n    <dc:date>2020-11-24T23:26:29.839383</dc:date>\n    <dc:format>image/svg+xml</dc:format>\n    <dc:creator>\n     <cc:Agent>\n      <dc:title>Matplotlib v3.3.0, https://matplotlib.org/</dc:title>\n     </cc:Agent>\n    </dc:creator>\n   </cc:Work>\n  </rdf:RDF>\n </metadata>\n <defs>\n  <style type=\"text/css\">*{stroke-linecap:butt;stroke-linejoin:round;}</style>\n </defs>\n <g id=\"figure_1\">\n  <g id=\"patch_1\">\n   <path d=\"M 0 425.27625 \nL 614.182812 425.27625 \nL 614.182812 0 \nL 0 0 \nz\n\" style=\"fill:none;\"/>\n  </g>\n  <g id=\"axes_1\">\n   <g id=\"patch_2\">\n    <path d=\"M 48.982812 387.72 \nL 606.982813 387.72 \nL 606.982813 7.2 \nL 48.982812 7.2 \nz\n\" style=\"fill:#ffffff;\"/>\n   </g>\n   <g id=\"matplotlib.axis_1\">\n    <g id=\"xtick_1\">\n     <g id=\"line2d_1\">\n      <defs>\n       <path d=\"M 0 0 \nL 0 3.5 \n\" id=\"md9c7280502\" style=\"stroke:#000000;stroke-width:0.8;\"/>\n      </defs>\n      <g>\n       <use style=\"stroke:#000000;stroke-width:0.8;\" x=\"74.346449\" xlink:href=\"#md9c7280502\" y=\"387.72\"/>\n      </g>\n     </g>\n     <g id=\"text_1\">\n      <!-- 0 -->\n      <g transform=\"translate(71.165199 402.318437)scale(0.1 -0.1)\">\n       <defs>\n        <path d=\"M 31.78125 66.40625 \nQ 24.171875 66.40625 20.328125 58.90625 \nQ 16.5 51.421875 16.5 36.375 \nQ 16.5 21.390625 20.328125 13.890625 \nQ 24.171875 6.390625 31.78125 6.390625 \nQ 39.453125 6.390625 43.28125 13.890625 \nQ 47.125 21.390625 47.125 36.375 \nQ 47.125 51.421875 43.28125 58.90625 \nQ 39.453125 66.40625 31.78125 66.40625 \nz\nM 31.78125 74.21875 \nQ 44.046875 74.21875 50.515625 64.515625 \nQ 56.984375 54.828125 56.984375 36.375 \nQ 56.984375 17.96875 50.515625 8.265625 \nQ 44.046875 -1.421875 31.78125 -1.421875 \nQ 19.53125 -1.421875 13.0625 8.265625 \nQ 6.59375 17.96875 6.59375 36.375 \nQ 6.59375 54.828125 13.0625 64.515625 \nQ 19.53125 74.21875 31.78125 74.21875 \nz\n\" id=\"DejaVuSans-48\"/>\n       </defs>\n       <use xlink:href=\"#DejaVuSans-48\"/>\n      </g>\n     </g>\n    </g>\n    <g id=\"xtick_2\">\n     <g id=\"line2d_2\">\n      <g>\n       <use style=\"stroke:#000000;stroke-width:0.8;\" x=\"187.200385\" xlink:href=\"#md9c7280502\" y=\"387.72\"/>\n      </g>\n     </g>\n     <g id=\"text_2\">\n      <!-- 20 -->\n      <g transform=\"translate(180.837885 402.318437)scale(0.1 -0.1)\">\n       <defs>\n        <path d=\"M 19.1875 8.296875 \nL 53.609375 8.296875 \nL 53.609375 0 \nL 7.328125 0 \nL 7.328125 8.296875 \nQ 12.9375 14.109375 22.625 23.890625 \nQ 32.328125 33.6875 34.8125 36.53125 \nQ 39.546875 41.84375 41.421875 45.53125 \nQ 43.3125 49.21875 43.3125 52.78125 \nQ 43.3125 58.59375 39.234375 62.25 \nQ 35.15625 65.921875 28.609375 65.921875 \nQ 23.96875 65.921875 18.8125 64.3125 \nQ 13.671875 62.703125 7.8125 59.421875 \nL 7.8125 69.390625 \nQ 13.765625 71.78125 18.9375 73 \nQ 24.125 74.21875 28.421875 74.21875 \nQ 39.75 74.21875 46.484375 68.546875 \nQ 53.21875 62.890625 53.21875 53.421875 \nQ 53.21875 48.921875 51.53125 44.890625 \nQ 49.859375 40.875 45.40625 35.40625 \nQ 44.1875 33.984375 37.640625 27.21875 \nQ 31.109375 20.453125 19.1875 8.296875 \nz\n\" id=\"DejaVuSans-50\"/>\n       </defs>\n       <use xlink:href=\"#DejaVuSans-50\"/>\n       <use x=\"63.623047\" xlink:href=\"#DejaVuSans-48\"/>\n      </g>\n     </g>\n    </g>\n    <g id=\"xtick_3\">\n     <g id=\"line2d_3\">\n      <g>\n       <use style=\"stroke:#000000;stroke-width:0.8;\" x=\"300.054322\" xlink:href=\"#md9c7280502\" y=\"387.72\"/>\n      </g>\n     </g>\n     <g id=\"text_3\">\n      <!-- 40 -->\n      <g transform=\"translate(293.691822 402.318437)scale(0.1 -0.1)\">\n       <defs>\n        <path d=\"M 37.796875 64.3125 \nL 12.890625 25.390625 \nL 37.796875 25.390625 \nz\nM 35.203125 72.90625 \nL 47.609375 72.90625 \nL 47.609375 25.390625 \nL 58.015625 25.390625 \nL 58.015625 17.1875 \nL 47.609375 17.1875 \nL 47.609375 0 \nL 37.796875 0 \nL 37.796875 17.1875 \nL 4.890625 17.1875 \nL 4.890625 26.703125 \nz\n\" id=\"DejaVuSans-52\"/>\n       </defs>\n       <use xlink:href=\"#DejaVuSans-52\"/>\n       <use x=\"63.623047\" xlink:href=\"#DejaVuSans-48\"/>\n      </g>\n     </g>\n    </g>\n    <g id=\"xtick_4\">\n     <g id=\"line2d_4\">\n      <g>\n       <use style=\"stroke:#000000;stroke-width:0.8;\" x=\"412.908258\" xlink:href=\"#md9c7280502\" y=\"387.72\"/>\n      </g>\n     </g>\n     <g id=\"text_4\">\n      <!-- 60 -->\n      <g transform=\"translate(406.545758 402.318437)scale(0.1 -0.1)\">\n       <defs>\n        <path d=\"M 33.015625 40.375 \nQ 26.375 40.375 22.484375 35.828125 \nQ 18.609375 31.296875 18.609375 23.390625 \nQ 18.609375 15.53125 22.484375 10.953125 \nQ 26.375 6.390625 33.015625 6.390625 \nQ 39.65625 6.390625 43.53125 10.953125 \nQ 47.40625 15.53125 47.40625 23.390625 \nQ 47.40625 31.296875 43.53125 35.828125 \nQ 39.65625 40.375 33.015625 40.375 \nz\nM 52.59375 71.296875 \nL 52.59375 62.3125 \nQ 48.875 64.0625 45.09375 64.984375 \nQ 41.3125 65.921875 37.59375 65.921875 \nQ 27.828125 65.921875 22.671875 59.328125 \nQ 17.53125 52.734375 16.796875 39.40625 \nQ 19.671875 43.65625 24.015625 45.921875 \nQ 28.375 48.1875 33.59375 48.1875 \nQ 44.578125 48.1875 50.953125 41.515625 \nQ 57.328125 34.859375 57.328125 23.390625 \nQ 57.328125 12.15625 50.6875 5.359375 \nQ 44.046875 -1.421875 33.015625 -1.421875 \nQ 20.359375 -1.421875 13.671875 8.265625 \nQ 6.984375 17.96875 6.984375 36.375 \nQ 6.984375 53.65625 15.1875 63.9375 \nQ 23.390625 74.21875 37.203125 74.21875 \nQ 40.921875 74.21875 44.703125 73.484375 \nQ 48.484375 72.75 52.59375 71.296875 \nz\n\" id=\"DejaVuSans-54\"/>\n       </defs>\n       <use xlink:href=\"#DejaVuSans-54\"/>\n       <use x=\"63.623047\" xlink:href=\"#DejaVuSans-48\"/>\n      </g>\n     </g>\n    </g>\n    <g id=\"xtick_5\">\n     <g id=\"line2d_5\">\n      <g>\n       <use style=\"stroke:#000000;stroke-width:0.8;\" x=\"525.762195\" xlink:href=\"#md9c7280502\" y=\"387.72\"/>\n      </g>\n     </g>\n     <g id=\"text_5\">\n      <!-- 80 -->\n      <g transform=\"translate(519.399695 402.318437)scale(0.1 -0.1)\">\n       <defs>\n        <path d=\"M 31.78125 34.625 \nQ 24.75 34.625 20.71875 30.859375 \nQ 16.703125 27.09375 16.703125 20.515625 \nQ 16.703125 13.921875 20.71875 10.15625 \nQ 24.75 6.390625 31.78125 6.390625 \nQ 38.8125 6.390625 42.859375 10.171875 \nQ 46.921875 13.96875 46.921875 20.515625 \nQ 46.921875 27.09375 42.890625 30.859375 \nQ 38.875 34.625 31.78125 34.625 \nz\nM 21.921875 38.8125 \nQ 15.578125 40.375 12.03125 44.71875 \nQ 8.5 49.078125 8.5 55.328125 \nQ 8.5 64.0625 14.71875 69.140625 \nQ 20.953125 74.21875 31.78125 74.21875 \nQ 42.671875 74.21875 48.875 69.140625 \nQ 55.078125 64.0625 55.078125 55.328125 \nQ 55.078125 49.078125 51.53125 44.71875 \nQ 48 40.375 41.703125 38.8125 \nQ 48.828125 37.15625 52.796875 32.3125 \nQ 56.78125 27.484375 56.78125 20.515625 \nQ 56.78125 9.90625 50.3125 4.234375 \nQ 43.84375 -1.421875 31.78125 -1.421875 \nQ 19.734375 -1.421875 13.25 4.234375 \nQ 6.78125 9.90625 6.78125 20.515625 \nQ 6.78125 27.484375 10.78125 32.3125 \nQ 14.796875 37.15625 21.921875 38.8125 \nz\nM 18.3125 54.390625 \nQ 18.3125 48.734375 21.84375 45.5625 \nQ 25.390625 42.390625 31.78125 42.390625 \nQ 38.140625 42.390625 41.71875 45.5625 \nQ 45.3125 48.734375 45.3125 54.390625 \nQ 45.3125 60.0625 41.71875 63.234375 \nQ 38.140625 66.40625 31.78125 66.40625 \nQ 25.390625 66.40625 21.84375 63.234375 \nQ 18.3125 60.0625 18.3125 54.390625 \nz\n\" id=\"DejaVuSans-56\"/>\n       </defs>\n       <use xlink:href=\"#DejaVuSans-56\"/>\n       <use x=\"63.623047\" xlink:href=\"#DejaVuSans-48\"/>\n      </g>\n     </g>\n    </g>\n    <g id=\"text_6\">\n     <!-- X -->\n     <g transform=\"translate(324.557813 415.996562)scale(0.1 -0.1)\">\n      <defs>\n       <path d=\"M 6.296875 72.90625 \nL 16.890625 72.90625 \nL 35.015625 45.796875 \nL 53.21875 72.90625 \nL 63.8125 72.90625 \nL 40.375 37.890625 \nL 65.375 0 \nL 54.78125 0 \nL 34.28125 31 \nL 13.625 0 \nL 2.984375 0 \nL 29 38.921875 \nz\n\" id=\"DejaVuSans-88\"/>\n      </defs>\n      <use xlink:href=\"#DejaVuSans-88\"/>\n     </g>\n    </g>\n   </g>\n   <g id=\"matplotlib.axis_2\">\n    <g id=\"ytick_1\">\n     <g id=\"line2d_6\">\n      <defs>\n       <path d=\"M 0 0 \nL -3.5 0 \n\" id=\"m2d4c13afc1\" style=\"stroke:#000000;stroke-width:0.8;\"/>\n      </defs>\n      <g>\n       <use style=\"stroke:#000000;stroke-width:0.8;\" x=\"48.982812\" xlink:href=\"#m2d4c13afc1\" y=\"371.955701\"/>\n      </g>\n     </g>\n     <g id=\"text_7\">\n      <!-- −20 -->\n      <g transform=\"translate(20.878125 375.75492)scale(0.1 -0.1)\">\n       <defs>\n        <path d=\"M 10.59375 35.5 \nL 73.1875 35.5 \nL 73.1875 27.203125 \nL 10.59375 27.203125 \nz\n\" id=\"DejaVuSans-8722\"/>\n       </defs>\n       <use xlink:href=\"#DejaVuSans-8722\"/>\n       <use x=\"83.789062\" xlink:href=\"#DejaVuSans-50\"/>\n       <use x=\"147.412109\" xlink:href=\"#DejaVuSans-48\"/>\n      </g>\n     </g>\n    </g>\n    <g id=\"ytick_2\">\n     <g id=\"line2d_7\">\n      <g>\n       <use style=\"stroke:#000000;stroke-width:0.8;\" x=\"48.982812\" xlink:href=\"#m2d4c13afc1\" y=\"316.060217\"/>\n      </g>\n     </g>\n     <g id=\"text_8\">\n      <!-- 0 -->\n      <g transform=\"translate(35.620312 319.859436)scale(0.1 -0.1)\">\n       <use xlink:href=\"#DejaVuSans-48\"/>\n      </g>\n     </g>\n    </g>\n    <g id=\"ytick_3\">\n     <g id=\"line2d_8\">\n      <g>\n       <use style=\"stroke:#000000;stroke-width:0.8;\" x=\"48.982812\" xlink:href=\"#m2d4c13afc1\" y=\"260.164732\"/>\n      </g>\n     </g>\n     <g id=\"text_9\">\n      <!-- 20 -->\n      <g transform=\"translate(29.257812 263.963951)scale(0.1 -0.1)\">\n       <use xlink:href=\"#DejaVuSans-50\"/>\n       <use x=\"63.623047\" xlink:href=\"#DejaVuSans-48\"/>\n      </g>\n     </g>\n    </g>\n    <g id=\"ytick_4\">\n     <g id=\"line2d_9\">\n      <g>\n       <use style=\"stroke:#000000;stroke-width:0.8;\" x=\"48.982812\" xlink:href=\"#m2d4c13afc1\" y=\"204.269248\"/>\n      </g>\n     </g>\n     <g id=\"text_10\">\n      <!-- 40 -->\n      <g transform=\"translate(29.257812 208.068466)scale(0.1 -0.1)\">\n       <use xlink:href=\"#DejaVuSans-52\"/>\n       <use x=\"63.623047\" xlink:href=\"#DejaVuSans-48\"/>\n      </g>\n     </g>\n    </g>\n    <g id=\"ytick_5\">\n     <g id=\"line2d_10\">\n      <g>\n       <use style=\"stroke:#000000;stroke-width:0.8;\" x=\"48.982812\" xlink:href=\"#m2d4c13afc1\" y=\"148.373763\"/>\n      </g>\n     </g>\n     <g id=\"text_11\">\n      <!-- 60 -->\n      <g transform=\"translate(29.257812 152.172982)scale(0.1 -0.1)\">\n       <use xlink:href=\"#DejaVuSans-54\"/>\n       <use x=\"63.623047\" xlink:href=\"#DejaVuSans-48\"/>\n      </g>\n     </g>\n    </g>\n    <g id=\"ytick_6\">\n     <g id=\"line2d_11\">\n      <g>\n       <use style=\"stroke:#000000;stroke-width:0.8;\" x=\"48.982812\" xlink:href=\"#m2d4c13afc1\" y=\"92.478279\"/>\n      </g>\n     </g>\n     <g id=\"text_12\">\n      <!-- 80 -->\n      <g transform=\"translate(29.257812 96.277497)scale(0.1 -0.1)\">\n       <use xlink:href=\"#DejaVuSans-56\"/>\n       <use x=\"63.623047\" xlink:href=\"#DejaVuSans-48\"/>\n      </g>\n     </g>\n    </g>\n    <g id=\"ytick_7\">\n     <g id=\"line2d_12\">\n      <g>\n       <use style=\"stroke:#000000;stroke-width:0.8;\" x=\"48.982812\" xlink:href=\"#m2d4c13afc1\" y=\"36.582794\"/>\n      </g>\n     </g>\n     <g id=\"text_13\">\n      <!-- 100 -->\n      <g transform=\"translate(22.895312 40.382013)scale(0.1 -0.1)\">\n       <defs>\n        <path d=\"M 12.40625 8.296875 \nL 28.515625 8.296875 \nL 28.515625 63.921875 \nL 10.984375 60.40625 \nL 10.984375 69.390625 \nL 28.421875 72.90625 \nL 38.28125 72.90625 \nL 38.28125 8.296875 \nL 54.390625 8.296875 \nL 54.390625 0 \nL 12.40625 0 \nz\n\" id=\"DejaVuSans-49\"/>\n       </defs>\n       <use xlink:href=\"#DejaVuSans-49\"/>\n       <use x=\"63.623047\" xlink:href=\"#DejaVuSans-48\"/>\n       <use x=\"127.246094\" xlink:href=\"#DejaVuSans-48\"/>\n      </g>\n     </g>\n    </g>\n    <g id=\"text_14\">\n     <!-- Y -->\n     <g transform=\"translate(14.798437 200.513906)rotate(-90)scale(0.1 -0.1)\">\n      <defs>\n       <path d=\"M -0.203125 72.90625 \nL 10.40625 72.90625 \nL 30.609375 42.921875 \nL 50.6875 72.90625 \nL 61.28125 72.90625 \nL 35.5 34.71875 \nL 35.5 0 \nL 25.59375 0 \nL 25.59375 34.71875 \nz\n\" id=\"DejaVuSans-89\"/>\n      </defs>\n      <use xlink:href=\"#DejaVuSans-89\"/>\n     </g>\n    </g>\n   </g>\n   <g id=\"line2d_13\">\n    <defs>\n     <path d=\"M 0 3 \nC 0.795609 3 1.55874 2.683901 2.12132 2.12132 \nC 2.683901 1.55874 3 0.795609 3 0 \nC 3 -0.795609 2.683901 -1.55874 2.12132 -2.12132 \nC 1.55874 -2.683901 0.795609 -3 0 -3 \nC -0.795609 -3 -1.55874 -2.683901 -2.12132 -2.12132 \nC -2.683901 -1.55874 -3 -0.795609 -3 0 \nC -3 0.795609 -2.683901 1.55874 -2.12132 2.12132 \nC -1.55874 2.683901 -0.795609 3 0 3 \nz\n\" id=\"m2288a3419b\" style=\"stroke:#1f77b4;\"/>\n    </defs>\n    <g clip-path=\"url(#pf0979270a8)\">\n     <use style=\"fill:#1f77b4;stroke:#1f77b4;\" x=\"74.346449\" xlink:href=\"#m2288a3419b\" y=\"297.331701\"/>\n     <use style=\"fill:#1f77b4;stroke:#1f77b4;\" x=\"80.046142\" xlink:href=\"#m2288a3419b\" y=\"323.921346\"/>\n     <use style=\"fill:#1f77b4;stroke:#1f77b4;\" x=\"85.745836\" xlink:href=\"#m2288a3419b\" y=\"370.423636\"/>\n     <use style=\"fill:#1f77b4;stroke:#1f77b4;\" x=\"91.44553\" xlink:href=\"#m2288a3419b\" y=\"309.740098\"/>\n     <use style=\"fill:#1f77b4;stroke:#1f77b4;\" x=\"97.145223\" xlink:href=\"#m2288a3419b\" y=\"282.362757\"/>\n     <use style=\"fill:#1f77b4;stroke:#1f77b4;\" x=\"102.844918\" xlink:href=\"#m2288a3419b\" y=\"326.893934\"/>\n     <use style=\"fill:#1f77b4;stroke:#1f77b4;\" x=\"108.544611\" xlink:href=\"#m2288a3419b\" y=\"209.63781\"/>\n     <use style=\"fill:#1f77b4;stroke:#1f77b4;\" x=\"114.244304\" xlink:href=\"#m2288a3419b\" y=\"296.424965\"/>\n     <use style=\"fill:#1f77b4;stroke:#1f77b4;\" x=\"119.943997\" xlink:href=\"#m2288a3419b\" y=\"263.240664\"/>\n     <use style=\"fill:#1f77b4;stroke:#1f77b4;\" x=\"125.643692\" xlink:href=\"#m2288a3419b\" y=\"304.25781\"/>\n     <use style=\"fill:#1f77b4;stroke:#1f77b4;\" x=\"131.343388\" xlink:href=\"#m2288a3419b\" y=\"232.954842\"/>\n     <use style=\"fill:#1f77b4;stroke:#1f77b4;\" x=\"137.043078\" xlink:href=\"#m2288a3419b\" y=\"216.659267\"/>\n     <use style=\"fill:#1f77b4;stroke:#1f77b4;\" x=\"142.742773\" xlink:href=\"#m2288a3419b\" y=\"239.979465\"/>\n     <use style=\"fill:#1f77b4;stroke:#1f77b4;\" x=\"148.442469\" xlink:href=\"#m2288a3419b\" y=\"249.984506\"/>\n     <use style=\"fill:#1f77b4;stroke:#1f77b4;\" x=\"154.142159\" xlink:href=\"#m2288a3419b\" y=\"275.224339\"/>\n     <use style=\"fill:#1f77b4;stroke:#1f77b4;\" x=\"159.841854\" xlink:href=\"#m2288a3419b\" y=\"267.511665\"/>\n     <use style=\"fill:#1f77b4;stroke:#1f77b4;\" x=\"165.541545\" xlink:href=\"#m2288a3419b\" y=\"272.786505\"/>\n     <use style=\"fill:#1f77b4;stroke:#1f77b4;\" x=\"171.24124\" xlink:href=\"#m2288a3419b\" y=\"281.125901\"/>\n     <use style=\"fill:#1f77b4;stroke:#1f77b4;\" x=\"176.940936\" xlink:href=\"#m2288a3419b\" y=\"282.833999\"/>\n     <use style=\"fill:#1f77b4;stroke:#1f77b4;\" x=\"182.640631\" xlink:href=\"#m2288a3419b\" y=\"210.275223\"/>\n     <use style=\"fill:#1f77b4;stroke:#1f77b4;\" x=\"188.340327\" xlink:href=\"#m2288a3419b\" y=\"318.801424\"/>\n     <use style=\"fill:#1f77b4;stroke:#1f77b4;\" x=\"194.040022\" xlink:href=\"#m2288a3419b\" y=\"249.978184\"/>\n     <use style=\"fill:#1f77b4;stroke:#1f77b4;\" x=\"199.739707\" xlink:href=\"#m2288a3419b\" y=\"265.317224\"/>\n     <use style=\"fill:#1f77b4;stroke:#1f77b4;\" x=\"205.439402\" xlink:href=\"#m2288a3419b\" y=\"230.890841\"/>\n     <use style=\"fill:#1f77b4;stroke:#1f77b4;\" x=\"211.139098\" xlink:href=\"#m2288a3419b\" y=\"297.412526\"/>\n     <use style=\"fill:#1f77b4;stroke:#1f77b4;\" x=\"216.838793\" xlink:href=\"#m2288a3419b\" y=\"275.926484\"/>\n     <use style=\"fill:#1f77b4;stroke:#1f77b4;\" x=\"222.538489\" xlink:href=\"#m2288a3419b\" y=\"276.4612\"/>\n     <use style=\"fill:#1f77b4;stroke:#1f77b4;\" x=\"228.238184\" xlink:href=\"#m2288a3419b\" y=\"233.531742\"/>\n     <use style=\"fill:#1f77b4;stroke:#1f77b4;\" x=\"233.937869\" xlink:href=\"#m2288a3419b\" y=\"221.880406\"/>\n     <use style=\"fill:#1f77b4;stroke:#1f77b4;\" x=\"239.637565\" xlink:href=\"#m2288a3419b\" y=\"255.537145\"/>\n     <use style=\"fill:#1f77b4;stroke:#1f77b4;\" x=\"245.33726\" xlink:href=\"#m2288a3419b\" y=\"240.89302\"/>\n     <use style=\"fill:#1f77b4;stroke:#1f77b4;\" x=\"251.036956\" xlink:href=\"#m2288a3419b\" y=\"219.434126\"/>\n     <use style=\"fill:#1f77b4;stroke:#1f77b4;\" x=\"256.73664\" xlink:href=\"#m2288a3419b\" y=\"247.895014\"/>\n     <use style=\"fill:#1f77b4;stroke:#1f77b4;\" x=\"262.436336\" xlink:href=\"#m2288a3419b\" y=\"237.940689\"/>\n     <use style=\"fill:#1f77b4;stroke:#1f77b4;\" x=\"268.136031\" xlink:href=\"#m2288a3419b\" y=\"198.846675\"/>\n     <use style=\"fill:#1f77b4;stroke:#1f77b4;\" x=\"273.835727\" xlink:href=\"#m2288a3419b\" y=\"201.740492\"/>\n     <use style=\"fill:#1f77b4;stroke:#1f77b4;\" x=\"279.535422\" xlink:href=\"#m2288a3419b\" y=\"249.605553\"/>\n     <use style=\"fill:#1f77b4;stroke:#1f77b4;\" x=\"285.235118\" xlink:href=\"#m2288a3419b\" y=\"175.67921\"/>\n     <use style=\"fill:#1f77b4;stroke:#1f77b4;\" x=\"290.934813\" xlink:href=\"#m2288a3419b\" y=\"188.242282\"/>\n     <use style=\"fill:#1f77b4;stroke:#1f77b4;\" x=\"296.634509\" xlink:href=\"#m2288a3419b\" y=\"127.072096\"/>\n     <use style=\"fill:#1f77b4;stroke:#1f77b4;\" x=\"302.334204\" xlink:href=\"#m2288a3419b\" y=\"191.649778\"/>\n     <use style=\"fill:#1f77b4;stroke:#1f77b4;\" x=\"308.0339\" xlink:href=\"#m2288a3419b\" y=\"224.316878\"/>\n     <use style=\"fill:#1f77b4;stroke:#1f77b4;\" x=\"313.733595\" xlink:href=\"#m2288a3419b\" y=\"255.20394\"/>\n     <use style=\"fill:#1f77b4;stroke:#1f77b4;\" x=\"319.433291\" xlink:href=\"#m2288a3419b\" y=\"138.355449\"/>\n     <use style=\"fill:#1f77b4;stroke:#1f77b4;\" x=\"325.132965\" xlink:href=\"#m2288a3419b\" y=\"189.95926\"/>\n     <use style=\"fill:#1f77b4;stroke:#1f77b4;\" x=\"330.83266\" xlink:href=\"#m2288a3419b\" y=\"186.947456\"/>\n     <use style=\"fill:#1f77b4;stroke:#1f77b4;\" x=\"336.532356\" xlink:href=\"#m2288a3419b\" y=\"138.812474\"/>\n     <use style=\"fill:#1f77b4;stroke:#1f77b4;\" x=\"342.232051\" xlink:href=\"#m2288a3419b\" y=\"182.052848\"/>\n     <use style=\"fill:#1f77b4;stroke:#1f77b4;\" x=\"347.931747\" xlink:href=\"#m2288a3419b\" y=\"183.03755\"/>\n     <use style=\"fill:#1f77b4;stroke:#1f77b4;\" x=\"353.631442\" xlink:href=\"#m2288a3419b\" y=\"120.654107\"/>\n     <use style=\"fill:#1f77b4;stroke:#1f77b4;\" x=\"359.331138\" xlink:href=\"#m2288a3419b\" y=\"180.238341\"/>\n     <use style=\"fill:#1f77b4;stroke:#1f77b4;\" x=\"365.030833\" xlink:href=\"#m2288a3419b\" y=\"149.655871\"/>\n     <use style=\"fill:#1f77b4;stroke:#1f77b4;\" x=\"370.730529\" xlink:href=\"#m2288a3419b\" y=\"174.231459\"/>\n     <use style=\"fill:#1f77b4;stroke:#1f77b4;\" x=\"376.430224\" xlink:href=\"#m2288a3419b\" y=\"150.352229\"/>\n     <use style=\"fill:#1f77b4;stroke:#1f77b4;\" x=\"382.12992\" xlink:href=\"#m2288a3419b\" y=\"207.957688\"/>\n     <use style=\"fill:#1f77b4;stroke:#1f77b4;\" x=\"387.829615\" xlink:href=\"#m2288a3419b\" y=\"114.477914\"/>\n     <use style=\"fill:#1f77b4;stroke:#1f77b4;\" x=\"393.529289\" xlink:href=\"#m2288a3419b\" y=\"168.898675\"/>\n     <use style=\"fill:#1f77b4;stroke:#1f77b4;\" x=\"399.228985\" xlink:href=\"#m2288a3419b\" y=\"217.315294\"/>\n     <use style=\"fill:#1f77b4;stroke:#1f77b4;\" x=\"404.92868\" xlink:href=\"#m2288a3419b\" y=\"158.949616\"/>\n     <use style=\"fill:#1f77b4;stroke:#1f77b4;\" x=\"410.628376\" xlink:href=\"#m2288a3419b\" y=\"87.116603\"/>\n     <use style=\"fill:#1f77b4;stroke:#1f77b4;\" x=\"416.328071\" xlink:href=\"#m2288a3419b\" y=\"171.306277\"/>\n     <use style=\"fill:#1f77b4;stroke:#1f77b4;\" x=\"422.027767\" xlink:href=\"#m2288a3419b\" y=\"163.973683\"/>\n     <use style=\"fill:#1f77b4;stroke:#1f77b4;\" x=\"427.727462\" xlink:href=\"#m2288a3419b\" y=\"140.137312\"/>\n     <use style=\"fill:#1f77b4;stroke:#1f77b4;\" x=\"433.427158\" xlink:href=\"#m2288a3419b\" y=\"142.492993\"/>\n     <use style=\"fill:#1f77b4;stroke:#1f77b4;\" x=\"439.126832\" xlink:href=\"#m2288a3419b\" y=\"110.750795\"/>\n     <use style=\"fill:#1f77b4;stroke:#1f77b4;\" x=\"444.826527\" xlink:href=\"#m2288a3419b\" y=\"152.431742\"/>\n     <use style=\"fill:#1f77b4;stroke:#1f77b4;\" x=\"450.526223\" xlink:href=\"#m2288a3419b\" y=\"172.475727\"/>\n     <use style=\"fill:#1f77b4;stroke:#1f77b4;\" x=\"456.225918\" xlink:href=\"#m2288a3419b\" y=\"92.919525\"/>\n     <use style=\"fill:#1f77b4;stroke:#1f77b4;\" x=\"461.925614\" xlink:href=\"#m2288a3419b\" y=\"160.267364\"/>\n     <use style=\"fill:#1f77b4;stroke:#1f77b4;\" x=\"467.625309\" xlink:href=\"#m2288a3419b\" y=\"126.284893\"/>\n     <use style=\"fill:#1f77b4;stroke:#1f77b4;\" x=\"473.325005\" xlink:href=\"#m2288a3419b\" y=\"76.861237\"/>\n     <use style=\"fill:#1f77b4;stroke:#1f77b4;\" x=\"479.0247\" xlink:href=\"#m2288a3419b\" y=\"94.002001\"/>\n     <use style=\"fill:#1f77b4;stroke:#1f77b4;\" x=\"484.724396\" xlink:href=\"#m2288a3419b\" y=\"74.465277\"/>\n     <use style=\"fill:#1f77b4;stroke:#1f77b4;\" x=\"490.424091\" xlink:href=\"#m2288a3419b\" y=\"116.862381\"/>\n     <use style=\"fill:#1f77b4;stroke:#1f77b4;\" x=\"496.123787\" xlink:href=\"#m2288a3419b\" y=\"94.951425\"/>\n     <use style=\"fill:#1f77b4;stroke:#1f77b4;\" x=\"501.823482\" xlink:href=\"#m2288a3419b\" y=\"136.373689\"/>\n     <use style=\"fill:#1f77b4;stroke:#1f77b4;\" x=\"507.523178\" xlink:href=\"#m2288a3419b\" y=\"164.129017\"/>\n     <use style=\"fill:#1f77b4;stroke:#1f77b4;\" x=\"513.222873\" xlink:href=\"#m2288a3419b\" y=\"86.447249\"/>\n     <use style=\"fill:#1f77b4;stroke:#1f77b4;\" x=\"518.922569\" xlink:href=\"#m2288a3419b\" y=\"103.568866\"/>\n     <use style=\"fill:#1f77b4;stroke:#1f77b4;\" x=\"524.622264\" xlink:href=\"#m2288a3419b\" y=\"71.154884\"/>\n     <use style=\"fill:#1f77b4;stroke:#1f77b4;\" x=\"530.32196\" xlink:href=\"#m2288a3419b\" y=\"51.887697\"/>\n     <use style=\"fill:#1f77b4;stroke:#1f77b4;\" x=\"536.021655\" xlink:href=\"#m2288a3419b\" y=\"51.119428\"/>\n     <use style=\"fill:#1f77b4;stroke:#1f77b4;\" x=\"541.721351\" xlink:href=\"#m2288a3419b\" y=\"100.65217\"/>\n     <use style=\"fill:#1f77b4;stroke:#1f77b4;\" x=\"547.421046\" xlink:href=\"#m2288a3419b\" y=\"34.798746\"/>\n     <use style=\"fill:#1f77b4;stroke:#1f77b4;\" x=\"553.120742\" xlink:href=\"#m2288a3419b\" y=\"104.591064\"/>\n     <use style=\"fill:#1f77b4;stroke:#1f77b4;\" x=\"558.820437\" xlink:href=\"#m2288a3419b\" y=\"49.741466\"/>\n     <use style=\"fill:#1f77b4;stroke:#1f77b4;\" x=\"564.520133\" xlink:href=\"#m2288a3419b\" y=\"24.496364\"/>\n     <use style=\"fill:#1f77b4;stroke:#1f77b4;\" x=\"570.219785\" xlink:href=\"#m2288a3419b\" y=\"58.303468\"/>\n     <use style=\"fill:#1f77b4;stroke:#1f77b4;\" x=\"575.919481\" xlink:href=\"#m2288a3419b\" y=\"55.370098\"/>\n     <use style=\"fill:#1f77b4;stroke:#1f77b4;\" x=\"581.619176\" xlink:href=\"#m2288a3419b\" y=\"70.261367\"/>\n    </g>\n   </g>\n   <g id=\"line2d_14\">\n    <path clip-path=\"url(#pf0979270a8)\" d=\"M 74.346449 315.122722 \nL 80.046142 312.232143 \nL 85.745836 309.341563 \nL 91.44553 306.450983 \nL 97.145223 303.560406 \nL 102.844918 300.669824 \nL 108.544611 297.779246 \nL 114.244304 294.888667 \nL 119.943997 291.998089 \nL 125.643692 289.107507 \nL 131.343388 286.216926 \nL 137.043078 283.32635 \nL 142.742773 280.435769 \nL 148.442469 277.545188 \nL 154.142159 274.654612 \nL 159.841854 271.76403 \nL 165.541545 268.873454 \nL 171.24124 265.982873 \nL 176.940936 263.092292 \nL 182.640631 260.201711 \nL 188.340327 257.311129 \nL 194.040022 254.420553 \nL 199.739707 251.529978 \nL 205.439402 248.639396 \nL 211.139098 245.748815 \nL 216.838793 242.858234 \nL 222.538489 239.967653 \nL 228.238184 237.077077 \nL 233.937869 234.186501 \nL 239.637565 231.295919 \nL 245.33726 228.405338 \nL 251.036956 225.514762 \nL 256.73664 222.624186 \nL 262.436336 219.7336 \nL 268.136031 216.843024 \nL 273.835727 213.952437 \nL 279.535422 211.061861 \nL 285.235118 208.171285 \nL 290.934813 205.280699 \nL 296.634509 202.390123 \nL 302.334204 199.499536 \nL 308.0339 196.60896 \nL 313.733595 193.718384 \nL 319.433291 190.827798 \nL 325.132965 187.937233 \nL 330.83266 185.046646 \nL 336.532356 182.15607 \nL 342.232051 179.265483 \nL 347.931747 176.374907 \nL 353.631442 173.484332 \nL 359.331138 170.593745 \nL 365.030833 167.703169 \nL 370.730529 164.812582 \nL 376.430224 161.922007 \nL 382.12992 159.031431 \nL 387.829615 156.140844 \nL 393.529289 153.250279 \nL 399.228985 150.359692 \nL 404.92868 147.469116 \nL 410.628376 144.57853 \nL 416.328071 141.687954 \nL 422.027767 138.797378 \nL 427.727462 135.906791 \nL 433.427158 133.016194 \nL 439.126832 130.125639 \nL 444.826527 127.235063 \nL 450.526223 124.344466 \nL 456.225918 121.45389 \nL 461.925614 118.563314 \nL 467.625309 115.672738 \nL 473.325005 112.782141 \nL 479.0247 109.891565 \nL 484.724396 107.000989 \nL 490.424091 104.110413 \nL 496.123787 101.219837 \nL 501.823482 98.32924 \nL 507.523178 95.438664 \nL 513.222873 92.548088 \nL 518.922569 89.657512 \nL 524.622264 86.766936 \nL 530.32196 83.876339 \nL 536.021655 80.985763 \nL 541.721351 78.095187 \nL 547.421046 75.204611 \nL 553.120742 72.314035 \nL 558.820437 69.423438 \nL 564.520133 66.532862 \nL 570.219785 63.642308 \nL 575.919481 60.751732 \nL 581.619176 57.861156 \n\" style=\"fill:none;stroke:#ff7f0e;stroke-linecap:square;stroke-width:1.5;\"/>\n   </g>\n   <g id=\"patch_3\">\n    <path d=\"M 48.982812 387.72 \nL 48.982812 7.2 \n\" style=\"fill:none;stroke:#000000;stroke-linecap:square;stroke-linejoin:miter;stroke-width:0.8;\"/>\n   </g>\n   <g id=\"patch_4\">\n    <path d=\"M 606.982813 387.72 \nL 606.982813 7.2 \n\" style=\"fill:none;stroke:#000000;stroke-linecap:square;stroke-linejoin:miter;stroke-width:0.8;\"/>\n   </g>\n   <g id=\"patch_5\">\n    <path d=\"M 48.982812 387.72 \nL 606.982813 387.72 \n\" style=\"fill:none;stroke:#000000;stroke-linecap:square;stroke-linejoin:miter;stroke-width:0.8;\"/>\n   </g>\n   <g id=\"patch_6\">\n    <path d=\"M 48.982812 7.2 \nL 606.982813 7.2 \n\" style=\"fill:none;stroke:#000000;stroke-linecap:square;stroke-linejoin:miter;stroke-width:0.8;\"/>\n   </g>\n   <g id=\"legend_1\">\n    <g id=\"patch_7\">\n     <path d=\"M 55.982812 44.55625 \nL 219.978125 44.55625 \nQ 221.978125 44.55625 221.978125 42.55625 \nL 221.978125 14.2 \nQ 221.978125 12.2 219.978125 12.2 \nL 55.982812 12.2 \nQ 53.982812 12.2 53.982812 14.2 \nL 53.982812 42.55625 \nQ 53.982812 44.55625 55.982812 44.55625 \nz\n\" style=\"fill:#ffffff;opacity:0.8;stroke:#cccccc;stroke-linejoin:miter;\"/>\n    </g>\n    <g id=\"line2d_15\"/>\n    <g id=\"line2d_16\">\n     <g>\n      <use style=\"fill:#1f77b4;stroke:#1f77b4;\" x=\"67.982812\" xlink:href=\"#m2288a3419b\" y=\"20.298437\"/>\n     </g>\n    </g>\n    <g id=\"text_15\">\n     <!-- Data -->\n     <g transform=\"translate(85.982812 23.798437)scale(0.1 -0.1)\">\n      <defs>\n       <path d=\"M 19.671875 64.796875 \nL 19.671875 8.109375 \nL 31.59375 8.109375 \nQ 46.6875 8.109375 53.6875 14.9375 \nQ 60.6875 21.78125 60.6875 36.53125 \nQ 60.6875 51.171875 53.6875 57.984375 \nQ 46.6875 64.796875 31.59375 64.796875 \nz\nM 9.8125 72.90625 \nL 30.078125 72.90625 \nQ 51.265625 72.90625 61.171875 64.09375 \nQ 71.09375 55.28125 71.09375 36.53125 \nQ 71.09375 17.671875 61.125 8.828125 \nQ 51.171875 0 30.078125 0 \nL 9.8125 0 \nz\n\" id=\"DejaVuSans-68\"/>\n       <path d=\"M 34.28125 27.484375 \nQ 23.390625 27.484375 19.1875 25 \nQ 14.984375 22.515625 14.984375 16.5 \nQ 14.984375 11.71875 18.140625 8.90625 \nQ 21.296875 6.109375 26.703125 6.109375 \nQ 34.1875 6.109375 38.703125 11.40625 \nQ 43.21875 16.703125 43.21875 25.484375 \nL 43.21875 27.484375 \nz\nM 52.203125 31.203125 \nL 52.203125 0 \nL 43.21875 0 \nL 43.21875 8.296875 \nQ 40.140625 3.328125 35.546875 0.953125 \nQ 30.953125 -1.421875 24.3125 -1.421875 \nQ 15.921875 -1.421875 10.953125 3.296875 \nQ 6 8.015625 6 15.921875 \nQ 6 25.140625 12.171875 29.828125 \nQ 18.359375 34.515625 30.609375 34.515625 \nL 43.21875 34.515625 \nL 43.21875 35.40625 \nQ 43.21875 41.609375 39.140625 45 \nQ 35.0625 48.390625 27.6875 48.390625 \nQ 23 48.390625 18.546875 47.265625 \nQ 14.109375 46.140625 10.015625 43.890625 \nL 10.015625 52.203125 \nQ 14.9375 54.109375 19.578125 55.046875 \nQ 24.21875 56 28.609375 56 \nQ 40.484375 56 46.34375 49.84375 \nQ 52.203125 43.703125 52.203125 31.203125 \nz\n\" id=\"DejaVuSans-97\"/>\n       <path d=\"M 18.3125 70.21875 \nL 18.3125 54.6875 \nL 36.8125 54.6875 \nL 36.8125 47.703125 \nL 18.3125 47.703125 \nL 18.3125 18.015625 \nQ 18.3125 11.328125 20.140625 9.421875 \nQ 21.96875 7.515625 27.59375 7.515625 \nL 36.8125 7.515625 \nL 36.8125 0 \nL 27.59375 0 \nQ 17.1875 0 13.234375 3.875 \nQ 9.28125 7.765625 9.28125 18.015625 \nL 9.28125 47.703125 \nL 2.6875 47.703125 \nL 2.6875 54.6875 \nL 9.28125 54.6875 \nL 9.28125 70.21875 \nz\n\" id=\"DejaVuSans-116\"/>\n      </defs>\n      <use xlink:href=\"#DejaVuSans-68\"/>\n      <use x=\"77.001953\" xlink:href=\"#DejaVuSans-97\"/>\n      <use x=\"138.28125\" xlink:href=\"#DejaVuSans-116\"/>\n      <use x=\"177.490234\" xlink:href=\"#DejaVuSans-97\"/>\n     </g>\n    </g>\n    <g id=\"line2d_17\">\n     <path d=\"M 57.982812 34.976562 \nL 77.982812 34.976562 \n\" style=\"fill:none;stroke:#ff7f0e;stroke-linecap:square;stroke-width:1.5;\"/>\n    </g>\n    <g id=\"line2d_18\"/>\n    <g id=\"text_16\">\n     <!-- 1.0239373x +0.33544564 -->\n     <g transform=\"translate(85.982812 38.476562)scale(0.1 -0.1)\">\n      <defs>\n       <path d=\"M 10.6875 12.40625 \nL 21 12.40625 \nL 21 0 \nL 10.6875 0 \nz\n\" id=\"DejaVuSans-46\"/>\n       <path d=\"M 40.578125 39.3125 \nQ 47.65625 37.796875 51.625 33 \nQ 55.609375 28.21875 55.609375 21.1875 \nQ 55.609375 10.40625 48.1875 4.484375 \nQ 40.765625 -1.421875 27.09375 -1.421875 \nQ 22.515625 -1.421875 17.65625 -0.515625 \nQ 12.796875 0.390625 7.625 2.203125 \nL 7.625 11.71875 \nQ 11.71875 9.328125 16.59375 8.109375 \nQ 21.484375 6.890625 26.8125 6.890625 \nQ 36.078125 6.890625 40.9375 10.546875 \nQ 45.796875 14.203125 45.796875 21.1875 \nQ 45.796875 27.640625 41.28125 31.265625 \nQ 36.765625 34.90625 28.71875 34.90625 \nL 20.21875 34.90625 \nL 20.21875 43.015625 \nL 29.109375 43.015625 \nQ 36.375 43.015625 40.234375 45.921875 \nQ 44.09375 48.828125 44.09375 54.296875 \nQ 44.09375 59.90625 40.109375 62.90625 \nQ 36.140625 65.921875 28.71875 65.921875 \nQ 24.65625 65.921875 20.015625 65.03125 \nQ 15.375 64.15625 9.8125 62.3125 \nL 9.8125 71.09375 \nQ 15.4375 72.65625 20.34375 73.4375 \nQ 25.25 74.21875 29.59375 74.21875 \nQ 40.828125 74.21875 47.359375 69.109375 \nQ 53.90625 64.015625 53.90625 55.328125 \nQ 53.90625 49.265625 50.4375 45.09375 \nQ 46.96875 40.921875 40.578125 39.3125 \nz\n\" id=\"DejaVuSans-51\"/>\n       <path d=\"M 10.984375 1.515625 \nL 10.984375 10.5 \nQ 14.703125 8.734375 18.5 7.8125 \nQ 22.3125 6.890625 25.984375 6.890625 \nQ 35.75 6.890625 40.890625 13.453125 \nQ 46.046875 20.015625 46.78125 33.40625 \nQ 43.953125 29.203125 39.59375 26.953125 \nQ 35.25 24.703125 29.984375 24.703125 \nQ 19.046875 24.703125 12.671875 31.3125 \nQ 6.296875 37.9375 6.296875 49.421875 \nQ 6.296875 60.640625 12.9375 67.421875 \nQ 19.578125 74.21875 30.609375 74.21875 \nQ 43.265625 74.21875 49.921875 64.515625 \nQ 56.59375 54.828125 56.59375 36.375 \nQ 56.59375 19.140625 48.40625 8.859375 \nQ 40.234375 -1.421875 26.421875 -1.421875 \nQ 22.703125 -1.421875 18.890625 -0.6875 \nQ 15.09375 0.046875 10.984375 1.515625 \nz\nM 30.609375 32.421875 \nQ 37.25 32.421875 41.125 36.953125 \nQ 45.015625 41.5 45.015625 49.421875 \nQ 45.015625 57.28125 41.125 61.84375 \nQ 37.25 66.40625 30.609375 66.40625 \nQ 23.96875 66.40625 20.09375 61.84375 \nQ 16.21875 57.28125 16.21875 49.421875 \nQ 16.21875 41.5 20.09375 36.953125 \nQ 23.96875 32.421875 30.609375 32.421875 \nz\n\" id=\"DejaVuSans-57\"/>\n       <path d=\"M 8.203125 72.90625 \nL 55.078125 72.90625 \nL 55.078125 68.703125 \nL 28.609375 0 \nL 18.3125 0 \nL 43.21875 64.59375 \nL 8.203125 64.59375 \nz\n\" id=\"DejaVuSans-55\"/>\n       <path d=\"M 54.890625 54.6875 \nL 35.109375 28.078125 \nL 55.90625 0 \nL 45.3125 0 \nL 29.390625 21.484375 \nL 13.484375 0 \nL 2.875 0 \nL 24.125 28.609375 \nL 4.6875 54.6875 \nL 15.28125 54.6875 \nL 29.78125 35.203125 \nL 44.28125 54.6875 \nz\n\" id=\"DejaVuSans-120\"/>\n       <path id=\"DejaVuSans-32\"/>\n       <path d=\"M 46 62.703125 \nL 46 35.5 \nL 73.1875 35.5 \nL 73.1875 27.203125 \nL 46 27.203125 \nL 46 0 \nL 37.796875 0 \nL 37.796875 27.203125 \nL 10.59375 27.203125 \nL 10.59375 35.5 \nL 37.796875 35.5 \nL 37.796875 62.703125 \nz\n\" id=\"DejaVuSans-43\"/>\n       <path d=\"M 10.796875 72.90625 \nL 49.515625 72.90625 \nL 49.515625 64.59375 \nL 19.828125 64.59375 \nL 19.828125 46.734375 \nQ 21.96875 47.46875 24.109375 47.828125 \nQ 26.265625 48.1875 28.421875 48.1875 \nQ 40.625 48.1875 47.75 41.5 \nQ 54.890625 34.8125 54.890625 23.390625 \nQ 54.890625 11.625 47.5625 5.09375 \nQ 40.234375 -1.421875 26.90625 -1.421875 \nQ 22.3125 -1.421875 17.546875 -0.640625 \nQ 12.796875 0.140625 7.71875 1.703125 \nL 7.71875 11.625 \nQ 12.109375 9.234375 16.796875 8.0625 \nQ 21.484375 6.890625 26.703125 6.890625 \nQ 35.15625 6.890625 40.078125 11.328125 \nQ 45.015625 15.765625 45.015625 23.390625 \nQ 45.015625 31 40.078125 35.4375 \nQ 35.15625 39.890625 26.703125 39.890625 \nQ 22.75 39.890625 18.8125 39.015625 \nQ 14.890625 38.140625 10.796875 36.28125 \nz\n\" id=\"DejaVuSans-53\"/>\n      </defs>\n      <use xlink:href=\"#DejaVuSans-49\"/>\n      <use x=\"63.623047\" xlink:href=\"#DejaVuSans-46\"/>\n      <use x=\"95.410156\" xlink:href=\"#DejaVuSans-48\"/>\n      <use x=\"159.033203\" xlink:href=\"#DejaVuSans-50\"/>\n      <use x=\"222.65625\" xlink:href=\"#DejaVuSans-51\"/>\n      <use x=\"286.279297\" xlink:href=\"#DejaVuSans-57\"/>\n      <use x=\"349.902344\" xlink:href=\"#DejaVuSans-51\"/>\n      <use x=\"413.525391\" xlink:href=\"#DejaVuSans-55\"/>\n      <use x=\"477.148438\" xlink:href=\"#DejaVuSans-51\"/>\n      <use x=\"540.771484\" xlink:href=\"#DejaVuSans-120\"/>\n      <use x=\"599.951172\" xlink:href=\"#DejaVuSans-32\"/>\n      <use x=\"631.738281\" xlink:href=\"#DejaVuSans-43\"/>\n      <use x=\"715.527344\" xlink:href=\"#DejaVuSans-48\"/>\n      <use x=\"779.150391\" xlink:href=\"#DejaVuSans-46\"/>\n      <use x=\"810.9375\" xlink:href=\"#DejaVuSans-51\"/>\n      <use x=\"874.560547\" xlink:href=\"#DejaVuSans-51\"/>\n      <use x=\"938.183594\" xlink:href=\"#DejaVuSans-53\"/>\n      <use x=\"1001.806641\" xlink:href=\"#DejaVuSans-52\"/>\n      <use x=\"1065.429688\" xlink:href=\"#DejaVuSans-52\"/>\n      <use x=\"1129.052734\" xlink:href=\"#DejaVuSans-53\"/>\n      <use x=\"1192.675781\" xlink:href=\"#DejaVuSans-54\"/>\n      <use x=\"1256.298828\" xlink:href=\"#DejaVuSans-52\"/>\n     </g>\n    </g>\n   </g>\n  </g>\n </g>\n <defs>\n  <clipPath id=\"pf0979270a8\">\n   <rect height=\"380.52\" width=\"558\" x=\"48.982812\" y=\"7.2\"/>\n  </clipPath>\n </defs>\n</svg>\n",
      "image/png": "[encoded data removed]"
     },
     "metadata": {
      "needs_background": "light"
     }
    }
   ],
   "source": [
    "x_data = x_train.data.numpy() # 获得x包裹的数据\n",
    "plt.figure(figsize = (10, 7)) #设定绘图窗口大小\n",
    "xplot, = plt.plot(x_data, y_train.numpy(), 'o') # 绘制原始数据\n",
    "yplot, = plt.plot(x_data, a.data.numpy() * x_data + b.data.numpy())  #绘制拟合数据\n",
    "plt.xlabel('X') #更改坐标轴标注\n",
    "plt.ylabel('Y') #更改坐标轴标注\n",
    "str1 = str(a.data.numpy()[0]) + 'x +' + str(b.data.numpy()[0]) #图例信息\n",
    "plt.legend([xplot, yplot],['Data', str1]) #绘制图例\n",
    "plt.show()"
   ]
  },
  {
   "cell_type": "markdown",
   "metadata": {},
   "source": [
    "### 3. 测试阶段"
   ]
  },
  {
   "cell_type": "code",
   "execution_count": 31,
   "metadata": {},
   "outputs": [
    {
     "output_type": "execute_result",
     "data": {
      "text/plain": [
       "tensor([ 93.4207,  94.4549,  95.4892,  96.5235,  97.5578,  98.5921,  99.6263,\n",
       "        100.6606, 101.6949, 102.7292], grad_fn=<AddBackward0>)"
      ]
     },
     "metadata": {},
     "execution_count": 31
    }
   ],
   "source": [
    "predictions = a.expand_as(x_test) * x_test + b.expand_as(x_test) #计算模型的预测结果\n",
    "predictions #输出"
   ]
  },
  {
   "cell_type": "code",
   "execution_count": 32,
   "metadata": {},
   "outputs": [
    {
     "output_type": "display_data",
     "data": {
      "text/plain": "<Figure size 720x504 with 1 Axes>",
      "image/svg+xml": "<?xml version=\"1.0\" encoding=\"utf-8\" standalone=\"no\"?>\n<!DOCTYPE svg PUBLIC \"-//W3C//DTD SVG 1.1//EN\"\n  \"http://www.w3.org/Graphics/SVG/1.1/DTD/svg11.dtd\">\n<!-- Created with matplotlib (https://matplotlib.org/) -->\n<svg height=\"425.27625pt\" version=\"1.1\" viewBox=\"0 0 614.182812 425.27625\" width=\"614.182812pt\" xmlns=\"http://www.w3.org/2000/svg\" xmlns:xlink=\"http://www.w3.org/1999/xlink\">\n <metadata>\n  <rdf:RDF xmlns:cc=\"http://creativecommons.org/ns#\" xmlns:dc=\"http://purl.org/dc/elements/1.1/\" xmlns:rdf=\"http://www.w3.org/1999/02/22-rdf-syntax-ns#\">\n   <cc:Work>\n    <dc:type rdf:resource=\"http://purl.org/dc/dcmitype/StillImage\"/>\n    <dc:date>2020-11-24T23:26:30.143396</dc:date>\n    <dc:format>image/svg+xml</dc:format>\n    <dc:creator>\n     <cc:Agent>\n      <dc:title>Matplotlib v3.3.0, https://matplotlib.org/</dc:title>\n     </cc:Agent>\n    </dc:creator>\n   </cc:Work>\n  </rdf:RDF>\n </metadata>\n <defs>\n  <style type=\"text/css\">*{stroke-linecap:butt;stroke-linejoin:round;}</style>\n </defs>\n <g id=\"figure_1\">\n  <g id=\"patch_1\">\n   <path d=\"M 0 425.27625 \nL 614.182812 425.27625 \nL 614.182812 0 \nL 0 0 \nz\n\" style=\"fill:none;\"/>\n  </g>\n  <g id=\"axes_1\">\n   <g id=\"patch_2\">\n    <path d=\"M 48.982812 387.72 \nL 606.982813 387.72 \nL 606.982813 7.2 \nL 48.982812 7.2 \nz\n\" style=\"fill:#ffffff;\"/>\n   </g>\n   <g id=\"matplotlib.axis_1\">\n    <g id=\"xtick_1\">\n     <g id=\"line2d_1\">\n      <defs>\n       <path d=\"M 0 0 \nL 0 3.5 \n\" id=\"mda5a1641f5\" style=\"stroke:#000000;stroke-width:0.8;\"/>\n      </defs>\n      <g>\n       <use style=\"stroke:#000000;stroke-width:0.8;\" x=\"74.346449\" xlink:href=\"#mda5a1641f5\" y=\"387.72\"/>\n      </g>\n     </g>\n     <g id=\"text_1\">\n      <!-- 0 -->\n      <g transform=\"translate(71.165199 402.318437)scale(0.1 -0.1)\">\n       <defs>\n        <path d=\"M 31.78125 66.40625 \nQ 24.171875 66.40625 20.328125 58.90625 \nQ 16.5 51.421875 16.5 36.375 \nQ 16.5 21.390625 20.328125 13.890625 \nQ 24.171875 6.390625 31.78125 6.390625 \nQ 39.453125 6.390625 43.28125 13.890625 \nQ 47.125 21.390625 47.125 36.375 \nQ 47.125 51.421875 43.28125 58.90625 \nQ 39.453125 66.40625 31.78125 66.40625 \nz\nM 31.78125 74.21875 \nQ 44.046875 74.21875 50.515625 64.515625 \nQ 56.984375 54.828125 56.984375 36.375 \nQ 56.984375 17.96875 50.515625 8.265625 \nQ 44.046875 -1.421875 31.78125 -1.421875 \nQ 19.53125 -1.421875 13.0625 8.265625 \nQ 6.59375 17.96875 6.59375 36.375 \nQ 6.59375 54.828125 13.0625 64.515625 \nQ 19.53125 74.21875 31.78125 74.21875 \nz\n\" id=\"DejaVuSans-48\"/>\n       </defs>\n       <use xlink:href=\"#DejaVuSans-48\"/>\n      </g>\n     </g>\n    </g>\n    <g id=\"xtick_2\">\n     <g id=\"line2d_2\">\n      <g>\n       <use style=\"stroke:#000000;stroke-width:0.8;\" x=\"175.800994\" xlink:href=\"#mda5a1641f5\" y=\"387.72\"/>\n      </g>\n     </g>\n     <g id=\"text_2\">\n      <!-- 20 -->\n      <g transform=\"translate(169.438494 402.318437)scale(0.1 -0.1)\">\n       <defs>\n        <path d=\"M 19.1875 8.296875 \nL 53.609375 8.296875 \nL 53.609375 0 \nL 7.328125 0 \nL 7.328125 8.296875 \nQ 12.9375 14.109375 22.625 23.890625 \nQ 32.328125 33.6875 34.8125 36.53125 \nQ 39.546875 41.84375 41.421875 45.53125 \nQ 43.3125 49.21875 43.3125 52.78125 \nQ 43.3125 58.59375 39.234375 62.25 \nQ 35.15625 65.921875 28.609375 65.921875 \nQ 23.96875 65.921875 18.8125 64.3125 \nQ 13.671875 62.703125 7.8125 59.421875 \nL 7.8125 69.390625 \nQ 13.765625 71.78125 18.9375 73 \nQ 24.125 74.21875 28.421875 74.21875 \nQ 39.75 74.21875 46.484375 68.546875 \nQ 53.21875 62.890625 53.21875 53.421875 \nQ 53.21875 48.921875 51.53125 44.890625 \nQ 49.859375 40.875 45.40625 35.40625 \nQ 44.1875 33.984375 37.640625 27.21875 \nQ 31.109375 20.453125 19.1875 8.296875 \nz\n\" id=\"DejaVuSans-50\"/>\n       </defs>\n       <use xlink:href=\"#DejaVuSans-50\"/>\n       <use x=\"63.623047\" xlink:href=\"#DejaVuSans-48\"/>\n      </g>\n     </g>\n    </g>\n    <g id=\"xtick_3\">\n     <g id=\"line2d_3\">\n      <g>\n       <use style=\"stroke:#000000;stroke-width:0.8;\" x=\"277.25554\" xlink:href=\"#mda5a1641f5\" y=\"387.72\"/>\n      </g>\n     </g>\n     <g id=\"text_3\">\n      <!-- 40 -->\n      <g transform=\"translate(270.89304 402.318437)scale(0.1 -0.1)\">\n       <defs>\n        <path d=\"M 37.796875 64.3125 \nL 12.890625 25.390625 \nL 37.796875 25.390625 \nz\nM 35.203125 72.90625 \nL 47.609375 72.90625 \nL 47.609375 25.390625 \nL 58.015625 25.390625 \nL 58.015625 17.1875 \nL 47.609375 17.1875 \nL 47.609375 0 \nL 37.796875 0 \nL 37.796875 17.1875 \nL 4.890625 17.1875 \nL 4.890625 26.703125 \nz\n\" id=\"DejaVuSans-52\"/>\n       </defs>\n       <use xlink:href=\"#DejaVuSans-52\"/>\n       <use x=\"63.623047\" xlink:href=\"#DejaVuSans-48\"/>\n      </g>\n     </g>\n    </g>\n    <g id=\"xtick_4\">\n     <g id=\"line2d_4\">\n      <g>\n       <use style=\"stroke:#000000;stroke-width:0.8;\" x=\"378.710085\" xlink:href=\"#mda5a1641f5\" y=\"387.72\"/>\n      </g>\n     </g>\n     <g id=\"text_4\">\n      <!-- 60 -->\n      <g transform=\"translate(372.347585 402.318437)scale(0.1 -0.1)\">\n       <defs>\n        <path d=\"M 33.015625 40.375 \nQ 26.375 40.375 22.484375 35.828125 \nQ 18.609375 31.296875 18.609375 23.390625 \nQ 18.609375 15.53125 22.484375 10.953125 \nQ 26.375 6.390625 33.015625 6.390625 \nQ 39.65625 6.390625 43.53125 10.953125 \nQ 47.40625 15.53125 47.40625 23.390625 \nQ 47.40625 31.296875 43.53125 35.828125 \nQ 39.65625 40.375 33.015625 40.375 \nz\nM 52.59375 71.296875 \nL 52.59375 62.3125 \nQ 48.875 64.0625 45.09375 64.984375 \nQ 41.3125 65.921875 37.59375 65.921875 \nQ 27.828125 65.921875 22.671875 59.328125 \nQ 17.53125 52.734375 16.796875 39.40625 \nQ 19.671875 43.65625 24.015625 45.921875 \nQ 28.375 48.1875 33.59375 48.1875 \nQ 44.578125 48.1875 50.953125 41.515625 \nQ 57.328125 34.859375 57.328125 23.390625 \nQ 57.328125 12.15625 50.6875 5.359375 \nQ 44.046875 -1.421875 33.015625 -1.421875 \nQ 20.359375 -1.421875 13.671875 8.265625 \nQ 6.984375 17.96875 6.984375 36.375 \nQ 6.984375 53.65625 15.1875 63.9375 \nQ 23.390625 74.21875 37.203125 74.21875 \nQ 40.921875 74.21875 44.703125 73.484375 \nQ 48.484375 72.75 52.59375 71.296875 \nz\n\" id=\"DejaVuSans-54\"/>\n       </defs>\n       <use xlink:href=\"#DejaVuSans-54\"/>\n       <use x=\"63.623047\" xlink:href=\"#DejaVuSans-48\"/>\n      </g>\n     </g>\n    </g>\n    <g id=\"xtick_5\">\n     <g id=\"line2d_5\">\n      <g>\n       <use style=\"stroke:#000000;stroke-width:0.8;\" x=\"480.164631\" xlink:href=\"#mda5a1641f5\" y=\"387.72\"/>\n      </g>\n     </g>\n     <g id=\"text_5\">\n      <!-- 80 -->\n      <g transform=\"translate(473.802131 402.318437)scale(0.1 -0.1)\">\n       <defs>\n        <path d=\"M 31.78125 34.625 \nQ 24.75 34.625 20.71875 30.859375 \nQ 16.703125 27.09375 16.703125 20.515625 \nQ 16.703125 13.921875 20.71875 10.15625 \nQ 24.75 6.390625 31.78125 6.390625 \nQ 38.8125 6.390625 42.859375 10.171875 \nQ 46.921875 13.96875 46.921875 20.515625 \nQ 46.921875 27.09375 42.890625 30.859375 \nQ 38.875 34.625 31.78125 34.625 \nz\nM 21.921875 38.8125 \nQ 15.578125 40.375 12.03125 44.71875 \nQ 8.5 49.078125 8.5 55.328125 \nQ 8.5 64.0625 14.71875 69.140625 \nQ 20.953125 74.21875 31.78125 74.21875 \nQ 42.671875 74.21875 48.875 69.140625 \nQ 55.078125 64.0625 55.078125 55.328125 \nQ 55.078125 49.078125 51.53125 44.71875 \nQ 48 40.375 41.703125 38.8125 \nQ 48.828125 37.15625 52.796875 32.3125 \nQ 56.78125 27.484375 56.78125 20.515625 \nQ 56.78125 9.90625 50.3125 4.234375 \nQ 43.84375 -1.421875 31.78125 -1.421875 \nQ 19.734375 -1.421875 13.25 4.234375 \nQ 6.78125 9.90625 6.78125 20.515625 \nQ 6.78125 27.484375 10.78125 32.3125 \nQ 14.796875 37.15625 21.921875 38.8125 \nz\nM 18.3125 54.390625 \nQ 18.3125 48.734375 21.84375 45.5625 \nQ 25.390625 42.390625 31.78125 42.390625 \nQ 38.140625 42.390625 41.71875 45.5625 \nQ 45.3125 48.734375 45.3125 54.390625 \nQ 45.3125 60.0625 41.71875 63.234375 \nQ 38.140625 66.40625 31.78125 66.40625 \nQ 25.390625 66.40625 21.84375 63.234375 \nQ 18.3125 60.0625 18.3125 54.390625 \nz\n\" id=\"DejaVuSans-56\"/>\n       </defs>\n       <use xlink:href=\"#DejaVuSans-56\"/>\n       <use x=\"63.623047\" xlink:href=\"#DejaVuSans-48\"/>\n      </g>\n     </g>\n    </g>\n    <g id=\"xtick_6\">\n     <g id=\"line2d_6\">\n      <g>\n       <use style=\"stroke:#000000;stroke-width:0.8;\" x=\"581.619176\" xlink:href=\"#mda5a1641f5\" y=\"387.72\"/>\n      </g>\n     </g>\n     <g id=\"text_6\">\n      <!-- 100 -->\n      <g transform=\"translate(572.075426 402.318437)scale(0.1 -0.1)\">\n       <defs>\n        <path d=\"M 12.40625 8.296875 \nL 28.515625 8.296875 \nL 28.515625 63.921875 \nL 10.984375 60.40625 \nL 10.984375 69.390625 \nL 28.421875 72.90625 \nL 38.28125 72.90625 \nL 38.28125 8.296875 \nL 54.390625 8.296875 \nL 54.390625 0 \nL 12.40625 0 \nz\n\" id=\"DejaVuSans-49\"/>\n       </defs>\n       <use xlink:href=\"#DejaVuSans-49\"/>\n       <use x=\"63.623047\" xlink:href=\"#DejaVuSans-48\"/>\n       <use x=\"127.246094\" xlink:href=\"#DejaVuSans-48\"/>\n      </g>\n     </g>\n    </g>\n    <g id=\"text_7\">\n     <!-- X -->\n     <g transform=\"translate(324.557813 415.996562)scale(0.1 -0.1)\">\n      <defs>\n       <path d=\"M 6.296875 72.90625 \nL 16.890625 72.90625 \nL 35.015625 45.796875 \nL 53.21875 72.90625 \nL 63.8125 72.90625 \nL 40.375 37.890625 \nL 65.375 0 \nL 54.78125 0 \nL 34.28125 31 \nL 13.625 0 \nL 2.984375 0 \nL 29 38.921875 \nz\n\" id=\"DejaVuSans-88\"/>\n      </defs>\n      <use xlink:href=\"#DejaVuSans-88\"/>\n     </g>\n    </g>\n   </g>\n   <g id=\"matplotlib.axis_2\">\n    <g id=\"ytick_1\">\n     <g id=\"line2d_7\">\n      <defs>\n       <path d=\"M 0 0 \nL -3.5 0 \n\" id=\"m5c664ed5ed\" style=\"stroke:#000000;stroke-width:0.8;\"/>\n      </defs>\n      <g>\n       <use style=\"stroke:#000000;stroke-width:0.8;\" x=\"48.982812\" xlink:href=\"#m5c664ed5ed\" y=\"371.818221\"/>\n      </g>\n     </g>\n     <g id=\"text_8\">\n      <!-- −20 -->\n      <g transform=\"translate(20.878125 375.61744)scale(0.1 -0.1)\">\n       <defs>\n        <path d=\"M 10.59375 35.5 \nL 73.1875 35.5 \nL 73.1875 27.203125 \nL 10.59375 27.203125 \nz\n\" id=\"DejaVuSans-8722\"/>\n       </defs>\n       <use xlink:href=\"#DejaVuSans-8722\"/>\n       <use x=\"83.789062\" xlink:href=\"#DejaVuSans-50\"/>\n       <use x=\"147.412109\" xlink:href=\"#DejaVuSans-48\"/>\n      </g>\n     </g>\n    </g>\n    <g id=\"ytick_2\">\n     <g id=\"line2d_8\">\n      <g>\n       <use style=\"stroke:#000000;stroke-width:0.8;\" x=\"48.982812\" xlink:href=\"#m5c664ed5ed\" y=\"320.938522\"/>\n      </g>\n     </g>\n     <g id=\"text_9\">\n      <!-- 0 -->\n      <g transform=\"translate(35.620312 324.737741)scale(0.1 -0.1)\">\n       <use xlink:href=\"#DejaVuSans-48\"/>\n      </g>\n     </g>\n    </g>\n    <g id=\"ytick_3\">\n     <g id=\"line2d_9\">\n      <g>\n       <use style=\"stroke:#000000;stroke-width:0.8;\" x=\"48.982812\" xlink:href=\"#m5c664ed5ed\" y=\"270.058823\"/>\n      </g>\n     </g>\n     <g id=\"text_10\">\n      <!-- 20 -->\n      <g transform=\"translate(29.257812 273.858042)scale(0.1 -0.1)\">\n       <use xlink:href=\"#DejaVuSans-50\"/>\n       <use x=\"63.623047\" xlink:href=\"#DejaVuSans-48\"/>\n      </g>\n     </g>\n    </g>\n    <g id=\"ytick_4\">\n     <g id=\"line2d_10\">\n      <g>\n       <use style=\"stroke:#000000;stroke-width:0.8;\" x=\"48.982812\" xlink:href=\"#m5c664ed5ed\" y=\"219.179124\"/>\n      </g>\n     </g>\n     <g id=\"text_11\">\n      <!-- 40 -->\n      <g transform=\"translate(29.257812 222.978343)scale(0.1 -0.1)\">\n       <use xlink:href=\"#DejaVuSans-52\"/>\n       <use x=\"63.623047\" xlink:href=\"#DejaVuSans-48\"/>\n      </g>\n     </g>\n    </g>\n    <g id=\"ytick_5\">\n     <g id=\"line2d_11\">\n      <g>\n       <use style=\"stroke:#000000;stroke-width:0.8;\" x=\"48.982812\" xlink:href=\"#m5c664ed5ed\" y=\"168.299426\"/>\n      </g>\n     </g>\n     <g id=\"text_12\">\n      <!-- 60 -->\n      <g transform=\"translate(29.257812 172.098644)scale(0.1 -0.1)\">\n       <use xlink:href=\"#DejaVuSans-54\"/>\n       <use x=\"63.623047\" xlink:href=\"#DejaVuSans-48\"/>\n      </g>\n     </g>\n    </g>\n    <g id=\"ytick_6\">\n     <g id=\"line2d_12\">\n      <g>\n       <use style=\"stroke:#000000;stroke-width:0.8;\" x=\"48.982812\" xlink:href=\"#m5c664ed5ed\" y=\"117.419727\"/>\n      </g>\n     </g>\n     <g id=\"text_13\">\n      <!-- 80 -->\n      <g transform=\"translate(29.257812 121.218945)scale(0.1 -0.1)\">\n       <use xlink:href=\"#DejaVuSans-56\"/>\n       <use x=\"63.623047\" xlink:href=\"#DejaVuSans-48\"/>\n      </g>\n     </g>\n    </g>\n    <g id=\"ytick_7\">\n     <g id=\"line2d_13\">\n      <g>\n       <use style=\"stroke:#000000;stroke-width:0.8;\" x=\"48.982812\" xlink:href=\"#m5c664ed5ed\" y=\"66.540028\"/>\n      </g>\n     </g>\n     <g id=\"text_14\">\n      <!-- 100 -->\n      <g transform=\"translate(22.895312 70.339246)scale(0.1 -0.1)\">\n       <use xlink:href=\"#DejaVuSans-49\"/>\n       <use x=\"63.623047\" xlink:href=\"#DejaVuSans-48\"/>\n       <use x=\"127.246094\" xlink:href=\"#DejaVuSans-48\"/>\n      </g>\n     </g>\n    </g>\n    <g id=\"ytick_8\">\n     <g id=\"line2d_14\">\n      <g>\n       <use style=\"stroke:#000000;stroke-width:0.8;\" x=\"48.982812\" xlink:href=\"#m5c664ed5ed\" y=\"15.660329\"/>\n      </g>\n     </g>\n     <g id=\"text_15\">\n      <!-- 120 -->\n      <g transform=\"translate(22.895312 19.459547)scale(0.1 -0.1)\">\n       <use xlink:href=\"#DejaVuSans-49\"/>\n       <use x=\"63.623047\" xlink:href=\"#DejaVuSans-50\"/>\n       <use x=\"127.246094\" xlink:href=\"#DejaVuSans-48\"/>\n      </g>\n     </g>\n    </g>\n    <g id=\"text_16\">\n     <!-- Y -->\n     <g transform=\"translate(14.798437 200.513906)rotate(-90)scale(0.1 -0.1)\">\n      <defs>\n       <path d=\"M -0.203125 72.90625 \nL 10.40625 72.90625 \nL 30.609375 42.921875 \nL 50.6875 72.90625 \nL 61.28125 72.90625 \nL 35.5 34.71875 \nL 35.5 0 \nL 25.59375 0 \nL 25.59375 34.71875 \nz\n\" id=\"DejaVuSans-89\"/>\n      </defs>\n      <use xlink:href=\"#DejaVuSans-89\"/>\n     </g>\n    </g>\n   </g>\n   <g id=\"line2d_15\">\n    <defs>\n     <path d=\"M 0 3 \nC 0.795609 3 1.55874 2.683901 2.12132 2.12132 \nC 2.683901 1.55874 3 0.795609 3 0 \nC 3 -0.795609 2.683901 -1.55874 2.12132 -2.12132 \nC 1.55874 -2.683901 0.795609 -3 0 -3 \nC -0.795609 -3 -1.55874 -2.683901 -2.12132 -2.12132 \nC -2.683901 -1.55874 -3 -0.795609 -3 0 \nC -3 0.795609 -2.683901 1.55874 -2.12132 2.12132 \nC -1.55874 2.683901 -0.795609 3 0 3 \nz\n\" id=\"mb2c789c84e\" style=\"stroke:#1f77b4;\"/>\n    </defs>\n    <g clip-path=\"url(#pc9f8bf5fb0)\">\n     <use style=\"fill:#1f77b4;stroke:#1f77b4;\" x=\"74.346449\" xlink:href=\"#mb2c789c84e\" y=\"303.890612\"/>\n     <use style=\"fill:#1f77b4;stroke:#1f77b4;\" x=\"79.470416\" xlink:href=\"#mb2c789c84e\" y=\"328.094232\"/>\n     <use style=\"fill:#1f77b4;stroke:#1f77b4;\" x=\"84.594382\" xlink:href=\"#mb2c789c84e\" y=\"370.423636\"/>\n     <use style=\"fill:#1f77b4;stroke:#1f77b4;\" x=\"89.71835\" xlink:href=\"#mb2c789c84e\" y=\"315.18554\"/>\n     <use style=\"fill:#1f77b4;stroke:#1f77b4;\" x=\"94.842316\" xlink:href=\"#mb2c789c84e\" y=\"290.264907\"/>\n     <use style=\"fill:#1f77b4;stroke:#1f77b4;\" x=\"99.966284\" xlink:href=\"#mb2c789c84e\" y=\"330.800075\"/>\n     <use style=\"fill:#1f77b4;stroke:#1f77b4;\" x=\"105.09025\" xlink:href=\"#mb2c789c84e\" y=\"224.065939\"/>\n     <use style=\"fill:#1f77b4;stroke:#1f77b4;\" x=\"110.214216\" xlink:href=\"#mb2c789c84e\" y=\"303.065241\"/>\n     <use style=\"fill:#1f77b4;stroke:#1f77b4;\" x=\"115.338182\" xlink:href=\"#mb2c789c84e\" y=\"272.858736\"/>\n     <use style=\"fill:#1f77b4;stroke:#1f77b4;\" x=\"120.462151\" xlink:href=\"#mb2c789c84e\" y=\"310.195206\"/>\n     <use style=\"fill:#1f77b4;stroke:#1f77b4;\" x=\"125.586119\" xlink:href=\"#mb2c789c84e\" y=\"245.290615\"/>\n     <use style=\"fill:#1f77b4;stroke:#1f77b4;\" x=\"130.710083\" xlink:href=\"#mb2c789c84e\" y=\"230.457324\"/>\n     <use style=\"fill:#1f77b4;stroke:#1f77b4;\" x=\"135.834052\" xlink:href=\"#mb2c789c84e\" y=\"251.684883\"/>\n     <use style=\"fill:#1f77b4;stroke:#1f77b4;\" x=\"140.95802\" xlink:href=\"#mb2c789c84e\" y=\"260.792121\"/>\n     <use style=\"fill:#1f77b4;stroke:#1f77b4;\" x=\"146.081984\" xlink:href=\"#mb2c789c84e\" y=\"283.767055\"/>\n     <use style=\"fill:#1f77b4;stroke:#1f77b4;\" x=\"151.205952\" xlink:href=\"#mb2c789c84e\" y=\"276.746479\"/>\n     <use style=\"fill:#1f77b4;stroke:#1f77b4;\" x=\"156.329916\" xlink:href=\"#mb2c789c84e\" y=\"281.547981\"/>\n     <use style=\"fill:#1f77b4;stroke:#1f77b4;\" x=\"161.453884\" xlink:href=\"#mb2c789c84e\" y=\"289.13904\"/>\n     <use style=\"fill:#1f77b4;stroke:#1f77b4;\" x=\"166.577853\" xlink:href=\"#mb2c789c84e\" y=\"290.693862\"/>\n     <use style=\"fill:#1f77b4;stroke:#1f77b4;\" x=\"171.701821\" xlink:href=\"#mb2c789c84e\" y=\"224.646153\"/>\n     <use style=\"fill:#1f77b4;stroke:#1f77b4;\" x=\"176.82579\" xlink:href=\"#mb2c789c84e\" y=\"323.433747\"/>\n     <use style=\"fill:#1f77b4;stroke:#1f77b4;\" x=\"181.949758\" xlink:href=\"#mb2c789c84e\" y=\"260.786366\"/>\n     <use style=\"fill:#1f77b4;stroke:#1f77b4;\" x=\"187.073717\" xlink:href=\"#mb2c789c84e\" y=\"274.748956\"/>\n     <use style=\"fill:#1f77b4;stroke:#1f77b4;\" x=\"192.197686\" xlink:href=\"#mb2c789c84e\" y=\"243.411827\"/>\n     <use style=\"fill:#1f77b4;stroke:#1f77b4;\" x=\"197.321654\" xlink:href=\"#mb2c789c84e\" y=\"303.964184\"/>\n     <use style=\"fill:#1f77b4;stroke:#1f77b4;\" x=\"202.445623\" xlink:href=\"#mb2c789c84e\" y=\"284.406193\"/>\n     <use style=\"fill:#1f77b4;stroke:#1f77b4;\" x=\"207.569591\" xlink:href=\"#mb2c789c84e\" y=\"284.892927\"/>\n     <use style=\"fill:#1f77b4;stroke:#1f77b4;\" x=\"212.69356\" xlink:href=\"#mb2c789c84e\" y=\"245.815747\"/>\n     <use style=\"fill:#1f77b4;stroke:#1f77b4;\" x=\"217.817519\" xlink:href=\"#mb2c789c84e\" y=\"235.209945\"/>\n     <use style=\"fill:#1f77b4;stroke:#1f77b4;\" x=\"222.941487\" xlink:href=\"#mb2c789c84e\" y=\"265.846493\"/>\n     <use style=\"fill:#1f77b4;stroke:#1f77b4;\" x=\"228.065456\" xlink:href=\"#mb2c789c84e\" y=\"252.516459\"/>\n     <use style=\"fill:#1f77b4;stroke:#1f77b4;\" x=\"233.189424\" xlink:href=\"#mb2c789c84e\" y=\"232.983181\"/>\n     <use style=\"fill:#1f77b4;stroke:#1f77b4;\" x=\"238.313383\" xlink:href=\"#mb2c789c84e\" y=\"258.890129\"/>\n     <use style=\"fill:#1f77b4;stroke:#1f77b4;\" x=\"243.437352\" xlink:href=\"#mb2c789c84e\" y=\"249.829056\"/>\n     <use style=\"fill:#1f77b4;stroke:#1f77b4;\" x=\"248.56132\" xlink:href=\"#mb2c789c84e\" y=\"214.243147\"/>\n     <use style=\"fill:#1f77b4;stroke:#1f77b4;\" x=\"253.685289\" xlink:href=\"#mb2c789c84e\" y=\"216.877287\"/>\n     <use style=\"fill:#1f77b4;stroke:#1f77b4;\" x=\"258.809257\" xlink:href=\"#mb2c789c84e\" y=\"260.447173\"/>\n     <use style=\"fill:#1f77b4;stroke:#1f77b4;\" x=\"263.933226\" xlink:href=\"#mb2c789c84e\" y=\"193.154616\"/>\n     <use style=\"fill:#1f77b4;stroke:#1f77b4;\" x=\"269.057194\" xlink:href=\"#mb2c789c84e\" y=\"204.59034\"/>\n     <use style=\"fill:#1f77b4;stroke:#1f77b4;\" x=\"274.181163\" xlink:href=\"#mb2c789c84e\" y=\"148.909265\"/>\n     <use style=\"fill:#1f77b4;stroke:#1f77b4;\" x=\"279.305131\" xlink:href=\"#mb2c789c84e\" y=\"207.692064\"/>\n     <use style=\"fill:#1f77b4;stroke:#1f77b4;\" x=\"284.4291\" xlink:href=\"#mb2c789c84e\" y=\"237.42778\"/>\n     <use style=\"fill:#1f77b4;stroke:#1f77b4;\" x=\"289.553068\" xlink:href=\"#mb2c789c84e\" y=\"265.543188\"/>\n     <use style=\"fill:#1f77b4;stroke:#1f77b4;\" x=\"294.677037\" xlink:href=\"#mb2c789c84e\" y=\"159.180106\"/>\n     <use style=\"fill:#1f77b4;stroke:#1f77b4;\" x=\"299.800986\" xlink:href=\"#mb2c789c84e\" y=\"206.153245\"/>\n     <use style=\"fill:#1f77b4;stroke:#1f77b4;\" x=\"304.924954\" xlink:href=\"#mb2c789c84e\" y=\"203.411705\"/>\n     <use style=\"fill:#1f77b4;stroke:#1f77b4;\" x=\"310.048923\" xlink:href=\"#mb2c789c84e\" y=\"159.596119\"/>\n     <use style=\"fill:#1f77b4;stroke:#1f77b4;\" x=\"315.172891\" xlink:href=\"#mb2c789c84e\" y=\"198.956315\"/>\n     <use style=\"fill:#1f77b4;stroke:#1f77b4;\" x=\"320.29686\" xlink:href=\"#mb2c789c84e\" y=\"199.852655\"/>\n     <use style=\"fill:#1f77b4;stroke:#1f77b4;\" x=\"325.420828\" xlink:href=\"#mb2c789c84e\" y=\"143.067195\"/>\n     <use style=\"fill:#1f77b4;stroke:#1f77b4;\" x=\"330.544797\" xlink:href=\"#mb2c789c84e\" y=\"197.304633\"/>\n     <use style=\"fill:#1f77b4;stroke:#1f77b4;\" x=\"335.668765\" xlink:href=\"#mb2c789c84e\" y=\"169.466483\"/>\n     <use style=\"fill:#1f77b4;stroke:#1f77b4;\" x=\"340.792734\" xlink:href=\"#mb2c789c84e\" y=\"191.836779\"/>\n     <use style=\"fill:#1f77b4;stroke:#1f77b4;\" x=\"345.916702\" xlink:href=\"#mb2c789c84e\" y=\"170.100354\"/>\n     <use style=\"fill:#1f77b4;stroke:#1f77b4;\" x=\"351.040671\" xlink:href=\"#mb2c789c84e\" y=\"222.536582\"/>\n     <use style=\"fill:#1f77b4;stroke:#1f77b4;\" x=\"356.164639\" xlink:href=\"#mb2c789c84e\" y=\"137.445223\"/>\n     <use style=\"fill:#1f77b4;stroke:#1f77b4;\" x=\"361.288588\" xlink:href=\"#mb2c789c84e\" y=\"186.982533\"/>\n     <use style=\"fill:#1f77b4;stroke:#1f77b4;\" x=\"366.412557\" xlink:href=\"#mb2c789c84e\" y=\"231.054483\"/>\n     <use style=\"fill:#1f77b4;stroke:#1f77b4;\" x=\"371.536525\" xlink:href=\"#mb2c789c84e\" y=\"177.926254\"/>\n     <use style=\"fill:#1f77b4;stroke:#1f77b4;\" x=\"376.660494\" xlink:href=\"#mb2c789c84e\" y=\"112.539181\"/>\n     <use style=\"fill:#1f77b4;stroke:#1f77b4;\" x=\"381.784462\" xlink:href=\"#mb2c789c84e\" y=\"189.174088\"/>\n     <use style=\"fill:#1f77b4;stroke:#1f77b4;\" x=\"386.908431\" xlink:href=\"#mb2c789c84e\" y=\"182.499486\"/>\n     <use style=\"fill:#1f77b4;stroke:#1f77b4;\" x=\"392.032399\" xlink:href=\"#mb2c789c84e\" y=\"160.802073\"/>\n     <use style=\"fill:#1f77b4;stroke:#1f77b4;\" x=\"397.156368\" xlink:href=\"#mb2c789c84e\" y=\"162.946367\"/>\n     <use style=\"fill:#1f77b4;stroke:#1f77b4;\" x=\"402.280317\" xlink:href=\"#mb2c789c84e\" y=\"134.052558\"/>\n     <use style=\"fill:#1f77b4;stroke:#1f77b4;\" x=\"407.404286\" xlink:href=\"#mb2c789c84e\" y=\"171.993262\"/>\n     <use style=\"fill:#1f77b4;stroke:#1f77b4;\" x=\"412.528254\" xlink:href=\"#mb2c789c84e\" y=\"190.238598\"/>\n     <use style=\"fill:#1f77b4;stroke:#1f77b4;\" x=\"417.652223\" xlink:href=\"#mb2c789c84e\" y=\"117.821378\"/>\n     <use style=\"fill:#1f77b4;stroke:#1f77b4;\" x=\"422.776191\" xlink:href=\"#mb2c789c84e\" y=\"179.125753\"/>\n     <use style=\"fill:#1f77b4;stroke:#1f77b4;\" x=\"427.90016\" xlink:href=\"#mb2c789c84e\" y=\"148.192702\"/>\n     <use style=\"fill:#1f77b4;stroke:#1f77b4;\" x=\"433.024128\" xlink:href=\"#mb2c789c84e\" y=\"103.204081\"/>\n     <use style=\"fill:#1f77b4;stroke:#1f77b4;\" x=\"438.148097\" xlink:href=\"#mb2c789c84e\" y=\"118.806718\"/>\n     <use style=\"fill:#1f77b4;stroke:#1f77b4;\" x=\"443.272065\" xlink:href=\"#mb2c789c84e\" y=\"101.023123\"/>\n     <use style=\"fill:#1f77b4;stroke:#1f77b4;\" x=\"448.396034\" xlink:href=\"#mb2c789c84e\" y=\"139.61572\"/>\n     <use style=\"fill:#1f77b4;stroke:#1f77b4;\" x=\"453.520002\" xlink:href=\"#mb2c789c84e\" y=\"119.670945\"/>\n     <use style=\"fill:#1f77b4;stroke:#1f77b4;\" x=\"458.643971\" xlink:href=\"#mb2c789c84e\" y=\"157.376178\"/>\n     <use style=\"fill:#1f77b4;stroke:#1f77b4;\" x=\"463.767939\" xlink:href=\"#mb2c789c84e\" y=\"182.640881\"/>\n     <use style=\"fill:#1f77b4;stroke:#1f77b4;\" x=\"468.891908\" xlink:href=\"#mb2c789c84e\" y=\"111.929892\"/>\n     <use style=\"fill:#1f77b4;stroke:#1f77b4;\" x=\"474.015876\" xlink:href=\"#mb2c789c84e\" y=\"127.515099\"/>\n     <use style=\"fill:#1f77b4;stroke:#1f77b4;\" x=\"479.139845\" xlink:href=\"#mb2c789c84e\" y=\"98.009788\"/>\n     <use style=\"fill:#1f77b4;stroke:#1f77b4;\" x=\"484.263813\" xlink:href=\"#mb2c789c84e\" y=\"80.471544\"/>\n     <use style=\"fill:#1f77b4;stroke:#1f77b4;\" x=\"489.387782\" xlink:href=\"#mb2c789c84e\" y=\"79.772216\"/>\n     <use style=\"fill:#1f77b4;stroke:#1f77b4;\" x=\"494.51175\" xlink:href=\"#mb2c789c84e\" y=\"124.860133\"/>\n     <use style=\"fill:#1f77b4;stroke:#1f77b4;\" x=\"499.635719\" xlink:href=\"#mb2c789c84e\" y=\"64.916071\"/>\n     <use style=\"fill:#1f77b4;stroke:#1f77b4;\" x=\"504.759687\" xlink:href=\"#mb2c789c84e\" y=\"128.44557\"/>\n     <use style=\"fill:#1f77b4;stroke:#1f77b4;\" x=\"509.883656\" xlink:href=\"#mb2c789c84e\" y=\"78.517905\"/>\n     <use style=\"fill:#1f77b4;stroke:#1f77b4;\" x=\"515.007624\" xlink:href=\"#mb2c789c84e\" y=\"55.538174\"/>\n     <use style=\"fill:#1f77b4;stroke:#1f77b4;\" x=\"520.131554\" xlink:href=\"#mb2c789c84e\" y=\"86.311596\"/>\n     <use style=\"fill:#1f77b4;stroke:#1f77b4;\" x=\"525.255523\" xlink:href=\"#mb2c789c84e\" y=\"83.641452\"/>\n     <use style=\"fill:#1f77b4;stroke:#1f77b4;\" x=\"530.379491\" xlink:href=\"#mb2c789c84e\" y=\"97.196451\"/>\n    </g>\n   </g>\n   <g id=\"line2d_16\">\n    <defs>\n     <path d=\"M -3 3 \nL 3 3 \nL 3 -3 \nL -3 -3 \nz\n\" id=\"m406bce0b57\" style=\"stroke:#ff7f0e;stroke-linejoin:miter;\"/>\n    </defs>\n    <g clip-path=\"url(#pc9f8bf5fb0)\">\n     <use style=\"fill:#ff7f0e;stroke:#ff7f0e;stroke-linejoin:miter;\" x=\"535.50346\" xlink:href=\"#m406bce0b57\" y=\"80.230988\"/>\n     <use style=\"fill:#ff7f0e;stroke:#ff7f0e;stroke-linejoin:miter;\" x=\"540.627428\" xlink:href=\"#m406bce0b57\" y=\"61.134661\"/>\n     <use style=\"fill:#ff7f0e;stroke:#ff7f0e;stroke-linejoin:miter;\" x=\"545.751397\" xlink:href=\"#m406bce0b57\" y=\"102.887985\"/>\n     <use style=\"fill:#ff7f0e;stroke:#ff7f0e;stroke-linejoin:miter;\" x=\"550.875365\" xlink:href=\"#m406bce0b57\" y=\"93.595177\"/>\n     <use style=\"fill:#ff7f0e;stroke:#ff7f0e;stroke-linejoin:miter;\" x=\"555.999334\" xlink:href=\"#m406bce0b57\" y=\"86.614396\"/>\n     <use style=\"fill:#ff7f0e;stroke:#ff7f0e;stroke-linejoin:miter;\" x=\"561.123302\" xlink:href=\"#m406bce0b57\" y=\"47.186084\"/>\n     <use style=\"fill:#ff7f0e;stroke:#ff7f0e;stroke-linejoin:miter;\" x=\"566.247271\" xlink:href=\"#m406bce0b57\" y=\"69.511633\"/>\n     <use style=\"fill:#ff7f0e;stroke:#ff7f0e;stroke-linejoin:miter;\" x=\"571.371239\" xlink:href=\"#m406bce0b57\" y=\"45.026826\"/>\n     <use style=\"fill:#ff7f0e;stroke:#ff7f0e;stroke-linejoin:miter;\" x=\"576.495208\" xlink:href=\"#m406bce0b57\" y=\"136.050993\"/>\n     <use style=\"fill:#ff7f0e;stroke:#ff7f0e;stroke-linejoin:miter;\" x=\"581.619176\" xlink:href=\"#m406bce0b57\" y=\"24.496364\"/>\n    </g>\n   </g>\n   <g id=\"line2d_17\">\n    <path clip-path=\"url(#pc9f8bf5fb0)\" d=\"M 74.346449 320.085154 \nL 79.470416 317.453961 \nL 84.594382 314.822768 \nL 89.71835 312.191574 \nL 94.842316 309.560383 \nL 99.966284 306.929188 \nL 105.09025 304.297996 \nL 110.214216 301.666803 \nL 115.338182 299.035611 \nL 120.462151 296.404416 \nL 125.586119 293.773222 \nL 130.710083 291.142032 \nL 135.834052 288.510837 \nL 140.95802 285.879642 \nL 146.081984 283.248452 \nL 151.205952 280.617258 \nL 156.329916 277.986068 \nL 161.453884 275.354873 \nL 166.577853 272.723678 \nL 171.701821 270.092484 \nL 176.82579 267.461289 \nL 181.949758 264.830099 \nL 187.073717 262.198909 \nL 192.197686 259.567714 \nL 197.321654 256.93652 \nL 202.445623 254.305325 \nL 207.569591 251.67413 \nL 212.69356 249.04294 \nL 217.817519 246.41175 \nL 222.941487 243.780556 \nL 228.065456 241.149361 \nL 233.189424 238.518171 \nL 238.313383 235.886981 \nL 243.437352 233.255782 \nL 248.56132 230.624592 \nL 253.685289 227.993392 \nL 258.809257 225.362202 \nL 263.933226 222.731012 \nL 269.057194 220.099813 \nL 274.181163 217.468623 \nL 279.305131 214.837423 \nL 284.4291 212.206234 \nL 289.553068 209.575044 \nL 294.677037 206.943844 \nL 299.800986 204.312664 \nL 304.924954 201.681464 \nL 310.048923 199.050274 \nL 315.172891 196.419075 \nL 320.29686 193.787885 \nL 325.420828 191.156695 \nL 330.544797 188.525496 \nL 335.668765 185.894306 \nL 340.792734 183.263106 \nL 345.916702 180.631916 \nL 351.040671 178.000726 \nL 356.164639 175.369527 \nL 361.288588 172.738347 \nL 366.412557 170.107147 \nL 371.536525 167.475957 \nL 376.660494 164.844758 \nL 381.784462 162.213568 \nL 386.908431 159.582378 \nL 392.032399 156.951178 \nL 397.156368 154.319969 \nL 402.280317 151.688798 \nL 407.404286 149.057609 \nL 412.528254 146.426399 \nL 417.652223 143.795209 \nL 422.776191 141.16402 \nL 427.90016 138.53283 \nL 433.024128 135.90162 \nL 438.148097 133.27043 \nL 443.272065 130.639241 \nL 448.396034 128.008051 \nL 453.520002 125.376861 \nL 458.643971 122.745652 \nL 463.767939 120.114462 \nL 468.891908 117.483272 \nL 474.015876 114.852082 \nL 479.139845 112.220892 \nL 484.263813 109.589683 \nL 489.387782 106.958493 \nL 494.51175 104.327303 \nL 499.635719 101.696113 \nL 504.759687 99.064923 \nL 509.883656 96.433714 \nL 515.007624 93.802524 \nL 520.131554 91.171354 \nL 525.255523 88.540164 \nL 530.379491 85.908974 \nL 535.50346 83.277765 \nL 540.627428 80.646575 \nL 545.751397 78.015385 \nL 550.875365 75.384195 \nL 555.999334 72.752986 \nL 561.123302 70.121796 \nL 566.247271 67.490606 \nL 571.371239 64.859416 \nL 576.495208 62.228226 \nL 581.619176 59.597017 \n\" style=\"fill:none;stroke:#2ca02c;stroke-linecap:square;stroke-width:1.5;\"/>\n   </g>\n   <g id=\"line2d_18\">\n    <defs>\n     <path d=\"M 0 3 \nC 0.795609 3 1.55874 2.683901 2.12132 2.12132 \nC 2.683901 1.55874 3 0.795609 3 0 \nC 3 -0.795609 2.683901 -1.55874 2.12132 -2.12132 \nC 1.55874 -2.683901 0.795609 -3 0 -3 \nC -0.795609 -3 -1.55874 -2.683901 -2.12132 -2.12132 \nC -2.683901 -1.55874 -3 -0.795609 -3 0 \nC -3 0.795609 -2.683901 1.55874 -2.12132 2.12132 \nC -1.55874 2.683901 -0.795609 3 0 3 \nz\n\" id=\"m08cf345e21\" style=\"stroke:#d62728;\"/>\n    </defs>\n    <g clip-path=\"url(#pc9f8bf5fb0)\">\n     <use style=\"fill:#d62728;stroke:#d62728;\" x=\"535.50346\" xlink:href=\"#m08cf345e21\" y=\"83.277765\"/>\n     <use style=\"fill:#d62728;stroke:#d62728;\" x=\"540.627428\" xlink:href=\"#m08cf345e21\" y=\"80.646575\"/>\n     <use style=\"fill:#d62728;stroke:#d62728;\" x=\"545.751397\" xlink:href=\"#m08cf345e21\" y=\"78.015385\"/>\n     <use style=\"fill:#d62728;stroke:#d62728;\" x=\"550.875365\" xlink:href=\"#m08cf345e21\" y=\"75.384195\"/>\n     <use style=\"fill:#d62728;stroke:#d62728;\" x=\"555.999334\" xlink:href=\"#m08cf345e21\" y=\"72.752986\"/>\n     <use style=\"fill:#d62728;stroke:#d62728;\" x=\"561.123302\" xlink:href=\"#m08cf345e21\" y=\"70.121796\"/>\n     <use style=\"fill:#d62728;stroke:#d62728;\" x=\"566.247271\" xlink:href=\"#m08cf345e21\" y=\"67.490606\"/>\n     <use style=\"fill:#d62728;stroke:#d62728;\" x=\"571.371239\" xlink:href=\"#m08cf345e21\" y=\"64.859416\"/>\n     <use style=\"fill:#d62728;stroke:#d62728;\" x=\"576.495208\" xlink:href=\"#m08cf345e21\" y=\"62.228226\"/>\n     <use style=\"fill:#d62728;stroke:#d62728;\" x=\"581.619176\" xlink:href=\"#m08cf345e21\" y=\"59.597017\"/>\n    </g>\n   </g>\n   <g id=\"patch_3\">\n    <path d=\"M 48.982812 387.72 \nL 48.982812 7.2 \n\" style=\"fill:none;stroke:#000000;stroke-linecap:square;stroke-linejoin:miter;stroke-width:0.8;\"/>\n   </g>\n   <g id=\"patch_4\">\n    <path d=\"M 606.982813 387.72 \nL 606.982813 7.2 \n\" style=\"fill:none;stroke:#000000;stroke-linecap:square;stroke-linejoin:miter;stroke-width:0.8;\"/>\n   </g>\n   <g id=\"patch_5\">\n    <path d=\"M 48.982812 387.72 \nL 606.982813 387.72 \n\" style=\"fill:none;stroke:#000000;stroke-linecap:square;stroke-linejoin:miter;stroke-width:0.8;\"/>\n   </g>\n   <g id=\"patch_6\">\n    <path d=\"M 48.982812 7.2 \nL 606.982813 7.2 \n\" style=\"fill:none;stroke:#000000;stroke-linecap:square;stroke-linejoin:miter;stroke-width:0.8;\"/>\n   </g>\n   <g id=\"legend_1\">\n    <g id=\"patch_7\">\n     <path d=\"M 55.982812 44.55625 \nL 219.978125 44.55625 \nQ 221.978125 44.55625 221.978125 42.55625 \nL 221.978125 14.2 \nQ 221.978125 12.2 219.978125 12.2 \nL 55.982812 12.2 \nQ 53.982812 12.2 53.982812 14.2 \nL 53.982812 42.55625 \nQ 53.982812 44.55625 55.982812 44.55625 \nz\n\" style=\"fill:#ffffff;opacity:0.8;stroke:#cccccc;stroke-linejoin:miter;\"/>\n    </g>\n    <g id=\"line2d_19\"/>\n    <g id=\"line2d_20\">\n     <g>\n      <use style=\"fill:#1f77b4;stroke:#1f77b4;\" x=\"67.982812\" xlink:href=\"#mb2c789c84e\" y=\"20.298437\"/>\n     </g>\n    </g>\n    <g id=\"text_17\">\n     <!-- Data -->\n     <g transform=\"translate(85.982812 23.798437)scale(0.1 -0.1)\">\n      <defs>\n       <path d=\"M 19.671875 64.796875 \nL 19.671875 8.109375 \nL 31.59375 8.109375 \nQ 46.6875 8.109375 53.6875 14.9375 \nQ 60.6875 21.78125 60.6875 36.53125 \nQ 60.6875 51.171875 53.6875 57.984375 \nQ 46.6875 64.796875 31.59375 64.796875 \nz\nM 9.8125 72.90625 \nL 30.078125 72.90625 \nQ 51.265625 72.90625 61.171875 64.09375 \nQ 71.09375 55.28125 71.09375 36.53125 \nQ 71.09375 17.671875 61.125 8.828125 \nQ 51.171875 0 30.078125 0 \nL 9.8125 0 \nz\n\" id=\"DejaVuSans-68\"/>\n       <path d=\"M 34.28125 27.484375 \nQ 23.390625 27.484375 19.1875 25 \nQ 14.984375 22.515625 14.984375 16.5 \nQ 14.984375 11.71875 18.140625 8.90625 \nQ 21.296875 6.109375 26.703125 6.109375 \nQ 34.1875 6.109375 38.703125 11.40625 \nQ 43.21875 16.703125 43.21875 25.484375 \nL 43.21875 27.484375 \nz\nM 52.203125 31.203125 \nL 52.203125 0 \nL 43.21875 0 \nL 43.21875 8.296875 \nQ 40.140625 3.328125 35.546875 0.953125 \nQ 30.953125 -1.421875 24.3125 -1.421875 \nQ 15.921875 -1.421875 10.953125 3.296875 \nQ 6 8.015625 6 15.921875 \nQ 6 25.140625 12.171875 29.828125 \nQ 18.359375 34.515625 30.609375 34.515625 \nL 43.21875 34.515625 \nL 43.21875 35.40625 \nQ 43.21875 41.609375 39.140625 45 \nQ 35.0625 48.390625 27.6875 48.390625 \nQ 23 48.390625 18.546875 47.265625 \nQ 14.109375 46.140625 10.015625 43.890625 \nL 10.015625 52.203125 \nQ 14.9375 54.109375 19.578125 55.046875 \nQ 24.21875 56 28.609375 56 \nQ 40.484375 56 46.34375 49.84375 \nQ 52.203125 43.703125 52.203125 31.203125 \nz\n\" id=\"DejaVuSans-97\"/>\n       <path d=\"M 18.3125 70.21875 \nL 18.3125 54.6875 \nL 36.8125 54.6875 \nL 36.8125 47.703125 \nL 18.3125 47.703125 \nL 18.3125 18.015625 \nQ 18.3125 11.328125 20.140625 9.421875 \nQ 21.96875 7.515625 27.59375 7.515625 \nL 36.8125 7.515625 \nL 36.8125 0 \nL 27.59375 0 \nQ 17.1875 0 13.234375 3.875 \nQ 9.28125 7.765625 9.28125 18.015625 \nL 9.28125 47.703125 \nL 2.6875 47.703125 \nL 2.6875 54.6875 \nL 9.28125 54.6875 \nL 9.28125 70.21875 \nz\n\" id=\"DejaVuSans-116\"/>\n      </defs>\n      <use xlink:href=\"#DejaVuSans-68\"/>\n      <use x=\"77.001953\" xlink:href=\"#DejaVuSans-97\"/>\n      <use x=\"138.28125\" xlink:href=\"#DejaVuSans-116\"/>\n      <use x=\"177.490234\" xlink:href=\"#DejaVuSans-97\"/>\n     </g>\n    </g>\n    <g id=\"line2d_21\">\n     <path d=\"M 57.982812 34.976562 \nL 77.982812 34.976562 \n\" style=\"fill:none;stroke:#ff7f0e;stroke-linecap:square;stroke-width:1.5;\"/>\n    </g>\n    <g id=\"line2d_22\"/>\n    <g id=\"text_18\">\n     <!-- 1.0239373x +0.33544564 -->\n     <g transform=\"translate(85.982812 38.476562)scale(0.1 -0.1)\">\n      <defs>\n       <path d=\"M 10.6875 12.40625 \nL 21 12.40625 \nL 21 0 \nL 10.6875 0 \nz\n\" id=\"DejaVuSans-46\"/>\n       <path d=\"M 40.578125 39.3125 \nQ 47.65625 37.796875 51.625 33 \nQ 55.609375 28.21875 55.609375 21.1875 \nQ 55.609375 10.40625 48.1875 4.484375 \nQ 40.765625 -1.421875 27.09375 -1.421875 \nQ 22.515625 -1.421875 17.65625 -0.515625 \nQ 12.796875 0.390625 7.625 2.203125 \nL 7.625 11.71875 \nQ 11.71875 9.328125 16.59375 8.109375 \nQ 21.484375 6.890625 26.8125 6.890625 \nQ 36.078125 6.890625 40.9375 10.546875 \nQ 45.796875 14.203125 45.796875 21.1875 \nQ 45.796875 27.640625 41.28125 31.265625 \nQ 36.765625 34.90625 28.71875 34.90625 \nL 20.21875 34.90625 \nL 20.21875 43.015625 \nL 29.109375 43.015625 \nQ 36.375 43.015625 40.234375 45.921875 \nQ 44.09375 48.828125 44.09375 54.296875 \nQ 44.09375 59.90625 40.109375 62.90625 \nQ 36.140625 65.921875 28.71875 65.921875 \nQ 24.65625 65.921875 20.015625 65.03125 \nQ 15.375 64.15625 9.8125 62.3125 \nL 9.8125 71.09375 \nQ 15.4375 72.65625 20.34375 73.4375 \nQ 25.25 74.21875 29.59375 74.21875 \nQ 40.828125 74.21875 47.359375 69.109375 \nQ 53.90625 64.015625 53.90625 55.328125 \nQ 53.90625 49.265625 50.4375 45.09375 \nQ 46.96875 40.921875 40.578125 39.3125 \nz\n\" id=\"DejaVuSans-51\"/>\n       <path d=\"M 10.984375 1.515625 \nL 10.984375 10.5 \nQ 14.703125 8.734375 18.5 7.8125 \nQ 22.3125 6.890625 25.984375 6.890625 \nQ 35.75 6.890625 40.890625 13.453125 \nQ 46.046875 20.015625 46.78125 33.40625 \nQ 43.953125 29.203125 39.59375 26.953125 \nQ 35.25 24.703125 29.984375 24.703125 \nQ 19.046875 24.703125 12.671875 31.3125 \nQ 6.296875 37.9375 6.296875 49.421875 \nQ 6.296875 60.640625 12.9375 67.421875 \nQ 19.578125 74.21875 30.609375 74.21875 \nQ 43.265625 74.21875 49.921875 64.515625 \nQ 56.59375 54.828125 56.59375 36.375 \nQ 56.59375 19.140625 48.40625 8.859375 \nQ 40.234375 -1.421875 26.421875 -1.421875 \nQ 22.703125 -1.421875 18.890625 -0.6875 \nQ 15.09375 0.046875 10.984375 1.515625 \nz\nM 30.609375 32.421875 \nQ 37.25 32.421875 41.125 36.953125 \nQ 45.015625 41.5 45.015625 49.421875 \nQ 45.015625 57.28125 41.125 61.84375 \nQ 37.25 66.40625 30.609375 66.40625 \nQ 23.96875 66.40625 20.09375 61.84375 \nQ 16.21875 57.28125 16.21875 49.421875 \nQ 16.21875 41.5 20.09375 36.953125 \nQ 23.96875 32.421875 30.609375 32.421875 \nz\n\" id=\"DejaVuSans-57\"/>\n       <path d=\"M 8.203125 72.90625 \nL 55.078125 72.90625 \nL 55.078125 68.703125 \nL 28.609375 0 \nL 18.3125 0 \nL 43.21875 64.59375 \nL 8.203125 64.59375 \nz\n\" id=\"DejaVuSans-55\"/>\n       <path d=\"M 54.890625 54.6875 \nL 35.109375 28.078125 \nL 55.90625 0 \nL 45.3125 0 \nL 29.390625 21.484375 \nL 13.484375 0 \nL 2.875 0 \nL 24.125 28.609375 \nL 4.6875 54.6875 \nL 15.28125 54.6875 \nL 29.78125 35.203125 \nL 44.28125 54.6875 \nz\n\" id=\"DejaVuSans-120\"/>\n       <path id=\"DejaVuSans-32\"/>\n       <path d=\"M 46 62.703125 \nL 46 35.5 \nL 73.1875 35.5 \nL 73.1875 27.203125 \nL 46 27.203125 \nL 46 0 \nL 37.796875 0 \nL 37.796875 27.203125 \nL 10.59375 27.203125 \nL 10.59375 35.5 \nL 37.796875 35.5 \nL 37.796875 62.703125 \nz\n\" id=\"DejaVuSans-43\"/>\n       <path d=\"M 10.796875 72.90625 \nL 49.515625 72.90625 \nL 49.515625 64.59375 \nL 19.828125 64.59375 \nL 19.828125 46.734375 \nQ 21.96875 47.46875 24.109375 47.828125 \nQ 26.265625 48.1875 28.421875 48.1875 \nQ 40.625 48.1875 47.75 41.5 \nQ 54.890625 34.8125 54.890625 23.390625 \nQ 54.890625 11.625 47.5625 5.09375 \nQ 40.234375 -1.421875 26.90625 -1.421875 \nQ 22.3125 -1.421875 17.546875 -0.640625 \nQ 12.796875 0.140625 7.71875 1.703125 \nL 7.71875 11.625 \nQ 12.109375 9.234375 16.796875 8.0625 \nQ 21.484375 6.890625 26.703125 6.890625 \nQ 35.15625 6.890625 40.078125 11.328125 \nQ 45.015625 15.765625 45.015625 23.390625 \nQ 45.015625 31 40.078125 35.4375 \nQ 35.15625 39.890625 26.703125 39.890625 \nQ 22.75 39.890625 18.8125 39.015625 \nQ 14.890625 38.140625 10.796875 36.28125 \nz\n\" id=\"DejaVuSans-53\"/>\n      </defs>\n      <use xlink:href=\"#DejaVuSans-49\"/>\n      <use x=\"63.623047\" xlink:href=\"#DejaVuSans-46\"/>\n      <use x=\"95.410156\" xlink:href=\"#DejaVuSans-48\"/>\n      <use x=\"159.033203\" xlink:href=\"#DejaVuSans-50\"/>\n      <use x=\"222.65625\" xlink:href=\"#DejaVuSans-51\"/>\n      <use x=\"286.279297\" xlink:href=\"#DejaVuSans-57\"/>\n      <use x=\"349.902344\" xlink:href=\"#DejaVuSans-51\"/>\n      <use x=\"413.525391\" xlink:href=\"#DejaVuSans-55\"/>\n      <use x=\"477.148438\" xlink:href=\"#DejaVuSans-51\"/>\n      <use x=\"540.771484\" xlink:href=\"#DejaVuSans-120\"/>\n      <use x=\"599.951172\" xlink:href=\"#DejaVuSans-32\"/>\n      <use x=\"631.738281\" xlink:href=\"#DejaVuSans-43\"/>\n      <use x=\"715.527344\" xlink:href=\"#DejaVuSans-48\"/>\n      <use x=\"779.150391\" xlink:href=\"#DejaVuSans-46\"/>\n      <use x=\"810.9375\" xlink:href=\"#DejaVuSans-51\"/>\n      <use x=\"874.560547\" xlink:href=\"#DejaVuSans-51\"/>\n      <use x=\"938.183594\" xlink:href=\"#DejaVuSans-53\"/>\n      <use x=\"1001.806641\" xlink:href=\"#DejaVuSans-52\"/>\n      <use x=\"1065.429688\" xlink:href=\"#DejaVuSans-52\"/>\n      <use x=\"1129.052734\" xlink:href=\"#DejaVuSans-53\"/>\n      <use x=\"1192.675781\" xlink:href=\"#DejaVuSans-54\"/>\n      <use x=\"1256.298828\" xlink:href=\"#DejaVuSans-52\"/>\n     </g>\n    </g>\n   </g>\n  </g>\n </g>\n <defs>\n  <clipPath id=\"pc9f8bf5fb0\">\n   <rect height=\"380.52\" width=\"558\" x=\"48.982812\" y=\"7.2\"/>\n  </clipPath>\n </defs>\n</svg>\n",
      "image/png": "[encoded data removed]"
     },
     "metadata": {
      "needs_background": "light"
     }
    }
   ],
   "source": [
    "x_data = x_train.data.numpy() # 获得x包裹的数据\n",
    "x_pred = x_test.data.numpy()\n",
    "plt.figure(figsize = (10, 7)) #设定绘图窗口大小\n",
    "plt.plot(x_data, y_train.data.numpy(), 'o') # 绘制训练数据\n",
    "plt.plot(x_pred, y_test.data.numpy(), 's') # 绘制测试数据\n",
    "x_data = np.r_[x_data, x_test.data.numpy()]\n",
    "plt.plot(x_data, a.data.numpy() * x_data + b.data.numpy())  #绘制拟合数据\n",
    "plt.plot(x_pred, a.data.numpy() * x_pred + b.data.numpy(), 'o') #绘制预测数据\n",
    "plt.xlabel('X') #更改坐标轴标注\n",
    "plt.ylabel('Y') #更改坐标轴标注\n",
    "str1 = str(a.data.numpy()[0]) + 'x +' + str(b.data.numpy()[0]) #图例信息\n",
    "plt.legend([xplot, yplot],['Data', str1]) #绘制图例\n",
    "plt.show()"
   ]
  },
  {
   "cell_type": "markdown",
   "metadata": {
    "collapsed": true
   },
   "source": [
    "\n",
    "本文件是集智AI学园http://campus.swarma.org 出品的“火炬上的深度学习”第II课的配套源代码"
   ]
  },
  {
   "cell_type": "code",
   "execution_count": 33,
   "metadata": {},
   "outputs": [
    {
     "output_type": "execute_result",
     "data": {
      "text/plain": [
       "tensor([0., 0., 0., 0., 0., 0., 0., 0., 0., 0.])"
      ]
     },
     "metadata": {},
     "execution_count": 33
    }
   ],
   "source": [
    "torch.FloatTensor(np.zeros(10))"
   ]
  },
  {
   "cell_type": "code",
   "execution_count": null,
   "metadata": {
    "collapsed": true
   },
   "outputs": [],
   "source": []
  }
 ],
 "metadata": {
  "kernelspec": {
   "name": "python3",
   "display_name": "Python 3.7.7 64-bit ('pytorch-gpu': conda)",
   "metadata": {
    "interpreter": {
     "hash": "a29bed11d3ada5eadfe77fa5608e2682e1f2aeb84c40b177daf010a4baa84a44"
    }
   }
  },
  "language_info": {
   "codemirror_mode": {
    "name": "ipython",
    "version": 3
   },
   "file_extension": ".py",
   "mimetype": "text/x-python",
   "name": "python",
   "nbconvert_exporter": "python",
   "pygments_lexer": "ipython3",
   "version": "3.7.7-final"
  }
 },
 "nbformat": 4,
 "nbformat_minor": 1
}